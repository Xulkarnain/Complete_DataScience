{
 "cells": [
  {
   "cell_type": "markdown",
   "metadata": {},
   "source": [
    "Guessing game in python"
   ]
  },
  {
   "cell_type": "code",
   "execution_count": null,
   "metadata": {},
   "outputs": [
    {
     "name": "stdout",
     "output_type": "stream",
     "text": [
      "Try higher\n",
      "Try lower\n",
      "You won\n"
     ]
    }
   ],
   "source": [
    "number = int(input(\"Guess:\"))\n",
    "\n",
    "secret_number = 9\n",
    "guess_count = 0\n",
    "\n",
    "while guess_count < 3:\n",
    "\n",
    "    if number == secret_number:\n",
    "        print(\"You won\")\n",
    "        break\n",
    "    elif number < secret_number:\n",
    "        print(\"Try higher\")\n",
    "        number = int(input(\"Guess:\"))\n",
    "        guess_count += 1\n",
    "    elif number > secret_number:\n",
    "        print(\"Try lower\")\n",
    "        number = int(input(\"Guess:\"))\n",
    "        guess_count += 1\n",
    "else :\n",
    "    print(\"You lost\")"
   ]
  },
  {
   "cell_type": "markdown",
   "metadata": {},
   "source": [
    "Car game :\n",
    "\n",
    "commands :\n",
    "1. start \"ready to go\"\n",
    "2. stop  \"car has stopped\"\n",
    "3. quit  \"terminate the program\" \n",
    "4. help \" give instruction about 3 commands\"\n",
    "\n",
    "any else command \"i don't understand it...\"\n"
   ]
  },
  {
   "cell_type": "code",
   "execution_count": 1,
   "metadata": {},
   "outputs": [
    {
     "name": "stdout",
     "output_type": "stream",
     "text": [
      "I don't understand that\n",
      "I don't understand that\n",
      "I don't understand that\n",
      "I don't understand that\n",
      "I don't understand that\n",
      "I don't understand that\n",
      "I don't understand that\n",
      "I don't understand that\n",
      "I don't understand that\n",
      "I don't understand that\n",
      "I don't understand that\n"
     ]
    }
   ],
   "source": [
    "command = input(\">\")\n",
    "\n",
    "while command.lower() != \"quit\":\n",
    "    if command.lower() == \"start\":\n",
    "        print(\"Car started\")\n",
    "        command = input(\">\")\n",
    "    elif command.lower() == \"stop\":\n",
    "        print(\"Car stopped\")\n",
    "        command = input(\">\")    \n",
    "    elif command.lower() == \"help\":\n",
    "        print(\"\"\"\n",
    "        start - to start the car\n",
    "        stop - to stop the car\n",
    "        quit - to exit\n",
    "        \"\"\")\n",
    "        command = input(\">\")\n",
    "\n",
    "    elif command.lower() == \"quit\":\n",
    "        break\n",
    "    else:\n",
    "        print(\"I don't understand that\")\n",
    "        command = input(\">\")\n",
    "    "
   ]
  }
 ],
 "metadata": {
  "kernelspec": {
   "display_name": "Python 3",
   "language": "python",
   "name": "python3"
  },
  "language_info": {
   "codemirror_mode": {
    "name": "ipython",
    "version": 3
   },
   "file_extension": ".py",
   "mimetype": "text/x-python",
   "name": "python",
   "nbconvert_exporter": "python",
   "pygments_lexer": "ipython3",
   "version": "3.12.9"
  }
 },
 "nbformat": 4,
 "nbformat_minor": 2
}
