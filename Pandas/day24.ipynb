{
 "cells": [
  {
   "cell_type": "markdown",
   "id": "377ccb47",
   "metadata": {},
   "source": [
    "## More string Manuplation in Pandas "
   ]
  },
  {
   "cell_type": "code",
   "execution_count": 3,
   "id": "6b749ea6",
   "metadata": {},
   "outputs": [],
   "source": [
    "import pandas as pd"
   ]
  },
  {
   "cell_type": "code",
   "execution_count": 4,
   "id": "797865a0",
   "metadata": {},
   "outputs": [],
   "source": [
    "data = {\n",
    "    'Name' : [\n",
    "        'Monal K', 'Bhuvika', 'Niranjan', 'riyan'\n",
    "    ],\n",
    "    'Email' : [\n",
    "        'm@gmail.com', 'b@gmail.com', 'n@gmail.com', 'r@gmail.com'\n",
    "    ]\n",
    "}\n",
    "\n",
    "df = pd.DataFrame(data)"
   ]
  },
  {
   "cell_type": "code",
   "execution_count": 5,
   "id": "56d07421",
   "metadata": {},
   "outputs": [
    {
     "data": {
      "text/html": [
       "<div>\n",
       "<style scoped>\n",
       "    .dataframe tbody tr th:only-of-type {\n",
       "        vertical-align: middle;\n",
       "    }\n",
       "\n",
       "    .dataframe tbody tr th {\n",
       "        vertical-align: top;\n",
       "    }\n",
       "\n",
       "    .dataframe thead th {\n",
       "        text-align: right;\n",
       "    }\n",
       "</style>\n",
       "<table border=\"1\" class=\"dataframe\">\n",
       "  <thead>\n",
       "    <tr style=\"text-align: right;\">\n",
       "      <th></th>\n",
       "      <th>Name</th>\n",
       "      <th>Email</th>\n",
       "    </tr>\n",
       "  </thead>\n",
       "  <tbody>\n",
       "    <tr>\n",
       "      <th>0</th>\n",
       "      <td>Monal K</td>\n",
       "      <td>m@gmail.com</td>\n",
       "    </tr>\n",
       "    <tr>\n",
       "      <th>1</th>\n",
       "      <td>Bhuvika</td>\n",
       "      <td>b@gmail.com</td>\n",
       "    </tr>\n",
       "    <tr>\n",
       "      <th>2</th>\n",
       "      <td>Niranjan</td>\n",
       "      <td>n@gmail.com</td>\n",
       "    </tr>\n",
       "    <tr>\n",
       "      <th>3</th>\n",
       "      <td>riyan</td>\n",
       "      <td>r@gmail.com</td>\n",
       "    </tr>\n",
       "  </tbody>\n",
       "</table>\n",
       "</div>"
      ],
      "text/plain": [
       "       Name        Email\n",
       "0   Monal K  m@gmail.com\n",
       "1   Bhuvika  b@gmail.com\n",
       "2  Niranjan  n@gmail.com\n",
       "3     riyan  r@gmail.com"
      ]
     },
     "execution_count": 5,
     "metadata": {},
     "output_type": "execute_result"
    }
   ],
   "source": [
    "df.head()"
   ]
  },
  {
   "cell_type": "code",
   "execution_count": 6,
   "id": "907521df",
   "metadata": {},
   "outputs": [
    {
     "data": {
      "text/plain": [
       "0    Monal Kumar\n",
       "1        Bhuvika\n",
       "2       Niranjan\n",
       "3          riyan\n",
       "Name: Name, dtype: object"
      ]
     },
     "execution_count": 6,
     "metadata": {},
     "output_type": "execute_result"
    }
   ],
   "source": [
    "df['Name'].str.replace('K', 'Kumar', regex=False)"
   ]
  },
  {
   "cell_type": "markdown",
   "id": "645d638f",
   "metadata": {},
   "source": [
    "- Padding"
   ]
  },
  {
   "cell_type": "code",
   "execution_count": 8,
   "id": "74dd40c9",
   "metadata": {},
   "outputs": [
    {
     "data": {
      "text/plain": [
       "0    -------------Monal K\n",
       "1    -------------Bhuvika\n",
       "2    ------------Niranjan\n",
       "3    ---------------riyan\n",
       "Name: Name, dtype: object"
      ]
     },
     "execution_count": 8,
     "metadata": {},
     "output_type": "execute_result"
    }
   ],
   "source": [
    "df['Name'].str.pad(width=20, side='left', fillchar='-')"
   ]
  },
  {
   "cell_type": "code",
   "execution_count": 9,
   "id": "d4ea30fe",
   "metadata": {},
   "outputs": [
    {
     "data": {
      "text/plain": [
       "0    Monal K-------------\n",
       "1    Bhuvika-------------\n",
       "2    Niranjan------------\n",
       "3    riyan---------------\n",
       "Name: Name, dtype: object"
      ]
     },
     "execution_count": 9,
     "metadata": {},
     "output_type": "execute_result"
    }
   ],
   "source": [
    "df['Name'].str.pad(width=20, side='right', fillchar='-')"
   ]
  },
  {
   "cell_type": "markdown",
   "id": "d0a1a26e",
   "metadata": {},
   "source": [
    "## Customization"
   ]
  },
  {
   "cell_type": "code",
   "execution_count": null,
   "id": "f8ded17a",
   "metadata": {},
   "outputs": [],
   "source": []
  }
 ],
 "metadata": {
  "kernelspec": {
   "display_name": "Python 3",
   "language": "python",
   "name": "python3"
  },
  "language_info": {
   "codemirror_mode": {
    "name": "ipython",
    "version": 3
   },
   "file_extension": ".py",
   "mimetype": "text/x-python",
   "name": "python",
   "nbconvert_exporter": "python",
   "pygments_lexer": "ipython3",
   "version": "3.12.0"
  }
 },
 "nbformat": 4,
 "nbformat_minor": 5
}
