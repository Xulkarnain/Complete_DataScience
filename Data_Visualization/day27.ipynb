{
 "cells": [
  {
   "cell_type": "markdown",
   "id": "ca6e87b4",
   "metadata": {},
   "source": [
    "# Data-Visualization\n",
    "## Plotly\n",
    "\n",
    "Plotly is a powerful Python library for creating interactive, web-based visualizations.\n",
    "It’s built on JavaScript, HTML, and CSS under the hood — which means it renders plots as interactive web components in notebooks, dashboards, or browsers.\n",
    "\n",
    "- You can zoom, hover, filter, and click inside your plots — which is why it’s ideal for:\n",
    "\n",
    "- Dashboards\n",
    "\n",
    "- Business reporting\n",
    "\n",
    "- Exploratory data analysis with large datasets\n",
    "\n",
    "⚙️ Key Features of Plotly:\n",
    "- 📊 Interactive charts (line, bar, scatter, heatmaps, 3D plots, etc.)\n",
    "\n",
    "- 🖱️ Hover info, zoom, pan, sliders, dropdowns built-in\n",
    "\n",
    "- 🌐 Can be exported as HTML or embedded in web apps\n",
    "\n",
    "- 💼 Often used in production-grade tools like Dash"
   ]
  },
  {
   "cell_type": "code",
   "execution_count": 15,
   "id": "a657545a",
   "metadata": {},
   "outputs": [],
   "source": [
    "import pandas as pd \n",
    "import plotly.express as px\n",
    "import matplotlib.pyplot as plt\n",
    "import nbformat"
   ]
  },
  {
   "cell_type": "code",
   "execution_count": 3,
   "id": "4d99ae51",
   "metadata": {},
   "outputs": [
    {
     "name": "stderr",
     "output_type": "stream",
     "text": [
      "<>:1: SyntaxWarning: invalid escape sequence '\\B'\n",
      "<>:2: SyntaxWarning: invalid escape sequence '\\B'\n",
      "<>:1: SyntaxWarning: invalid escape sequence '\\B'\n",
      "<>:2: SyntaxWarning: invalid escape sequence '\\B'\n",
      "C:\\Users\\darzu\\AppData\\Local\\Temp\\ipykernel_5164\\1713999042.py:1: SyntaxWarning: invalid escape sequence '\\B'\n",
      "  df1 = pd.read_excel('D:\\Btech_CS\\Python\\Data_Visualization\\online_retail_II.xlsx', sheet_name='Year 2009-2010')\n",
      "C:\\Users\\darzu\\AppData\\Local\\Temp\\ipykernel_5164\\1713999042.py:2: SyntaxWarning: invalid escape sequence '\\B'\n",
      "  df2 = pd.read_excel('D:\\Btech_CS\\Python\\Data_Visualization\\online_retail_II.xlsx', sheet_name='Year 2010-2011')\n"
     ]
    }
   ],
   "source": [
    "df1 = pd.read_excel('D:\\Btech_CS\\Python\\Data_Visualization\\online_retail_II.xlsx', sheet_name='Year 2009-2010')\n",
    "df2 = pd.read_excel('D:\\Btech_CS\\Python\\Data_Visualization\\online_retail_II.xlsx', sheet_name='Year 2010-2011')\n"
   ]
  },
  {
   "cell_type": "code",
   "execution_count": 20,
   "id": "e2c4cb28",
   "metadata": {},
   "outputs": [],
   "source": [
    "df = pd.concat([df1, df2], ignore_index=True)"
   ]
  },
  {
   "cell_type": "code",
   "execution_count": 21,
   "id": "b1f3cc16",
   "metadata": {},
   "outputs": [],
   "source": [
    "df['Revenue'] = df['Quantity'] * df['Price']\n",
    "df['Month'] = df['InvoiceDate'].dt.month\n",
    "df_sample = df[['Quantity', 'Price', 'Revenue', 'Country', 'Month']].copy()\n"
   ]
  },
  {
   "cell_type": "code",
   "execution_count": 22,
   "id": "03f12df1",
   "metadata": {},
   "outputs": [
    {
     "data": {
      "text/html": [
       "<div>\n",
       "<style scoped>\n",
       "    .dataframe tbody tr th:only-of-type {\n",
       "        vertical-align: middle;\n",
       "    }\n",
       "\n",
       "    .dataframe tbody tr th {\n",
       "        vertical-align: top;\n",
       "    }\n",
       "\n",
       "    .dataframe thead th {\n",
       "        text-align: right;\n",
       "    }\n",
       "</style>\n",
       "<table border=\"1\" class=\"dataframe\">\n",
       "  <thead>\n",
       "    <tr style=\"text-align: right;\">\n",
       "      <th></th>\n",
       "      <th>Month</th>\n",
       "      <th>Revenue</th>\n",
       "    </tr>\n",
       "  </thead>\n",
       "  <tbody>\n",
       "    <tr>\n",
       "      <th>0</th>\n",
       "      <td>1</td>\n",
       "      <td>1184033.152</td>\n",
       "    </tr>\n",
       "    <tr>\n",
       "      <th>1</th>\n",
       "      <td>2</td>\n",
       "      <td>1031154.076</td>\n",
       "    </tr>\n",
       "    <tr>\n",
       "      <th>2</th>\n",
       "      <td>3</td>\n",
       "      <td>1449115.841</td>\n",
       "    </tr>\n",
       "    <tr>\n",
       "      <th>3</th>\n",
       "      <td>4</td>\n",
       "      <td>1083787.553</td>\n",
       "    </tr>\n",
       "    <tr>\n",
       "      <th>4</th>\n",
       "      <td>5</td>\n",
       "      <td>1338656.340</td>\n",
       "    </tr>\n",
       "  </tbody>\n",
       "</table>\n",
       "</div>"
      ],
      "text/plain": [
       "   Month      Revenue\n",
       "0      1  1184033.152\n",
       "1      2  1031154.076\n",
       "2      3  1449115.841\n",
       "3      4  1083787.553\n",
       "4      5  1338656.340"
      ]
     },
     "execution_count": 22,
     "metadata": {},
     "output_type": "execute_result"
    }
   ],
   "source": [
    "monthly_rev = df_sample.groupby('Month')['Revenue'].sum().reset_index()\n",
    "monthly_rev.head()\n"
   ]
  }
 ],
 "metadata": {
  "kernelspec": {
   "display_name": "Python 3",
   "language": "python",
   "name": "python3"
  },
  "language_info": {
   "codemirror_mode": {
    "name": "ipython",
    "version": 3
   },
   "file_extension": ".py",
   "mimetype": "text/x-python",
   "name": "python",
   "nbconvert_exporter": "python",
   "pygments_lexer": "ipython3",
   "version": "3.12.0"
  }
 },
 "nbformat": 4,
 "nbformat_minor": 5
}
