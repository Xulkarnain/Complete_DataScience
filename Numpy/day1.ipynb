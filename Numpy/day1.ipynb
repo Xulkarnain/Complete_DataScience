{
 "cells": [
  {
   "cell_type": "markdown",
   "id": "fd5d90f6",
   "metadata": {},
   "source": [
    "### 🧠 What Is NumPy?\n",
    "- NumPy (short for Numerical Python) is a fundamental Python library for numerical computing. It provides:\n",
    "\n",
    "- Multidimensional array objects (ndarrays) for efficient storage and manipulation of numerical data.\n",
    "\n",
    "- A vast collection of mathematical functions to operate on these arrays.\n",
    "\n",
    "- Tools for integrating C/C++ and Fortran code, making it a cornerstone for scientific computing in Python."
   ]
  },
  {
   "cell_type": "code",
   "execution_count": 1,
   "id": "d6e76f2a",
   "metadata": {},
   "outputs": [],
   "source": [
    "import numpy as np"
   ]
  },
  {
   "cell_type": "markdown",
   "id": "e612e20c",
   "metadata": {},
   "source": [
    "### Array \n",
    "\n",
    "- np.array() is used to create a NumPy array, known as an ndarray.\n",
    "\n",
    "- Unlike Python lists, NumPy arrays are homogeneous, meaning all elements must be of the same data type (e.g., all integers, all floats).\n",
    "\n",
    "- It allows fast and vectorized operations across entire arrays."
   ]
  },
  {
   "cell_type": "code",
   "execution_count": 2,
   "id": "768768bc",
   "metadata": {},
   "outputs": [
    {
     "name": "stdout",
     "output_type": "stream",
     "text": [
      "[1 2 3 4]\n",
      "<class 'numpy.ndarray'>\n",
      "<class 'numpy.int64'>\n"
     ]
    }
   ],
   "source": [
    "arrray = np.array([1,2,3,4])\n",
    "\n",
    "print(arrray)\n",
    "print(type(arrray))\n",
    "print(type(arrray[0]))"
   ]
  },
  {
   "cell_type": "markdown",
   "id": "6e1c8dd3",
   "metadata": {},
   "source": [
    "### `np.arange` \n",
    "\n",
    "- Create an array of some size with gap between the works like `range()`\n",
    "\n",
    "Syntax : ` np.arange(start , stop , step)`"
   ]
  },
  {
   "cell_type": "code",
   "execution_count": 3,
   "id": "7b6cd97e",
   "metadata": {},
   "outputs": [
    {
     "name": "stdout",
     "output_type": "stream",
     "text": [
      "[0 1 2 3 4]\n",
      "[1 3 5 7 9]\n",
      "<class 'numpy.ndarray'>\n"
     ]
    }
   ],
   "source": [
    "print(np.arange(5))\n",
    "\n",
    "print(np.arange(1, 10, 2))\n",
    "\n",
    "np_arange = np.arange(1, 10, 2)\n",
    "print(type(np_arange))"
   ]
  },
  {
   "cell_type": "markdown",
   "id": "b8b9eb83",
   "metadata": {},
   "source": [
    "### np.linespace\n",
    "\n",
    "- used to create array of any size with gap of ame number of no.s between them \n",
    "\n",
    "Syntax : `np.linespace(start, stop , num = x)`"
   ]
  },
  {
   "cell_type": "code",
   "execution_count": 6,
   "id": "479a3a2b",
   "metadata": {},
   "outputs": [
    {
     "name": "stdout",
     "output_type": "stream",
     "text": [
      "[  1.   2.   3.   4.   5.   6.   7.   8.   9.  10.  11.  12.  13.  14.\n",
      "  15.  16.  17.  18.  19.  20.  21.  22.  23.  24.  25.  26.  27.  28.\n",
      "  29.  30.  31.  32.  33.  34.  35.  36.  37.  38.  39.  40.  41.  42.\n",
      "  43.  44.  45.  46.  47.  48.  49.  50.  51.  52.  53.  54.  55.  56.\n",
      "  57.  58.  59.  60.  61.  62.  63.  64.  65.  66.  67.  68.  69.  70.\n",
      "  71.  72.  73.  74.  75.  76.  77.  78.  79.  80.  81.  82.  83.  84.\n",
      "  85.  86.  87.  88.  89.  90.  91.  92.  93.  94.  95.  96.  97.  98.\n",
      "  99. 100.]\n",
      "<class 'numpy.ndarray'>\n"
     ]
    }
   ],
   "source": [
    "np_linspace = np.linspace(1,100,100)\n",
    "print(np_linspace)\n",
    "print(type(np_linspace))"
   ]
  },
  {
   "cell_type": "markdown",
   "id": "5cf9d8d4",
   "metadata": {},
   "source": [
    "### np.zeroshape\n",
    "\n",
    "- used to show the dimension of array \n",
    "- `np.ndim` tells how many dimensions "
   ]
  },
  {
   "cell_type": "code",
   "execution_count": 7,
   "id": "b58c40c3",
   "metadata": {},
   "outputs": [
    {
     "name": "stdout",
     "output_type": "stream",
     "text": [
      "[[0. 0. 0. 0. 0.]\n",
      " [0. 0. 0. 0. 0.]\n",
      " [0. 0. 0. 0. 0.]\n",
      " [0. 0. 0. 0. 0.]\n",
      " [0. 0. 0. 0. 0.]]\n"
     ]
    }
   ],
   "source": [
    "npz_2 = np.zeros((5,5))\n",
    "print(npz_2)"
   ]
  }
 ],
 "metadata": {
  "kernelspec": {
   "display_name": "Python 3",
   "language": "python",
   "name": "python3"
  },
  "language_info": {
   "codemirror_mode": {
    "name": "ipython",
    "version": 3
   },
   "file_extension": ".py",
   "mimetype": "text/x-python",
   "name": "python",
   "nbconvert_exporter": "python",
   "pygments_lexer": "ipython3",
   "version": "3.12.0"
  }
 },
 "nbformat": 4,
 "nbformat_minor": 5
}
