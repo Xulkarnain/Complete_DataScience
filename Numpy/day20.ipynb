{
 "cells": [
  {
   "cell_type": "markdown",
   "id": "a8951ea7",
   "metadata": {},
   "source": [
    "# NumPy Array Creation & Properties"
   ]
  },
  {
   "cell_type": "markdown",
   "id": "cc64f7e1",
   "metadata": {},
   "source": [
    "### 1. **`np.zeros(shape)`**\n",
    "   - Creates an array filled with zeros."
   ]
  },
  {
   "cell_type": "code",
   "execution_count": 2,
   "id": "9b76dde0",
   "metadata": {},
   "outputs": [
    {
     "data": {
      "text/plain": [
       "array([[0., 0., 0.],\n",
       "       [0., 0., 0.],\n",
       "       [0., 0., 0.]])"
      ]
     },
     "execution_count": 2,
     "metadata": {},
     "output_type": "execute_result"
    }
   ],
   "source": [
    "import numpy as np\n",
    "\n",
    "np.zeros(3)\n",
    "\n",
    "np.zeros((3,3))"
   ]
  },
  {
   "cell_type": "markdown",
   "id": "59aa3b50",
   "metadata": {},
   "source": [
    "### 2. **`np.full(shape, fill_value)`**\n",
    "   - Creates an array of given shape filled with a specified value."
   ]
  },
  {
   "cell_type": "code",
   "execution_count": 3,
   "id": "1b905dbc",
   "metadata": {},
   "outputs": [
    {
     "data": {
      "text/plain": [
       "array([[1, 1, 1, 1, 1],\n",
       "       [1, 1, 1, 1, 1],\n",
       "       [1, 1, 1, 1, 1],\n",
       "       [1, 1, 1, 1, 1]])"
      ]
     },
     "execution_count": 3,
     "metadata": {},
     "output_type": "execute_result"
    }
   ],
   "source": [
    "np.full((4,5), 1)\n"
   ]
  },
  {
   "cell_type": "markdown",
   "id": "bbd95e16",
   "metadata": {},
   "source": [
    "### 3. **`np.eye(n)`**\n",
    "   - Creates an identity matrix of size `n x n`.\n",
    "   - Diagonal has 1s, rest are 0s."
   ]
  },
  {
   "cell_type": "code",
   "execution_count": 4,
   "id": "4b0a3658",
   "metadata": {},
   "outputs": [
    {
     "data": {
      "text/plain": [
       "array([[1., 0., 0.],\n",
       "       [0., 1., 0.],\n",
       "       [0., 0., 1.],\n",
       "       [0., 0., 0.],\n",
       "       [0., 0., 0.]])"
      ]
     },
     "execution_count": 4,
     "metadata": {},
     "output_type": "execute_result"
    }
   ],
   "source": [
    "np.eye(5)\n",
    "\n",
    "np.eye(5,3) # creates identity matrix with 1's in the diagonal and 0's elsewhere, with 5 rows and 3 columns\n",
    "\n"
   ]
  },
  {
   "cell_type": "code",
   "execution_count": 5,
   "id": "1879d089",
   "metadata": {},
   "outputs": [
    {
     "data": {
      "text/plain": [
       "array([[0., 0., 0., 0., 0.],\n",
       "       [1., 0., 0., 0., 0.],\n",
       "       [0., 1., 0., 0., 0.],\n",
       "       [0., 0., 1., 0., 0.],\n",
       "       [0., 0., 0., 1., 0.]])"
      ]
     },
     "execution_count": 5,
     "metadata": {},
     "output_type": "execute_result"
    }
   ],
   "source": [
    "\n",
    "np.eye(5,5,-1) # creates identity matrix with 1's in the diagonal and 0's elsewhere, with 5 rows and 5 columns, but shifted by -1 (one row up)\n"
   ]
  },
  {
   "cell_type": "markdown",
   "id": "5c164b09",
   "metadata": {},
   "source": [
    "### 4. **`np.empty(shape)`**\n",
    "   - Returns a new array of given shape, without initializing entries (may contain garbage values)."
   ]
  },
  {
   "cell_type": "code",
   "execution_count": 6,
   "id": "bb9a3f9e",
   "metadata": {},
   "outputs": [
    {
     "data": {
      "text/plain": [
       "array([[0., 0., 0.],\n",
       "       [0., 0., 0.],\n",
       "       [0., 0., 0.]])"
      ]
     },
     "execution_count": 6,
     "metadata": {},
     "output_type": "execute_result"
    }
   ],
   "source": [
    "np.empty((3,3))"
   ]
  },
  {
   "cell_type": "markdown",
   "id": "d7f98bad",
   "metadata": {},
   "source": [
    "\n",
    "### 5. **`np.random.rand(d1, d2, ...)`**\n",
    "   - Generates an array with random floats in the range [0.0, 1.0).\n",
    "   - Example: `np.random.rand(2, 3)` → 2x3 matrix of random floats"
   ]
  },
  {
   "cell_type": "code",
   "execution_count": 7,
   "id": "9eff2571",
   "metadata": {},
   "outputs": [
    {
     "data": {
      "text/plain": [
       "array([[0.9329812 , 0.46299662, 0.07891255],\n",
       "       [0.83691381, 0.71345438, 0.37640926],\n",
       "       [0.92916848, 0.24119187, 0.92788976]])"
      ]
     },
     "execution_count": 7,
     "metadata": {},
     "output_type": "execute_result"
    }
   ],
   "source": [
    "np.random.rand(3,3)"
   ]
  },
  {
   "cell_type": "markdown",
   "id": "b8f714e4",
   "metadata": {},
   "source": [
    "### 6. **`np.random.randint(start, end, size)`**\n",
    "   - Returns random integers from `start` (inclusive) to `end` (exclusive).\n",
    "   - Example: `np.random.randint(0, 10, (2, 3))` → 2x3 matrix of ints between 0–9\n"
   ]
  },
  {
   "cell_type": "code",
   "execution_count": 8,
   "id": "4d0b0c99",
   "metadata": {},
   "outputs": [],
   "source": [
    "arr  = np.random.randint(0, 10 , (4,3))"
   ]
  },
  {
   "cell_type": "markdown",
   "id": "abe8cea6",
   "metadata": {},
   "source": [
    "### 7. **`array.itemsize`**\n",
    "   - Returns the size (in bytes) of one array element.\n",
    "   - Example: `arr.itemsize` → size of a single element"
   ]
  },
  {
   "cell_type": "code",
   "execution_count": 9,
   "id": "c7a88943",
   "metadata": {},
   "outputs": [
    {
     "data": {
      "text/plain": [
       "4"
      ]
     },
     "execution_count": 9,
     "metadata": {},
     "output_type": "execute_result"
    }
   ],
   "source": [
    "arr.itemsize\n"
   ]
  },
  {
   "cell_type": "markdown",
   "id": "e4597a61",
   "metadata": {},
   "source": [
    "\n",
    "### 8. **`array.nbytes`**\n",
    "   - Returns the total number of bytes consumed by the array.\n",
    "   - Equals `itemsize * size`.\n"
   ]
  },
  {
   "cell_type": "code",
   "execution_count": 10,
   "id": "b09bd7fa",
   "metadata": {},
   "outputs": [
    {
     "data": {
      "text/plain": [
       "48"
      ]
     },
     "execution_count": 10,
     "metadata": {},
     "output_type": "execute_result"
    }
   ],
   "source": [
    "arr.nbytes"
   ]
  },
  {
   "cell_type": "markdown",
   "id": "6b1805bb",
   "metadata": {},
   "source": [
    "### 9. **`array.T`**\n",
    "   - Returns the transpose of the array (only works on 2D or higher).\n",
    "   - Example: `arr.T`"
   ]
  },
  {
   "cell_type": "code",
   "execution_count": 11,
   "id": "90d0c8ca",
   "metadata": {},
   "outputs": [
    {
     "name": "stdout",
     "output_type": "stream",
     "text": [
      "[[9 4 8]\n",
      " [6 2 8]\n",
      " [2 0 7]\n",
      " [3 6 1]]\n",
      "\n",
      "[[9 6 2 3]\n",
      " [4 2 0 6]\n",
      " [8 8 7 1]]\n"
     ]
    }
   ],
   "source": [
    "print(arr)\n",
    "\n",
    "b = arr.T\n",
    "print(   )\n",
    "\n",
    "\n",
    "print(b)"
   ]
  },
  {
   "cell_type": "markdown",
   "id": "b440481f",
   "metadata": {},
   "source": [
    "### 10. Indexing & Slicing\n",
    "- Access subsets of arrays using slicing.\n",
    "- Syntax: `array[start:stop:step]`\n",
    "- Example: `mat[1:3, ::2]` → rows 1 to 2, every second column\n"
   ]
  },
  {
   "cell_type": "code",
   "execution_count": 12,
   "id": "18387fc1",
   "metadata": {},
   "outputs": [
    {
     "name": "stdout",
     "output_type": "stream",
     "text": [
      "2\n"
     ]
    }
   ],
   "source": [
    "c = np.array([1,2,3])\n",
    "\n",
    "print(c[1])"
   ]
  },
  {
   "cell_type": "code",
   "execution_count": 16,
   "id": "b1ecdef8",
   "metadata": {},
   "outputs": [
    {
     "name": "stdout",
     "output_type": "stream",
     "text": [
      "[[1 0 9]\n",
      " [6 0 1]\n",
      " [3 9 6]]\n"
     ]
    }
   ],
   "source": [
    "a = np.random.randint(0,10 , (3,3))\n",
    "\n",
    "print(a)\n"
   ]
  },
  {
   "cell_type": "code",
   "execution_count": null,
   "id": "51cfa2c1",
   "metadata": {},
   "outputs": [
    {
     "name": "stdout",
     "output_type": "stream",
     "text": [
      "1\n",
      "[[6 0]\n",
      " [3 9]]\n"
     ]
    }
   ],
   "source": [
    "print(a[1,2])  # Accessing element at row 1, column 2\n",
    "\n",
    "print(a[1:3, 0:2]) # Slicing rows 1 to 2 and columns 0 to 1"
   ]
  },
  {
   "cell_type": "markdown",
   "id": "46c6ae87",
   "metadata": {},
   "source": [
    "### 11. Boolean Indexing\n",
    "- Filter elements based on condition.\n",
    "- Example: `arr > 10` returns a boolean array"
   ]
  },
  {
   "cell_type": "code",
   "execution_count": 19,
   "id": "badbb43b",
   "metadata": {},
   "outputs": [
    {
     "name": "stdout",
     "output_type": "stream",
     "text": [
      "[ True  True  True]\n"
     ]
    }
   ],
   "source": [
    "print(c>0)"
   ]
  },
  {
   "cell_type": "markdown",
   "id": "061e2274",
   "metadata": {},
   "source": [
    "### 12. `np.where(condition)`\n",
    "- Returns indices where the condition is `True`.\n",
    "- Example: `np.where(arr > 20)` → indices where element > 20"
   ]
  },
  {
   "cell_type": "code",
   "execution_count": 23,
   "id": "1c379c16",
   "metadata": {},
   "outputs": [
    {
     "name": "stdout",
     "output_type": "stream",
     "text": [
      "(array([0, 1, 2, 2]), array([2, 0, 1, 2]))\n"
     ]
    }
   ],
   "source": [
    "print(np.where(a >5))"
   ]
  },
  {
   "cell_type": "markdown",
   "id": "71a872e3",
   "metadata": {},
   "source": [
    "### 13. Reshaping vs Resizing\n",
    "\n",
    "#### `arr.reshape(new_shape)`\n",
    "- Changes the shape without changing data.\n",
    "- Fails if total size mismatches.\n",
    "- Example: `arr.reshape(2, 3)`\n",
    "\n",
    "#### `arr.resize(new_shape)`\n",
    "- Resizes array and fills extra places with `0` if needed.\n",
    "- Changes the original array in-place."
   ]
  },
  {
   "cell_type": "code",
   "execution_count": 25,
   "id": "6efbbd31",
   "metadata": {},
   "outputs": [
    {
     "ename": "ValueError",
     "evalue": "cannot reshape array of size 9 into shape (1,11)",
     "output_type": "error",
     "traceback": [
      "\u001b[1;31m---------------------------------------------------------------------------\u001b[0m",
      "\u001b[1;31mValueError\u001b[0m                                Traceback (most recent call last)",
      "Cell \u001b[1;32mIn[25], line 1\u001b[0m\n\u001b[1;32m----> 1\u001b[0m \u001b[43ma\u001b[49m\u001b[38;5;241;43m.\u001b[39;49m\u001b[43mreshape\u001b[49m\u001b[43m(\u001b[49m\u001b[38;5;241;43m1\u001b[39;49m\u001b[43m,\u001b[49m\u001b[38;5;241;43m11\u001b[39;49m\u001b[43m)\u001b[49m\n",
      "\u001b[1;31mValueError\u001b[0m: cannot reshape array of size 9 into shape (1,11)"
     ]
    }
   ],
   "source": [
    "a.reshape(1,11)"
   ]
  },
  {
   "cell_type": "code",
   "execution_count": 28,
   "id": "5383de6a",
   "metadata": {},
   "outputs": [
    {
     "name": "stdout",
     "output_type": "stream",
     "text": [
      "[1 1 1 1 1 1 1 1 1 1 1]\n"
     ]
    }
   ],
   "source": [
    "a= np.resize(1,11)\n",
    "\n",
    "print(a)"
   ]
  },
  {
   "cell_type": "markdown",
   "id": "f1bf9a83",
   "metadata": {},
   "source": [
    "### 14. Flattening Arrays\n",
    "- `arr.flatten()` → Converts any N-D array to 1-D array.\n",
    "- Does **not** affect the original array."
   ]
  },
  {
   "cell_type": "code",
   "execution_count": 32,
   "id": "6b5e23f5",
   "metadata": {},
   "outputs": [
    {
     "name": "stdout",
     "output_type": "stream",
     "text": [
      "[[5 0 4]\n",
      " [1 1 4]\n",
      " [7 4 4]]\n"
     ]
    },
    {
     "data": {
      "text/plain": [
       "array([5, 0, 4, 1, 1, 4, 7, 4, 4], dtype=int32)"
      ]
     },
     "execution_count": 32,
     "metadata": {},
     "output_type": "execute_result"
    }
   ],
   "source": [
    "arr = np.random.randint(0,10 , (3,3))\n",
    "\n",
    "print(arr)\n",
    "\n",
    "arr.flatten()"
   ]
  },
  {
   "cell_type": "markdown",
   "id": "a9fc4867",
   "metadata": {},
   "source": [
    "### 15. Shape Attribute\n",
    "- `arr.shape` → Returns the shape of the array as a tuple.\n",
    "- Example: `(3, 4)` means 3 rows, 4 columns"
   ]
  },
  {
   "cell_type": "code",
   "execution_count": 33,
   "id": "652c2b02",
   "metadata": {},
   "outputs": [
    {
     "data": {
      "text/plain": [
       "(3, 3)"
      ]
     },
     "execution_count": 33,
     "metadata": {},
     "output_type": "execute_result"
    }
   ],
   "source": [
    "arr.shape"
   ]
  },
  {
   "cell_type": "markdown",
   "id": "973e6dda",
   "metadata": {},
   "source": [
    "### 16. `np.squeeze()`\n",
    "- Removes dimensions of size 1.\n",
    "- Useful for converting shapes like `(1, 4, 1)` to `(4,)`.\n"
   ]
  },
  {
   "cell_type": "code",
   "execution_count": 36,
   "id": "e09524ba",
   "metadata": {},
   "outputs": [
    {
     "name": "stdout",
     "output_type": "stream",
     "text": [
      "[[1 1 1]\n",
      " [1 1 1]\n",
      " [1 1 1]]\n"
     ]
    }
   ],
   "source": [
    "narr = np.full(((3,3)), 1)\n",
    "\n",
    "print(narr)"
   ]
  },
  {
   "cell_type": "code",
   "execution_count": 39,
   "id": "8d458e27",
   "metadata": {},
   "outputs": [
    {
     "data": {
      "text/plain": [
       "array([[1, 1, 1],\n",
       "       [1, 1, 1],\n",
       "       [1, 1, 1]])"
      ]
     },
     "execution_count": 39,
     "metadata": {},
     "output_type": "execute_result"
    }
   ],
   "source": [
    "narr.squeeze()"
   ]
  },
  {
   "cell_type": "markdown",
   "id": "4ba1fdc9",
   "metadata": {},
   "source": [
    "### 17. Summing Across Axis\n",
    "\n",
    "#### `np.sum(arr, axis=0)`\n",
    "- Column-wise sum (downward direction)\n",
    "\n",
    "#### `np.sum(arr, axis=1)`\n",
    "- Row-wise sum (horizontal direction)"
   ]
  },
  {
   "cell_type": "code",
   "execution_count": 46,
   "id": "403744cf",
   "metadata": {},
   "outputs": [
    {
     "name": "stdout",
     "output_type": "stream",
     "text": [
      "[[3 4 2]\n",
      " [2 1 9]\n",
      " [3 6 1]]\n",
      "\n",
      "[ 8 11 12]\n",
      "[ 9 12 10]\n"
     ]
    }
   ],
   "source": [
    "arra = np.random.randint(0,10 , (3,3))\n",
    "\n",
    "print(arra)\n",
    "print(   )\n",
    "print(np.sum(arra , axis=0))  # Sum along columns\n",
    "\n",
    "print(np.sum(arra , axis=1))  # Sum along rows"
   ]
  }
 ],
 "metadata": {
  "kernelspec": {
   "display_name": "Python 3",
   "language": "python",
   "name": "python3"
  },
  "language_info": {
   "codemirror_mode": {
    "name": "ipython",
    "version": 3
   },
   "file_extension": ".py",
   "mimetype": "text/x-python",
   "name": "python",
   "nbconvert_exporter": "python",
   "pygments_lexer": "ipython3",
   "version": "3.12.0"
  }
 },
 "nbformat": 4,
 "nbformat_minor": 5
}
