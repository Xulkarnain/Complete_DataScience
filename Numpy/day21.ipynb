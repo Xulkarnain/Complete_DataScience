{
 "cells": [
  {
   "cell_type": "markdown",
   "id": "a22123ca",
   "metadata": {},
   "source": [
    "# NumPy Mathematical Operations\n",
    "\n",
    "In **pure Python**, adding two lists results in **concatenation**, not element-wise addition:"
   ]
  },
  {
   "cell_type": "code",
   "execution_count": 1,
   "id": "a4e6dd35",
   "metadata": {},
   "outputs": [
    {
     "name": "stdout",
     "output_type": "stream",
     "text": [
      "[1, 2, 3, 4, 5, 6]\n"
     ]
    }
   ],
   "source": [
    "a = [1,2,3]\n",
    "b = [4,5,6]\n",
    "\n",
    "print(a+b)"
   ]
  },
  {
   "cell_type": "markdown",
   "id": "13c285a6",
   "metadata": {},
   "source": [
    "## 🔹 Why NumPy?\n",
    "- With NumPy arrays, you can perform vectorized operations — arithmetic and logical — directly between arrays:"
   ]
  },
  {
   "cell_type": "code",
   "execution_count": 2,
   "id": "22fb9230",
   "metadata": {},
   "outputs": [
    {
     "name": "stdout",
     "output_type": "stream",
     "text": [
      "[5 7 9]\n",
      "[-3 -3 -3]\n",
      "[ 4 10 18]\n",
      "[0.25 0.4  0.5 ]\n"
     ]
    }
   ],
   "source": [
    "import numpy as np\n",
    "\n",
    "a = np.array([1, 2, 3])\n",
    "b = np.array([4, 5, 6])\n",
    "\n",
    "print(a + b)     \n",
    "print(a - b)     \n",
    "print(a * b)     \n",
    "print(a / b)     \n"
   ]
  },
  {
   "cell_type": "markdown",
   "id": "34e8d519",
   "metadata": {},
   "source": [
    "## 🔸 Comparison Operations\n",
    "- These return a boolean array:"
   ]
  },
  {
   "cell_type": "code",
   "execution_count": 3,
   "id": "ccc11ff1",
   "metadata": {},
   "outputs": [
    {
     "name": "stdout",
     "output_type": "stream",
     "text": [
      "[False False False]\n",
      "[ True  True  True]\n",
      "[False False False]\n"
     ]
    }
   ],
   "source": [
    "print(a > b )\n",
    "print(a< b)\n",
    "print(a == b)\n"
   ]
  },
  {
   "cell_type": "markdown",
   "id": "2cacc51d",
   "metadata": {},
   "source": [
    "## 🔸 Bitwise Operations\n",
    "- Useful for binary-level manipulation:"
   ]
  },
  {
   "cell_type": "code",
   "execution_count": 4,
   "id": "e0930837",
   "metadata": {},
   "outputs": [
    {
     "name": "stdout",
     "output_type": "stream",
     "text": [
      "[0 0 2]\n",
      "[5 7 7]\n"
     ]
    }
   ],
   "source": [
    "print(a & b)     # Bitwise AND\n",
    "print(a | b)     # Bitwise OR\n"
   ]
  },
  {
   "cell_type": "markdown",
   "id": "eb1f7f8b",
   "metadata": {},
   "source": [
    "## 🔸 Modulus and Power"
   ]
  },
  {
   "cell_type": "code",
   "execution_count": 6,
   "id": "740d7245",
   "metadata": {},
   "outputs": [
    {
     "name": "stdout",
     "output_type": "stream",
     "text": [
      "[  1  32 729]\n",
      "[1 2 3]\n"
     ]
    }
   ],
   "source": [
    "print(a ** b)\n",
    "print(a % b)      "
   ]
  },
  {
   "cell_type": "markdown",
   "id": "680e984c",
   "metadata": {},
   "source": [
    "## 🔸Common Math Functions :"
   ]
  },
  {
   "cell_type": "code",
   "execution_count": 8,
   "id": "8bd51046",
   "metadata": {},
   "outputs": [
    {
     "name": "stdout",
     "output_type": "stream",
     "text": [
      "[1.         1.41421356 1.73205081 2.        ]\n",
      "[ 2.71828183  7.3890561  20.08553692 54.59815003]\n",
      "[0.         0.69314718 1.09861229 1.38629436]\n",
      "[ 0.84147098  0.90929743  0.14112001 -0.7568025 ]\n"
     ]
    }
   ],
   "source": [
    "a = np.array([1, 2, 3, 4])\n",
    "\n",
    "print(np.sqrt(a))  # Square root\n",
    "print(np.exp(a))    # Exponential   \n",
    "print(np.log(a))    # Natural logarithm\n",
    "print(np.sin(a))    # Sine"
   ]
  },
  {
   "cell_type": "markdown",
   "id": "b1b7b24d",
   "metadata": {},
   "source": [
    "## 🔸Matrix Operations : \n",
    "\n",
    "- Element Wise Multiplication\n",
    "- In NumPy, **element-wise multiplication** is performed when both matrices (arrays) have the **same shape**.\n",
    "- Each element from the first array is multiplied by the corresponding element in the second array."
   ]
  },
  {
   "cell_type": "code",
   "execution_count": 11,
   "id": "be397c73",
   "metadata": {},
   "outputs": [
    {
     "name": "stdout",
     "output_type": "stream",
     "text": [
      "[1000 9800 3300 1500]\n",
      "15600\n"
     ]
    }
   ],
   "source": [
    "units = np.array([10 , 49 , 22 , 5])\n",
    "\n",
    "profit = np.array([100, 200, 150, 300])\n",
    "\n",
    "print(units * profit)\n",
    "\n",
    "print(np.sum(units * profit))  # Total profit"
   ]
  },
  {
   "cell_type": "markdown",
   "id": "da86f4f0",
   "metadata": {},
   "source": [
    "## 🔸 Matrix Multiplication (Dot Product)\n",
    "- If you want traditional matrix multiplication:\n",
    "\n",
    "- 🔁 Requirements for Element-wise Multiplication\n",
    "\n",
    "- 1 matrix's row should be equal to another matrixs column like 2 x 3 * 3 x 2\n",
    "\n",
    "- Broadcasting can be used if shapes are compatible\n",
    "\n",
    "-- \n",
    "\n",
    "- dot_result = np.dot(a, b)\n",
    " - OR\n",
    "- dot_result = a @ b\n"
   ]
  },
  {
   "cell_type": "code",
   "execution_count": 19,
   "id": "ab1de4d4",
   "metadata": {},
   "outputs": [
    {
     "name": "stdout",
     "output_type": "stream",
     "text": [
      "(4, 3)\n",
      "(3,)\n",
      "[ 220  580  940 1300]\n"
     ]
    }
   ],
   "source": [
    "m1 = np.array([\n",
    "    [10 , 20, 30],\n",
    "    [40 , 50, 60],\n",
    "    [70 , 80, 90],\n",
    "    [100 , 110, 120]\n",
    "])\n",
    "\n",
    "m2 = np.array([ 5 , 4, 3])\n",
    "\n",
    "print(m1.shape)\n",
    "\n",
    "print(m2.shape)\n",
    "\n",
    "print(m1 @ m2)  # Matrix multiplication"
   ]
  },
  {
   "cell_type": "markdown",
   "id": "d6a51e7a",
   "metadata": {},
   "source": [
    "# 📡 NumPy Broadcasting\n",
    "\n",
    "## 🔹 What is Broadcasting?\n",
    "\n",
    "Broadcasting in NumPy allows **arithmetic operations** on arrays of **different shapes** by **automatically expanding** one array to match the shape of the other — **without actually copying data**.\n",
    "\n",
    "Instead of throwing an error, NumPy uses broadcasting rules to **stretch the smaller array** across the larger one when compatible."
   ]
  },
  {
   "cell_type": "code",
   "execution_count": 20,
   "id": "40b23466",
   "metadata": {},
   "outputs": [
    {
     "name": "stdout",
     "output_type": "stream",
     "text": [
      "[12 13 14 15]\n"
     ]
    }
   ],
   "source": [
    "\n",
    "a = np.array([2, 3, 4, 5])\n",
    "b = 10\n",
    "\n",
    "print(a + b)  # [12 13 14 15]\n"
   ]
  },
  {
   "cell_type": "markdown",
   "id": "56603f5f",
   "metadata": {},
   "source": [
    "## 🔹creating array from existing data :\n",
    "\n",
    "- like list tuple etc"
   ]
  },
  {
   "cell_type": "code",
   "execution_count": 25,
   "id": "c87e7394",
   "metadata": {},
   "outputs": [
    {
     "name": "stdout",
     "output_type": "stream",
     "text": [
      "<class 'list'>\n",
      "<class 'tuple'>\n",
      "int64\n",
      "int64\n"
     ]
    }
   ],
   "source": [
    "a = [2, 3, 4, 5]\n",
    "\n",
    "b = (10, 20, 30, 40)\n",
    "\n",
    "print(type(a))\n",
    "\n",
    "print(type(b))\n",
    "\n",
    "a_ar = np.array(a)\n",
    "b_ar = np.array(b)\n",
    "print(a_ar.dtype)  \n",
    "print(b_ar.dtype)"
   ]
  },
  {
   "cell_type": "markdown",
   "id": "01dbc852",
   "metadata": {},
   "source": [
    "## 🔹Vstack and Hstack"
   ]
  },
  {
   "cell_type": "code",
   "execution_count": 27,
   "id": "68a22944",
   "metadata": {},
   "outputs": [
    {
     "name": "stdout",
     "output_type": "stream",
     "text": [
      "[[ 2  3  4  5]\n",
      " [10 20 30 40]]\n",
      "[ 2  3  4  5 10 20 30 40]\n"
     ]
    }
   ],
   "source": [
    "a = np.array([2, 3, 4, 5])\n",
    "b = np.array([10, 20, 30, 40])\n",
    "\n",
    "print(np.vstack((a, b)))  # Vertical stack\n",
    "print(np.hstack((a, b)))  # Horizontal stack"
   ]
  },
  {
   "cell_type": "markdown",
   "id": "7e3d4be7",
   "metadata": {},
   "source": [
    "## 🔹 Statistical Functions"
   ]
  },
  {
   "cell_type": "code",
   "execution_count": 28,
   "id": "bbe47b36",
   "metadata": {},
   "outputs": [
    {
     "name": "stdout",
     "output_type": "stream",
     "text": [
      "Mean: 55.0\n",
      "Median: 55.0\n",
      "Standard Deviation: 28.722813232690143\n",
      "Variance: 825.0\n",
      "Min: 10\n",
      "Max: 100\n"
     ]
    }
   ],
   "source": [
    "data = np.array([10 , 20, 30, 40, 50, 60, 70, 80, 90, 100])\n",
    "\n",
    "print(\"Mean:\", np.mean(data))\n",
    "print(\"Median:\", np.median(data))\n",
    "print(\"Standard Deviation:\", np.std(data))\n",
    "print(\"Variance:\", np.var(data))\n",
    "print(\"Min:\", np.min(data))\n",
    "print(\"Max:\", np.max(data))"
   ]
  },
  {
   "cell_type": "code",
   "execution_count": 29,
   "id": "8fa794c6",
   "metadata": {},
   "outputs": [
    {
     "name": "stdout",
     "output_type": "stream",
     "text": [
      "Argmin: 0\n",
      "Argmax: 9\n"
     ]
    }
   ],
   "source": [
    "print(\"Argmin:\", np.argmin(data))\n",
    "print(\"Argmax:\", np.argmax(data))"
   ]
  },
  {
   "cell_type": "code",
   "execution_count": 30,
   "id": "6dd1809c",
   "metadata": {},
   "outputs": [
    {
     "name": "stdout",
     "output_type": "stream",
     "text": [
      "[2.5 3.5 4.5]\n",
      "[2. 5.]\n"
     ]
    }
   ],
   "source": [
    "matrix = np.array([[1, 2, 3], \n",
    "                   [4, 5, 6]])\n",
    "\n",
    "print(np.mean(matrix, axis=0))\n",
    "print(np.mean(matrix, axis=1))"
   ]
  },
  {
   "cell_type": "code",
   "execution_count": 31,
   "id": "43055503",
   "metadata": {},
   "outputs": [
    {
     "name": "stdout",
     "output_type": "stream",
     "text": [
      "5.0\n",
      "9\n"
     ]
    }
   ],
   "source": [
    "data = np.array([1, 3, 5, 7, 9])\n",
    "print(np.percentile(data, 50)) # range 1 - 100\n",
    "print(np.quantile(data, 1)) # range 0 - 1"
   ]
  },
  {
   "cell_type": "code",
   "execution_count": 32,
   "id": "69c074d0",
   "metadata": {},
   "outputs": [
    {
     "name": "stdout",
     "output_type": "stream",
     "text": [
      "Sorted: [1 1 1 1 2 3 5 6 6 8]\n",
      "Sorted indices: [3 2 5 4 7 0 8 1 9 6]\n",
      "Insert 4 position: 6\n",
      "Unique elements: [1 2 3 5 6 8]\n",
      "Count of each element: [0 4 1 1 0 1 2 0 1]\n"
     ]
    }
   ],
   "source": [
    "arr = np.array([3, 6, 1, 1, 1, 1, 8, 2, 5, 6])\n",
    "\n",
    "print(\"Sorted:\", np.sort(arr))\n",
    "print(\"Sorted indices:\", np.argsort(arr))\n",
    "print(\"Insert 4 position:\", np.searchsorted(np.sort(arr), 4))\n",
    "print(\"Unique elements:\", np.unique(arr))\n",
    "print(\"Count of each element:\", np.bincount(arr))"
   ]
  }
 ],
 "metadata": {
  "kernelspec": {
   "display_name": "Python 3",
   "language": "python",
   "name": "python3"
  },
  "language_info": {
   "codemirror_mode": {
    "name": "ipython",
    "version": 3
   },
   "file_extension": ".py",
   "mimetype": "text/x-python",
   "name": "python",
   "nbconvert_exporter": "python",
   "pygments_lexer": "ipython3",
   "version": "3.12.0"
  }
 },
 "nbformat": 4,
 "nbformat_minor": 5
}
