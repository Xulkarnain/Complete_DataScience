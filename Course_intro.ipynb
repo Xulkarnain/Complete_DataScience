{
 "cells": [
  {
   "cell_type": "markdown",
   "metadata": {},
   "source": [
    "Variables are used to store data  like integer, float, string etc \n"
   ]
  },
  {
   "cell_type": "code",
   "execution_count": 5,
   "metadata": {},
   "outputs": [],
   "source": [
    "Name = \"zulkaranin\"\n",
    "\n",
    "rollno = 37\n",
    "\n",
    "#Boolian values are used to represent the truth values. It can have two values either True or False. It is used to perform logical operations. It is also used to compare values\n",
    "\n",
    "inUniversity = True\n"
   ]
  },
  {
   "cell_type": "code",
   "execution_count": 6,
   "metadata": {},
   "outputs": [
    {
     "name": "stdout",
     "output_type": "stream",
     "text": [
      "zulkaranin\n",
      "37\n"
     ]
    },
    {
     "data": {
      "text/plain": [
       "True"
      ]
     },
     "execution_count": 6,
     "metadata": {},
     "output_type": "execute_result"
    }
   ],
   "source": [
    "print(Name)\n",
    "print(rollno)\n",
    "inUniversity"
   ]
  },
  {
   "cell_type": "markdown",
   "metadata": {},
   "source": [
    "Input function is used for reciving input in a variable \n"
   ]
  },
  {
   "cell_type": "code",
   "execution_count": 2,
   "metadata": {},
   "outputs": [
    {
     "name": "stdout",
     "output_type": "stream",
     "text": [
      "zulkarnain likes black\n"
     ]
    }
   ],
   "source": [
    "Name = input(\" What is your name? \")\n",
    "color = input (\"What is your favorite color? \")\n",
    "\n",
    "print(Name + \" likes \" + color)"
   ]
  },
  {
   "cell_type": "markdown",
   "metadata": {},
   "source": [
    "Type Casting is used to typecast/change incompatible addition of statement we can't add int to str"
   ]
  },
  {
   "cell_type": "code",
   "execution_count": 6,
   "metadata": {},
   "outputs": [
    {
     "name": "stdout",
     "output_type": "stream",
     "text": [
      "51.75\n"
     ]
    }
   ],
   "source": [
    "weight_in_pounds = int(input(\"What is your weight in pounds? \"))\n",
    "\n",
    "weight_in_kg = weight_in_pounds * 0.45\n",
    "\n",
    "print(weight_in_kg)"
   ]
  },
  {
   "cell_type": "markdown",
   "metadata": {},
   "source": [
    "A formatted string allows you to insert variables or expressions inside a string using placeholders. In Python, f-strings (formatted string literals) use the syntax:"
   ]
  },
  {
   "cell_type": "code",
   "execution_count": 2,
   "metadata": {},
   "outputs": [
    {
     "name": "stdout",
     "output_type": "stream",
     "text": [
      "Zulkarnain dar is a coder\n"
     ]
    }
   ],
   "source": [
    "name = \"Zulkarnain\"\n",
    "last_name = \"dar\"\n",
    "\n",
    "msg = f\"{name} {last_name} is a coder\"\n",
    "\n",
    "print(msg)"
   ]
  },
  {
   "cell_type": "markdown",
   "metadata": {},
   "source": [
    "String Methods : \n",
    "1. len() fun is used to determine the length of string.\n",
    "\n",
    "2. upper() method/fun is used to convert string into upper case.\n",
    "\n",
    "3. lower() method is used to conver string into lower case \n",
    "\n",
    "4. find() method is used to fin the inex of desired charachter first 'occurance'\n",
    "\n",
    "5. replace() method use exchange the charachter. \n",
    "\n",
    "6. in charachter is used as boolean to know wether the charachter is present in string."
   ]
  },
  {
   "cell_type": "code",
   "execution_count": 2,
   "metadata": {},
   "outputs": [
    {
     "name": "stdout",
     "output_type": "stream",
     "text": [
      "10\n",
      "ZULKARNAIN\n",
      "zulkarnain\n",
      "4\n",
      "Zulkarnain\n",
      "True\n"
     ]
    }
   ],
   "source": [
    "name = \"zulkarnain\"\n",
    "print(len(name))\n",
    "\n",
    "print(name.upper())\n",
    "\n",
    "print(name.lower())\n",
    "\n",
    "print(name.find('a'))\n",
    "\n",
    "print(name.replace('z', 'Z'))\n",
    "\n",
    "print('zul' in name)"
   ]
  },
  {
   "cell_type": "markdown",
   "metadata": {},
   "source": [
    "Airthematic operations : \n",
    "1. Addittion +\n",
    "2. Subtraction -\n",
    "3. Multiplication *\n",
    "4. Division /\n",
    "5. Remainder %\n",
    "6. Power **\n",
    "7. division to get result in int //\n"
   ]
  },
  {
   "cell_type": "code",
   "execution_count": 3,
   "metadata": {},
   "outputs": [
    {
     "name": "stdout",
     "output_type": "stream",
     "text": [
      "3.0\n"
     ]
    }
   ],
   "source": [
    "x = 2 + 2 * 2 / 2 - 2 % 2 ** 2 // 2\n",
    "print(x) "
   ]
  },
  {
   "cell_type": "markdown",
   "metadata": {},
   "source": [
    "Precedence of Airthematic operations\n",
    "\n",
    "    (parenthesis)\n",
    "1. Exponentiation/power **\n",
    "2. Multiplication or division \n",
    "3. addition or subtrection "
   ]
  },
  {
   "cell_type": "markdown",
   "metadata": {},
   "source": [
    "Math module \n",
    "\n",
    "Has  math medoths or functions used in mathematics like round , abs etc "
   ]
  },
  {
   "cell_type": "code",
   "execution_count": 4,
   "metadata": {},
   "outputs": [
    {
     "name": "stdout",
     "output_type": "stream",
     "text": [
      "3\n"
     ]
    }
   ],
   "source": [
    "import math\n",
    "x = 2.9\n",
    "print(round(x))"
   ]
  },
  {
   "cell_type": "markdown",
   "metadata": {},
   "source": [
    "If statements are used to do something if statement is true otherwise do something else"
   ]
  },
  {
   "cell_type": "code",
   "execution_count": 7,
   "metadata": {},
   "outputs": [
    {
     "name": "stdout",
     "output_type": "stream",
     "text": [
      "It's a cold day\n",
      "Wear warm clothes\n"
     ]
    }
   ],
   "source": [
    "weather = input(\"What is the weather today? \")\n",
    "\n",
    "if weather == \"hot\":\n",
    "    print(\"It's a hot day\")\n",
    "    print(\"Drink plenty of water\")\n",
    "elif weather == \"cold\":\n",
    "    print(\"It's a cold day\")\n",
    "    print(\"Wear warm clothes\")\n",
    "else:\n",
    "    print(\"It's a lovely day\")"
   ]
  },
  {
   "cell_type": "markdown",
   "metadata": {},
   "source": [
    "Logical Operators :\n",
    "\n",
    "1. AND operator = both conditions should be true\n",
    "2. OR operator = atleast one condition should be true\n",
    "3. NOT operator = the not condition should true to work"
   ]
  },
  {
   "cell_type": "code",
   "execution_count": null,
   "metadata": {},
   "outputs": [
    {
     "name": "stdout",
     "output_type": "stream",
     "text": [
      "Eligible for loan\n"
     ]
    }
   ],
   "source": [
    "good_creadit_score = True\n",
    "high_income = False\n",
    "no_criminal_record = True\n",
    "\n",
    "if good_creadit_score and  high_income:\n",
    "    print(\"Eligible for loan\")\n",
    "\n",
    "if good_creadit_score or no_criminal_record:\n",
    "    print(\"Eligible for loan\")\n"
   ]
  },
  {
   "cell_type": "markdown",
   "metadata": {},
   "source": [
    "Comparison operators : \n",
    "\n",
    "1. greater then >\n",
    "2. less than <\n",
    "3. equal to ==\n",
    "4. not equal !=\n",
    "5. greater or equal than >=\n",
    "6. less than or equal to <="
   ]
  },
  {
   "cell_type": "code",
   "execution_count": 13,
   "metadata": {},
   "outputs": [
    {
     "name": "stdout",
     "output_type": "stream",
     "text": [
      "Name must be at least 3 characters\n"
     ]
    }
   ],
   "source": [
    "name = \"Zu\"\n",
    "if len(name) < 3:\n",
    "    print(\"Name must be at least 3 characters\")\n",
    "elif len(name) > 50:\n",
    "    print(\"Name can be a maximum of 50 characters\")\n",
    "else:\n",
    "    print(\"Name looks good\")"
   ]
  },
  {
   "cell_type": "markdown",
   "metadata": {},
   "source": [
    "Weight convert program :\n",
    "\n",
    "if user wants weight in pounds enter l otherwise in kg enter k\n",
    "print the weight accordingly"
   ]
  },
  {
   "cell_type": "code",
   "execution_count": 17,
   "metadata": {},
   "outputs": [
    {
     "name": "stdout",
     "output_type": "stream",
     "text": [
      "your weight 122 pounds\n"
     ]
    }
   ],
   "source": [
    "weight = int(input(\"Weight: \"))\n",
    "unit = input(\"(L)bs or (K)g: \")\n",
    "\n",
    "if unit.upper() == \"L\":\n",
    "    convvrt = weight * 0.45\n",
    "    print(f\"You are {convvrt} kilos\")\n",
    "else:\n",
    "    convvrt = weight / 0.45\n",
    "    \n",
    "    print(f\"your weight {round(convvrt)} pounds\")"
   ]
  },
  {
   "cell_type": "markdown",
   "metadata": {},
   "source": [
    "WHILE LOOP : used for repeating something over and over again till some conitions are met\n",
    "\n",
    "while conition:\n",
    "    code\n",
    "    itteration\n",
    "    "
   ]
  },
  {
   "cell_type": "code",
   "execution_count": 1,
   "metadata": {},
   "outputs": [
    {
     "name": "stdout",
     "output_type": "stream",
     "text": [
      "1\n",
      "2\n",
      "3\n",
      "4\n",
      "5\n"
     ]
    }
   ],
   "source": [
    "i = 1\n",
    "while i <= 5:\n",
    "    print(i)\n",
    "    i = i + 1"
   ]
  }
 ],
 "metadata": {
  "kernelspec": {
   "display_name": "Python 3",
   "language": "python",
   "name": "python3"
  },
  "language_info": {
   "codemirror_mode": {
    "name": "ipython",
    "version": 3
   },
   "file_extension": ".py",
   "mimetype": "text/x-python",
   "name": "python",
   "nbconvert_exporter": "python",
   "pygments_lexer": "ipython3",
   "version": "3.12.9"
  }
 },
 "nbformat": 4,
 "nbformat_minor": 2
}
