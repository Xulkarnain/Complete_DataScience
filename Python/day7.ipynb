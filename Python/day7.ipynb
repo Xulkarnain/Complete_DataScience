{
 "cells": [
  {
   "cell_type": "markdown",
   "id": "252d7d21",
   "metadata": {},
   "source": [
    "## 🧠 How Data is Stored in Memory in Python\n",
    "\n",
    "In Python, variables are **names that reference objects in memory**, not containers that hold data.\n",
    "\n",
    "### 🧩 Key Concepts:\n",
    "- Everything in Python is an **object**, and every object has a **unique memory address** (accessible using `id()`).\n",
    "- Variables are like **labels** pointing to these objects.\n",
    "- Immutable objects (like `int`, `str`, `tuple`) create **new objects** when changed.\n",
    "- Mutable objects (like `list`, `dict`) can be changed **in-place** without changing their identity.\n",
    "\n"
   ]
  },
  {
   "cell_type": "code",
   "execution_count": 1,
   "id": "784c8a09",
   "metadata": {},
   "outputs": [
    {
     "name": "stdout",
     "output_type": "stream",
     "text": [
      "140708689713592\n",
      "140708689713624\n"
     ]
    }
   ],
   "source": [
    "a = 1  \n",
    "print(id(a)) # memory address of a when a is 1\n",
    "\n",
    "a= a+ 1\n",
    "print(id(a)) # memory address of a when a is 2"
   ]
  },
  {
   "cell_type": "markdown",
   "id": "3b7a006c",
   "metadata": {},
   "source": [
    "## 🧠 Why Python is Dynamically Typed\n",
    "\n",
    "Python is a **dynamically typed language**, meaning you **don’t need to declare variable types** when writing code.\n",
    "\n",
    "### 🔑 What Does That Mean?\n",
    "- Variables can **change type** during program execution.\n",
    "- The interpreter determines types **at runtime**, not at compile time.\n",
    "\n",
    "### 🆚 Static Typing (like in C, Java):\n",
    "```c\n",
    "int x = 10;    // Must declare type in C\n"
   ]
  },
  {
   "cell_type": "code",
   "execution_count": 3,
   "id": "d24c0f83",
   "metadata": {},
   "outputs": [],
   "source": [
    "a = 10 # type int\n",
    "\n",
    "a = \"hello\" # type str"
   ]
  },
  {
   "cell_type": "markdown",
   "id": "e6525158",
   "metadata": {},
   "source": [
    "## 🔄 Mutable vs Immutable Data Types in Python\n",
    "\n",
    "In Python, data types are classified as **mutable** or **immutable** based on whether their values can be changed **in-place**.\n",
    "\n",
    "---\n",
    "\n",
    "### 🧪 Mutable Data Types\n",
    "- Can be **modified after creation**.\n",
    "- Their memory address (ID) stays the **same** even after changes.\n",
    "- Methods like `.append()`, `.add()`, `.update()` work on these.\n",
    "\n",
    "**Examples:**\n",
    "- `list`\n",
    "- `dict`\n",
    "- `set`\n",
    "- `bytearray`\n",
    "\n",
    "\n"
   ]
  },
  {
   "cell_type": "code",
   "execution_count": 4,
   "id": "03d162a9",
   "metadata": {},
   "outputs": [
    {
     "name": "stdout",
     "output_type": "stream",
     "text": [
      "2372667430912\n",
      "2372667430912\n"
     ]
    }
   ],
   "source": [
    "x = [1, 2]\n",
    "print(id(x))    # e.g., 123456\n",
    "x.append(3)\n",
    "print(id(x))    # still 123456"
   ]
  },
  {
   "cell_type": "markdown",
   "id": "497bcb42",
   "metadata": {},
   "source": [
    "## 🔒 Immutable Data Types in Python\n",
    "\n",
    "Immutable data types are types whose **values cannot be changed after creation**. If you attempt to change them, Python will create a **new object** in memory.\n",
    "\n",
    "---\n",
    "\n",
    "### ✅ Characteristics:\n",
    "- Any operation that seems to \"change\" the object **actually creates a new one**.\n",
    "- Immutable types **do not** support in-place modification methods like `.append()` or `.update()`.\n",
    "- Helps with **hashing and caching**, making them useful as keys in dictionaries and elements in sets.\n",
    "\n",
    "---\n",
    "\n",
    "### 🔹 Examples of Immutable Types:\n",
    "- `int`\n",
    "- `float`\n",
    "- `bool`\n",
    "- `str`\n",
    "- `tuple`\n",
    "- `frozenset`\n",
    "- `bytes`\n",
    "\n",
    "---\n",
    "\n"
   ]
  },
  {
   "cell_type": "code",
   "execution_count": 5,
   "id": "a271f4b7",
   "metadata": {},
   "outputs": [
    {
     "name": "stdout",
     "output_type": "stream",
     "text": [
      "2372667578432\n",
      "2372667485584\n"
     ]
    }
   ],
   "source": [
    "a = (1, 2, 3) # type tuple\n",
    "print(id(a)) # e.g., 123456\n",
    "a = (1, 2, 3, 4) # type tuple\n",
    "print(id(a)) # e.g., 654321"
   ]
  },
  {
   "cell_type": "markdown",
   "id": "a7eacf01",
   "metadata": {},
   "source": [
    "## 🔐 Tuples in Python\n",
    "\n",
    "A **tuple** is an ordered, immutable collection of elements. Tuples are similar to lists, but **once created, they cannot be modified**.\n",
    "\n",
    "---\n"
   ]
  },
  {
   "cell_type": "code",
   "execution_count": 7,
   "id": "628fed91",
   "metadata": {},
   "outputs": [
    {
     "name": "stdout",
     "output_type": "stream",
     "text": [
      "(2, 1, 3, 'hello')\n",
      "<class 'tuple'>\n"
     ]
    }
   ],
   "source": [
    "a = (2, 1, 3, \"hello\")\n",
    "\n",
    "print(a)\n",
    "print(type(a)) # type tuple"
   ]
  },
  {
   "cell_type": "markdown",
   "id": "cf4a6b70",
   "metadata": {},
   "source": [
    "## 🔁 Sets in Python\n",
    "\n",
    "A **set** is an unordered, mutable collection of **unique elements**. It's mainly used for checking membership, removing duplicates, and performing set operations like union and intersection.\n",
    "\n",
    "---\n",
    "\n",
    "Common Methods:\n",
    "\n",
    "add(x) — Adds an element\n",
    "\n",
    "remove(x) — Removes element (raises error if not found)\n",
    "\n",
    "discard(x) — Removes element (no error if not found)\n",
    "\n",
    "clear() — Empties the set\n",
    "\n",
    "union(), intersection(), difference(), symmetric_difference()\n"
   ]
  },
  {
   "cell_type": "code",
   "execution_count": 13,
   "id": "f139306f",
   "metadata": {},
   "outputs": [
    {
     "name": "stdout",
     "output_type": "stream",
     "text": [
      "{'hello', 1, 3, 5}\n",
      "<class 'set'>\n"
     ]
    }
   ],
   "source": [
    "a = {1 , 3,  3 ,3 , 5 , \"hello\"} # type set\n",
    "print(a)\n",
    "print(type(a)) \n",
    "a = a.add(11)"
   ]
  },
  {
   "cell_type": "markdown",
   "id": "39bf085a",
   "metadata": {},
   "source": [
    "### ➕ `extend()` in Lists vs `update()` in Sets\n",
    "\n",
    "Both `extend()` and `update()` are used to add **multiple items** from an iterable — but they behave differently based on the data type.\n",
    "\n",
    "---\n",
    "\n",
    "### 📚 `list.extend(iterable)`\n",
    "\n",
    "- Adds each element of the iterable to the **end of the list**.\n",
    "- List **can have duplicates** and maintains **order**.\n",
    "\n",
    "\n"
   ]
  },
  {
   "cell_type": "code",
   "execution_count": 15,
   "id": "df37adba",
   "metadata": {},
   "outputs": [
    {
     "name": "stdout",
     "output_type": "stream",
     "text": [
      "[1, 2, 3, 4]\n",
      "{1, 2, 3, 4}\n"
     ]
    }
   ],
   "source": [
    "\n",
    "a = [1, 2]\n",
    "a.extend([3, 4])\n",
    "print(a)  # [1, 2, 3, 4]\n",
    "\n",
    "s = {1, 2}\n",
    "s.update([2, 3, 4])\n",
    "print(s)  # {1, 2, 3, 4}\n"
   ]
  },
  {
   "cell_type": "markdown",
   "id": "819ffb96",
   "metadata": {},
   "source": [
    "## 🧠 Dictionaries in Python\n",
    "\n",
    "A **dictionary** (`dict`) is a mutable, unordered collection of **key-value pairs**. It's used to store related data together for fast lookup by key.\n",
    "\n",
    "---\n",
    "\n",
    "### 🧩 key features\n",
    "\n",
    "Mutable: You can add, update, or delete key-value pairs.\n",
    "\n",
    "Unordered (pre-3.7), but now insertion order is preserved in modern Python versions.\n",
    "\n",
    "No indexing by position: You access values using keys, not numeric indexes."
   ]
  },
  {
   "cell_type": "code",
   "execution_count": 20,
   "id": "2554a464",
   "metadata": {},
   "outputs": [
    {
     "name": "stdout",
     "output_type": "stream",
     "text": [
      "zulkarnain\n",
      "Btech CSE\n"
     ]
    }
   ],
   "source": [
    "my_dict = {\"name\" : \"zulkarnain\" , \"age\" : 22 ,\n",
    "           \"education\" : \"Btech CSE\"\n",
    "}\n",
    "\n",
    "print(my_dict[\"name\"])\n",
    "print(my_dict[\"education\"])"
   ]
  }
 ],
 "metadata": {
  "kernelspec": {
   "display_name": "Python 3",
   "language": "python",
   "name": "python3"
  },
  "language_info": {
   "codemirror_mode": {
    "name": "ipython",
    "version": 3
   },
   "file_extension": ".py",
   "mimetype": "text/x-python",
   "name": "python",
   "nbconvert_exporter": "python",
   "pygments_lexer": "ipython3",
   "version": "3.12.9"
  }
 },
 "nbformat": 4,
 "nbformat_minor": 5
}
