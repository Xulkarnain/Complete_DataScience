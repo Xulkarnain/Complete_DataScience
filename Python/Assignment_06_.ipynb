{
 "cells": [
  {
   "cell_type": "markdown",
   "id": "7f41e8bf",
   "metadata": {},
   "source": [
    "### 🏥 Patient Details Record System\n",
    "\n",
    "<small>\n",
    "\n",
    "We will:\n",
    "\n",
    "- Take multiple **patient details** as list input.\n",
    "- Store each patient as a list of `[name, place, email, age]`.\n",
    "- Save all patient records inside a list called `patient_details`.\n",
    "- Retrieve only **name** and **age** using the patient's **ID (index)**.\n",
    "\n",
    "</small>"
   ]
  },
  {
   "cell_type": "code",
   "execution_count": 7,
   "id": "50d975bd",
   "metadata": {},
   "outputs": [
    {
     "name": "stdout",
     "output_type": "stream",
     "text": [
      "Name: zulkarnain\n",
      "Age: 5\n"
     ]
    }
   ],
   "source": [
    "patient_details = []\n",
    "\n",
    "for i in range(5):\n",
    "   data = list(input(\"Enter Name , place , email , age\").split())\n",
    "   patient_details.append(data)\n",
    "\n",
    "id = int(input(\"Enter the ID (0–4) of the patient to be shown: \"))\n",
    "\n",
    "print(\"Name:\", patient_details[id][0])\n",
    "print(\"Age:\", patient_details[id][3])\n"
   ]
  }
 ],
 "metadata": {
  "kernelspec": {
   "display_name": "Python 3",
   "language": "python",
   "name": "python3"
  },
  "language_info": {
   "codemirror_mode": {
    "name": "ipython",
    "version": 3
   },
   "file_extension": ".py",
   "mimetype": "text/x-python",
   "name": "python",
   "nbconvert_exporter": "python",
   "pygments_lexer": "ipython3",
   "version": "3.12.9"
  }
 },
 "nbformat": 4,
 "nbformat_minor": 5
}
