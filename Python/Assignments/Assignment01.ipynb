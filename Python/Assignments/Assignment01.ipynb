{
 "cells": [
  {
   "cell_type": "markdown",
   "id": "1af585c8",
   "metadata": {},
   "source": [
    "Fuction for input data"
   ]
  },
  {
   "cell_type": "code",
   "execution_count": 96,
   "id": "f609af42",
   "metadata": {},
   "outputs": [],
   "source": [
    "def details():\n",
    "    kwargs = {}\n",
    "    for i in range(1):\n",
    "        key = f\"Name{i+1}\"\n",
    "        value = input(f\"Enter {key}: \")\n",
    "        kwargs[key] = value\n",
    "        \n",
    "        key = f\"phone_no{i+1}\"\n",
    "        value = input(f\"Enter {key}: \")\n",
    "        kwargs[key] = value\n",
    "        \n",
    "        key = f\"email{i+1}\"\n",
    "        value = input(f\"Enter {key}: \")\n",
    "        kwargs[key] = value\n",
    "        \n",
    "        key = f\"group{i+1}\"\n",
    "        value = input(f\"Enter {key}: \")\n",
    "        kwargs[key] = value\n",
    "        \n",
    "        print(\"\\n\")\n",
    "\n",
    "    return kwargs\n"
   ]
  },
  {
   "cell_type": "markdown",
   "id": "d318def5",
   "metadata": {},
   "source": [
    "Function to search by name"
   ]
  },
  {
   "cell_type": "code",
   "execution_count": 97,
   "id": "09743ac1",
   "metadata": {},
   "outputs": [],
   "source": [
    "def search_by_name(name, **kwargs):\n",
    "    for key, value in kwargs.items():\n",
    "        if name.lower() in value.lower():\n",
    "            for key, value in kwargs.items():\n",
    "                print(f\"{key} : {value}\")\n",
    "            break\n",
    "    else:\n",
    "        print(\"Name not found.\")"
   ]
  },
  {
   "cell_type": "code",
   "execution_count": 98,
   "id": "86d3f68f",
   "metadata": {},
   "outputs": [],
   "source": [
    "def search_by_grp(group, **kwargs):\n",
    "    for key, value in kwargs.items():\n",
    "        if group.lower() in value.lower():\n",
    "            for key, value in kwargs.items():\n",
    "                print(f\"{key} : {value}\")\n",
    "            break\n",
    "    else:\n",
    "        print(\"Group not found.\")"
   ]
  },
  {
   "cell_type": "code",
   "execution_count": 99,
   "id": "1a4e65f8",
   "metadata": {},
   "outputs": [
    {
     "name": "stdout",
     "output_type": "stream",
     "text": [
      "\n",
      "\n"
     ]
    }
   ],
   "source": [
    "import os\n",
    "\n",
    "path = os.path.join(os.getcwd(), 'database.txt')\n",
    "with open(path , 'a+') as f:\n",
    "    ans = input(\"Do you want to add a new entry? (yes/no): \")\n",
    "    while ans.lower() == 'yes':\n",
    "        if ans.lower() == 'yes' :\n",
    "            data = details()\n",
    "            for key, value in data.items():\n",
    "                f.write(f\"{key} : {value}\\n\")\n",
    "                f.write(\"\\n\")\n",
    "        else:\n",
    "            print(\"No new entry added.\")\n",
    "            exit()\n",
    "        ans = input(\"Do you want to add a new entry? (yes/no): \")\n",
    "  "
   ]
  },
  {
   "cell_type": "code",
   "execution_count": 100,
   "id": "2a97fdd5",
   "metadata": {},
   "outputs": [
    {
     "name": "stdout",
     "output_type": "stream",
     "text": [
      "{'Name1': 'zulkarnain', 'phone_no1': '4234', 'email1': 'dar', 'group1': 'home'}\n"
     ]
    },
    {
     "name": "stdout",
     "output_type": "stream",
     "text": [
      "Name1 : zulkarnain\n",
      "phone_no1 : 4234\n",
      "email1 : dar\n",
      "group1 : home\n",
      "Group not found.\n"
     ]
    }
   ],
   "source": [
    "data_dict = {}\n",
    "with open(path, \"r\") as file:\n",
    "    lines = file.readlines()\n",
    "    for line in lines:\n",
    "        if \":\" in line:\n",
    "            key, value = line.strip().split(\":\", 1)\n",
    "            data_dict[key.strip()] = value.strip()\n",
    "    print(data_dict)\n",
    "    name = input(\"Enter name to search: \")\n",
    "    search_by_name(name, **data_dict)\n",
    "    search_by_grp(input(\"Enter group to search: \"), **data_dict)\n"
   ]
  },
  {
   "cell_type": "markdown",
   "id": "842aa73e",
   "metadata": {},
   "source": [
    "function to search via group"
   ]
  }
 ],
 "metadata": {
  "kernelspec": {
   "display_name": "Python 3",
   "language": "python",
   "name": "python3"
  },
  "language_info": {
   "codemirror_mode": {
    "name": "ipython",
    "version": 3
   },
   "file_extension": ".py",
   "mimetype": "text/x-python",
   "name": "python",
   "nbconvert_exporter": "python",
   "pygments_lexer": "ipython3",
   "version": "3.12.9"
  }
 },
 "nbformat": 4,
 "nbformat_minor": 5
}
