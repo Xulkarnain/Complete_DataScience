{
 "cells": [
  {
   "cell_type": "markdown",
   "id": "915b263f",
   "metadata": {},
   "source": [
    "### 📂 Introduction to File Operations in Python\n",
    "- What are File Operations?\n",
    "- File Operations allow a Python program to create, read, write, append, and delete files.\n",
    "\n",
    "- Important for storing data, logging information, or processing external files.\n",
    "\n",
    "- Key Functions:\n",
    "- open(filename, mode): Open a file (mode can be 'r', 'w', 'a', etc.)\n",
    "\n",
    "- ``read()``: Read content from a file.\n",
    "\n",
    "- ``write()``: Write content to a file.\n",
    "\n",
    "- ``close()``: Close the file after operations."
   ]
  },
  {
   "cell_type": "markdown",
   "id": "13337610",
   "metadata": {},
   "source": [
    "## 📂 Understanding `.` `/` and `..` in File Systems\n",
    "\n",
    "### Meaning:\n",
    "- `.` → Refers to the **current directory**.\n",
    "- `..` → Refers to the **parent directory** (one level above).\n",
    "- `/` → Separates directories in a path (common in Unix-like systems).\n",
    "\n",
    "### Examples:\n",
    "- `./file.txt` → Access `file.txt` inside the current working directory.\n",
    "- `../file.txt` → Access `file.txt` from the parent directory.\n",
    "- `/home/user/file.txt` → Absolute path starting from the root directory.\n",
    "\n",
    "### Key Notes:\n",
    "- Windows uses `\\`, but Python handles `/` safely across platforms.\n",
    "- Always use **relative paths** (`.` and `..`) carefully to avoid path errors.\n",
    "\n"
   ]
  },
  {
   "cell_type": "markdown",
   "id": "c88b1d76",
   "metadata": {},
   "source": [
    "### 📂 OS Module: File and Folder Operations\n",
    "\n",
    "- The `os` module provides a way to interact with the operating system.\n",
    "- It helps to **create**, **delete**, **move**, and **inspect** files and folders.\n",
    "\n",
    "#### Common `os` functions:\n",
    "- `os.getcwd()` → Get current working directory.\n",
    "- `os.chdir(path)` → Change the working directory.\n",
    "- `os.listdir(path)` → List files and folders at a path.\n",
    "- `os.mkdir(path)` → Create a new directory.\n",
    "- `os.remove(file_path)` → Delete a file.\n",
    "- `os.rmdir(folder_path)` → Delete an empty folder.\n",
    "- `os.path.exists(path)` → Check if a file/folder exists.\n",
    "\n"
   ]
  },
  {
   "cell_type": "code",
   "execution_count": null,
   "id": "9f83cb1e",
   "metadata": {},
   "outputs": [],
   "source": [
    "import os\n",
    "\n",
    "os.getcwd()\n",
    "\n",
    "os.listdir() \n",
    "\n"
   ]
  },
  {
   "cell_type": "markdown",
   "id": "74f2f5f5",
   "metadata": {},
   "source": [
    "###  Using `os.path.join()` in Python\n",
    "\n",
    "#### What is `os.path.join()`?\n",
    "- A method from the `os.path` module.\n",
    "- Safely joins two or more parts of a file system path.\n",
    "\n",
    "#### Why use it?\n",
    "-  **Cross-platform compatibility:**  \n",
    "  Automatically uses the correct slash (`\\` for Windows, `/` for Linux/Mac).\n",
    "-  **Avoids manual string errors:**  \n",
    "  No need to manually add slashes between folders.\n",
    "\n"
   ]
  },
  {
   "cell_type": "code",
   "execution_count": 32,
   "id": "4de115b8",
   "metadata": {},
   "outputs": [],
   "source": [
    "file_path = os.path.join(os.getcwd(), 'test.txt')"
   ]
  },
  {
   "cell_type": "markdown",
   "id": "60bea146",
   "metadata": {},
   "source": [
    "- First, we use ```os.path.join(os.getcwd(), another_path)``` to join the current working directory with another relative path (e.g., the filename or subdirectory). This ensures that the path is correctly formed based on the operating system.\n",
    "\n",
    "- We then store this joined path in the file_path variable.\n",
    "\n",
    "- Using ```open(file_path, 'r')```, we open the file in read mode and assign the file object to the variable file.\n",
    "\n",
    "- By calling ```file.read()```, we read the content of the file and store it in the content variable.\n",
    "\n",
    "- Finally, we print the content of the file.\n",
    "\n"
   ]
  },
  {
   "cell_type": "code",
   "execution_count": 55,
   "id": "c39c9d71",
   "metadata": {},
   "outputs": [
    {
     "name": "stdout",
     "output_type": "stream",
     "text": [
      "asfd asdfdf \n",
      "adf ads \n",
      "afda \n"
     ]
    }
   ],
   "source": [
    "\n",
    "file = open(file_path, 'r')\n",
    "\n",
    "data = file.read()\n",
    "print(data)\n"
   ]
  },
  {
   "cell_type": "markdown",
   "id": "55bd2bc3",
   "metadata": {},
   "source": [
    "- ```readline()``` → Reads one line at a time.\n",
    "\n",
    "- ```readlines()``` → Reads all lines into a list where each line is an item.\n",
    "\n",
    "- ``close()`` → Closes the opened file manually to avoid memory leaks or file corruption.\n",
    "\n",
    "- ``split()`` with no arguments → splits on any whitespace (space, \\n, \\t).\n",
    "\n",
    "- ``split('\\n')`` → splits explicitly by newline characters.\n",
    "\n",
    "- If you want to build a dictionary, you need to split the content into key-value pairs manually after splitting."
   ]
  },
  {
   "cell_type": "code",
   "execution_count": 63,
   "id": "1fd32b1f",
   "metadata": {},
   "outputs": [
    {
     "name": "stdout",
     "output_type": "stream",
     "text": [
      "\n"
     ]
    }
   ],
   "source": [
    "content = file.read()\n",
    "\n",
    "content.split(\" \")\n",
    "\n",
    "print(content)"
   ]
  }
 ],
 "metadata": {
  "kernelspec": {
   "display_name": "Python 3",
   "language": "python",
   "name": "python3"
  },
  "language_info": {
   "codemirror_mode": {
    "name": "ipython",
    "version": 3
   },
   "file_extension": ".py",
   "mimetype": "text/x-python",
   "name": "python",
   "nbconvert_exporter": "python",
   "pygments_lexer": "ipython3",
   "version": "3.12.9"
  }
 },
 "nbformat": 4,
 "nbformat_minor": 5
}
