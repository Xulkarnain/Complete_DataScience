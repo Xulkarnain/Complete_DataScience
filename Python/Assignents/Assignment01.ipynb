{
 "cells": [
  {
   "cell_type": "markdown",
   "id": "4b18c0cf",
   "metadata": {},
   "source": [
    "### 🧠 `ast.literal_eval()` in Python\n",
    "\n",
    "<sub>\n",
    "\n",
    "The `ast.literal_eval()` function from the `ast` module is used to **safely evaluate a string** that contains a **valid Python literal** (like a list, dict, int, float, string, etc.).\n",
    "\n",
    "---\n",
    "\n",
    "📌 The string must follow Python syntax rules:\n",
    "\n",
    "Strings in quotes: \"Zulkarnain\"\n",
    "\n",
    "Lists in brackets: [1, 2, \"hello\"]\n",
    "\n",
    "Dicts in curly braces: {\"key\": \"value\"}\n",
    "\n",
    "### 📊 `split()` vs `ast.literal_eval()`\n",
    "\n",
    "| Function             | Behavior                                       |\n",
    "|----------------------|------------------------------------------------|\n",
    "| `split()`            | Splits input into a **list of strings**        |\n",
    "|----------------------|------------------------------------------------|\n",
    "| `ast.literal_eval()` | Parses input into **actual Python data types** |\n",
    "\n",
    "</sub> ```\n"
   ]
  },
  {
   "cell_type": "markdown",
   "id": "d2ce8199",
   "metadata": {},
   "source": [
    "# My answer"
   ]
  },
  {
   "cell_type": "markdown",
   "id": "7f41e8bf",
   "metadata": {},
   "source": [
    "### 🏥 Patient Details Record System\n",
    "\n",
    "<small>\n",
    "\n",
    "We will:\n",
    "\n",
    "- Take multiple **patient details** as list input.\n",
    "- Store each patient as a list of `[name, place, email, age]`.\n",
    "- Save all patient records inside a list called `patient_details`.\n",
    "- Retrieve only **name** and **age** using the patient's **ID (index)**.\n",
    "\n",
    "</small>"
   ]
  },
  {
   "cell_type": "markdown",
   "id": "c1935351",
   "metadata": {},
   "source": [
    "## ✅ Use split() when:\n",
    "\n",
    "You're taking raw input (like names, places, etc.)\n",
    "\n",
    "You want to quickly convert a space-separated string into a list\n",
    "\n",
    "All values are strings, or you’ll manually typecast specific ones\n",
    "\n",
    "The format is loose or not structured like Python objects"
   ]
  },
  {
   "cell_type": "code",
   "execution_count": null,
   "id": "50d975bd",
   "metadata": {},
   "outputs": [],
   "source": [
    "patient_details = []\n",
    "\n",
    "for i in range(5):\n",
    "   data = list(input(\"Enter Name , place , email , age\").split())\n",
    "   patient_details.append(data)\n",
    "\n",
    "id = int(input(\"Enter the ID (0–4) of the patient to be shown: \"))\n",
    "\n",
    "print(\"Name:\", patient_details[id][0])\n",
    "print(\"Age:\", patient_details[id][3])\n",
    "print(type(id))\n"
   ]
  },
  {
   "cell_type": "markdown",
   "id": "ac3b612b",
   "metadata": {},
   "source": [
    "# Assignment solution\n",
    "\n",
    "#### \"Using ast.literal_eval to convert a string representation of a Python object (like a list) into its actual object with the correct data types for each element.\"\n"
   ]
  },
  {
   "cell_type": "code",
   "execution_count": null,
   "id": "e200cf54",
   "metadata": {},
   "outputs": [],
   "source": []
  },
  {
   "cell_type": "code",
   "execution_count": 17,
   "id": "7be6cc3a",
   "metadata": {},
   "outputs": [
    {
     "name": "stdout",
     "output_type": "stream",
     "text": [
      "<class 'list'>\n",
      "<class 'str'>\n",
      "<class 'int'>\n"
     ]
    }
   ],
   "source": [
    "import ast\n",
    "a = \"[1, 2, 3, 'zulkarnain']\"\n",
    "data = ast.literal_eval(a)\n",
    "print(type(data))\n",
    "print(type(data[3]))\n",
    "print(type(data[0]))\n"
   ]
  },
  {
   "cell_type": "code",
   "execution_count": 26,
   "id": "f2c27227",
   "metadata": {},
   "outputs": [
    {
     "name": "stdout",
     "output_type": "stream",
     "text": [
      "<class 'list'>\n"
     ]
    }
   ],
   "source": [
    "import ast\n",
    "\n",
    "a = input(\"Enter a list: \")\n",
    "data = ast.literal_eval(a)\n",
    "print(type(data))"
   ]
  },
  {
   "cell_type": "markdown",
   "id": "f2cd63b2",
   "metadata": {},
   "source": [
    "## ✅ Use ast.literal_eval() when:\n",
    "\n",
    "Input is in a Pythonic format (like a list, dict, tuple)\n",
    "\n",
    "You want to automatically detect and assign correct data types\n",
    "\n",
    "You trust the input is well-structured (safe to evaluate)"
   ]
  },
  {
   "cell_type": "code",
   "execution_count": 28,
   "id": "b9301e6f",
   "metadata": {},
   "outputs": [
    {
     "name": "stdout",
     "output_type": "stream",
     "text": [
      "<class 'list'>\n",
      "<class 'str'>\n",
      "<class 'str'>\n",
      "<class 'int'>\n"
     ]
    }
   ],
   "source": [
    "import ast\n",
    "\n",
    "a = \"['zulkarnain', 'soura', 32]\"\n",
    "data = ast.literal_eval(a)\n",
    "print(type(data))\n",
    "print(type(data[0]))\n",
    "print(type(data[1]))\n",
    "print(type(data[2]))"
   ]
  },
  {
   "cell_type": "markdown",
   "id": "cb70d034",
   "metadata": {},
   "source": [
    "## ⚠️ Key Warning with ast.literal_eval():\n",
    "Input must be typed correctly (like Python code: quotes, brackets, commas)\n",
    "\n",
    "Else, it throws SyntaxError"
   ]
  }
 ],
 "metadata": {
  "kernelspec": {
   "display_name": "Python 3",
   "language": "python",
   "name": "python3"
  },
  "language_info": {
   "codemirror_mode": {
    "name": "ipython",
    "version": 3
   },
   "file_extension": ".py",
   "mimetype": "text/x-python",
   "name": "python",
   "nbconvert_exporter": "python",
   "pygments_lexer": "ipython3",
   "version": "3.12.9"
  }
 },
 "nbformat": 4,
 "nbformat_minor": 5
}
