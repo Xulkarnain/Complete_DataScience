{
 "cells": [
  {
   "cell_type": "markdown",
   "id": "81c48d7a",
   "metadata": {},
   "source": [
    "### 🔀 Nested if-else in Python\n",
    "\n",
    "<small>\n",
    "\n",
    "Nested `if-else` lets you make decisions **inside** other decisions. It’s useful when conditions depend on other conditions.\n",
    "\n",
    "---\n",
    "\n",
    "🧠 Tip: Indentation is key! Make sure nested blocks are properly indented.\n",
    "Use nested if-else when your logic depends on multiple levels of condition checks.\n",
    "\n",
    "</small> ```\n"
   ]
  },
  {
   "cell_type": "code",
   "execution_count": 1,
   "id": "04d4420d",
   "metadata": {},
   "outputs": [
    {
     "name": "stdout",
     "output_type": "stream",
     "text": [
      "Number is positive.\n"
     ]
    }
   ],
   "source": [
    "num = int(input(\"Enter a number: \"))\n",
    "\n",
    "if num >= 0:\n",
    "    if num == 0:\n",
    "        print(\"Number is zero.\")\n",
    "    else:\n",
    "        print(\"Number is positive.\")\n",
    "else:\n",
    "    print(\"Number is negative.\")"
   ]
  },
  {
   "cell_type": "code",
   "execution_count": 3,
   "id": "c0d9569b",
   "metadata": {},
   "outputs": [
    {
     "name": "stdout",
     "output_type": "stream",
     "text": [
      "You are a minor.\n",
      "You are a child.\n"
     ]
    }
   ],
   "source": [
    "age = int(input(\"Enter your age: \"))\n",
    "\n",
    "if age < 0:\n",
    "    print(\"Age cannot be negative.\")\n",
    "elif(age < 18):\n",
    "    print(\"You are a minor.\")\n",
    "    if age < 13:\n",
    "        print(\"You are a child.\")\n",
    "    else:\n",
    "        print(\"You are a teenager.\")\n",
    "elif(age < 60):\n",
    "    print(\"You are an adult.\")\n",
    "else:\n",
    "    print(\"You are a senior citizen.\")"
   ]
  },
  {
   "cell_type": "markdown",
   "id": "da9a2db3",
   "metadata": {},
   "source": [
    "### 📚 Python Lists – Advanced Data Type\n",
    "\n",
    "<small>\n",
    "\n",
    "A **list** is a collection of items in a particular order. It is **mutable**, meaning its contents can be changed after creation.\n",
    "\n",
    "---\n",
    "\n",
    "#### 🔹 Creating a List\n",
    "\n"
   ]
  },
  {
   "cell_type": "code",
   "execution_count": 27,
   "id": "814eef5b",
   "metadata": {},
   "outputs": [
    {
     "name": "stdout",
     "output_type": "stream",
     "text": [
      "Fruits in the list: ['apple', 'banana', 'cherry', 'date', 'blueberry']\n"
     ]
    }
   ],
   "source": [
    "fruits = [\"apple\", \"banana\", \"cherry\", \"date\", \"blueberry\"]\n",
    "print(\"Fruits in the list:\", fruits)"
   ]
  },
  {
   "cell_type": "markdown",
   "id": "409a186a",
   "metadata": {},
   "source": [
    "##### 🔹 Accessing Elements\n",
    "\n",
    "---\n",
    "\n",
    "You can access elements using indexing. Indexes start from 0 for the first element and go up. Negative indexing starts from the end of the list."
   ]
  },
  {
   "cell_type": "code",
   "execution_count": 25,
   "id": "d9b14611",
   "metadata": {},
   "outputs": [
    {
     "data": {
      "text/plain": [
       "'kiwi'"
      ]
     },
     "execution_count": 25,
     "metadata": {},
     "output_type": "execute_result"
    }
   ],
   "source": [
    "fruits[0]\n",
    "fruits[1]\n",
    "fruits[-1] # last element"
   ]
  },
  {
   "cell_type": "markdown",
   "id": "5f45ccaf",
   "metadata": {},
   "source": [
    "##### 🔹 Modifying Elements\n",
    "\n",
    "---\n",
    "You can change the value of an item by accessing it with its index and assigning a new value:\n",
    "\n"
   ]
  },
  {
   "cell_type": "code",
   "execution_count": 28,
   "id": "0304b49c",
   "metadata": {},
   "outputs": [
    {
     "name": "stdout",
     "output_type": "stream",
     "text": [
      "['apple', 'blueberry', 'cherry', 'date', 'blueberry']\n"
     ]
    }
   ],
   "source": [
    "fruits[1] = \"blueberry\"\n",
    "print(fruits)  "
   ]
  },
  {
   "cell_type": "code",
   "execution_count": 30,
   "id": "c7a7522d",
   "metadata": {},
   "outputs": [
    {
     "data": {
      "text/plain": [
       "['blueberry', 'cherry']"
      ]
     },
     "execution_count": 30,
     "metadata": {},
     "output_type": "execute_result"
    }
   ],
   "source": [
    "fruits[1:3] # slice from index 1 to 2\n",
    "\n"
   ]
  },
  {
   "cell_type": "markdown",
   "id": "32f2f34c",
   "metadata": {},
   "source": [
    "##### 🔹 Common Methods"
   ]
  },
  {
   "cell_type": "code",
   "execution_count": 37,
   "id": "ad98dcd5",
   "metadata": {},
   "outputs": [
    {
     "name": "stdout",
     "output_type": "stream",
     "text": [
      "['apple', 'orange', 'banana', 'cherry', 'date', 'blueberry']\n"
     ]
    }
   ],
   "source": [
    "fruits = [\"apple\", \"banana\", \"cherry\", \"date\", \"blueberry\"]\n",
    "\n",
    "fruits.append('kiwi') # add to the end\n",
    "\n",
    "fruits.insert(1, 'orange') # add at index 1\n",
    "\n",
    "fruits.remove(\"kiwi\") # remove by value\n",
    "\n",
    "print(fruits)"
   ]
  },
  {
   "cell_type": "markdown",
   "id": "20146344",
   "metadata": {},
   "source": [
    "##### 🔹len()\n",
    "\n",
    "This function is used to find length of list "
   ]
  },
  {
   "cell_type": "code",
   "execution_count": 38,
   "id": "caa9b082",
   "metadata": {},
   "outputs": [
    {
     "data": {
      "text/plain": [
       "6"
      ]
     },
     "execution_count": 38,
     "metadata": {},
     "output_type": "execute_result"
    }
   ],
   "source": [
    "len(fruits) # length of the list"
   ]
  }
 ],
 "metadata": {
  "kernelspec": {
   "display_name": "Python 3",
   "language": "python",
   "name": "python3"
  },
  "language_info": {
   "codemirror_mode": {
    "name": "ipython",
    "version": 3
   },
   "file_extension": ".py",
   "mimetype": "text/x-python",
   "name": "python",
   "nbconvert_exporter": "python",
   "pygments_lexer": "ipython3",
   "version": "3.12.9"
  }
 },
 "nbformat": 4,
 "nbformat_minor": 5
}
