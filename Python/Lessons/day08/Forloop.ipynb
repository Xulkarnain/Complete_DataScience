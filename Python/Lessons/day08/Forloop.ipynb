{
 "cells": [
  {
   "cell_type": "markdown",
   "id": "cacb0465",
   "metadata": {},
   "source": [
    "#### 🔁 For Loops in Python\n",
    "\n",
    "A `for` loop is used to iterate over **iterable objects** in Python. These include:\n",
    "\n",
    "- `list`: `['a', 'b', 'c']`\n",
    "- `tuple`: `(1, 2, 3)`\n",
    "- `string`: `'hello'`\n",
    "- `set`: `{1, 2, 3}`\n",
    "- `dict`: `{'name': 'Alice', 'age': 25}`\n",
    "\n",
    "##### 🔄 Basic Syntax:\n",
    "```python\n",
    "for item in iterable:\n",
    "    # do something with item\n"
   ]
  },
  {
   "cell_type": "code",
   "execution_count": 2,
   "id": "68f170b7",
   "metadata": {},
   "outputs": [
    {
     "name": "stdout",
     "output_type": "stream",
     "text": [
      "Math\n",
      "DAA\n",
      "JAVA\n",
      "DLD\n",
      "Discrete_structures\n"
     ]
    }
   ],
   "source": [
    "my_subjects = [ \"Math\", \"DAA\" , \"JAVA\" , \"DLD\" , \"Discrete_structures\"]\n",
    "\n",
    "for i in my_subjects:\n",
    "    print(i)"
   ]
  },
  {
   "cell_type": "markdown",
   "id": "466abc75",
   "metadata": {},
   "source": [
    "#### 🧠 How `for` Loops Work Internally in Python\n",
    "\n",
    "When you run a `for` loop like this:\n",
    "\n",
    "```python\n",
    "for num in [1, 2, 3]:\n",
    "    print(num)\n"
   ]
  },
  {
   "cell_type": "code",
   "execution_count": 3,
   "id": "7013322b",
   "metadata": {},
   "outputs": [
    {
     "name": "stdout",
     "output_type": "stream",
     "text": [
      "1\n",
      "2\n",
      "3\n"
     ]
    }
   ],
   "source": [
    "num = [1,2,3]\n",
    "\n",
    "num = iter(num)   # makes this list iterable\n",
    "\n",
    "while True:\n",
    "    try:\n",
    "        print(next(num))  # prints the next element in the list\n",
    "    except StopIteration:\n",
    "        break  # breaks the loop when there are no more elements to print"
   ]
  },
  {
   "cell_type": "markdown",
   "id": "fcf0fbe8",
   "metadata": {},
   "source": [
    "#### 🔢 Using `range()` in Python\n",
    "\n",
    "The `range()` function is commonly used in `for` loops to iterate over a sequence of numbers.\n",
    "\n",
    "##### 🧾 Syntax:\n",
    "```python\n",
    "range(start, stop, step)\n"
   ]
  },
  {
   "cell_type": "code",
   "execution_count": 12,
   "id": "33756c5e",
   "metadata": {},
   "outputs": [
    {
     "name": "stdout",
     "output_type": "stream",
     "text": [
      "2\n",
      "4\n",
      "6\n",
      "8\n",
      "10\n",
      "12\n",
      "14\n",
      "16\n",
      "18\n",
      "20\n"
     ]
    }
   ],
   "source": [
    "for i in range(1, 11 , 1):\n",
    "    print(i*2)"
   ]
  },
  {
   "cell_type": "markdown",
   "id": "37ad5a4e",
   "metadata": {},
   "source": [
    "#### 🔁 Looping Through Dictionaries in Python\n",
    "\n",
    "Dictionaries can be looped through in different ways depending on what you're trying to access:\n",
    "\n",
    "##### ▶️ Keys (Default behavior):\n",
    "```python\n",
    "my_dict = {\"a\": 1, \"b\": 2}\n",
    "for key in my_dict:\n",
    "    print(key)\n",
    "# Output: a, b\n"
   ]
  },
  {
   "cell_type": "code",
   "execution_count": null,
   "id": "76e151bf",
   "metadata": {},
   "outputs": [
    {
     "name": "stdout",
     "output_type": "stream",
     "text": [
      "a\n",
      "b\n",
      "c\n",
      "d\n",
      "e\n",
      "1\n",
      "2\n",
      "3\n",
      "4\n",
      "5\n",
      "a : 1\n",
      "b : 2\n",
      "c : 3\n",
      "d : 4\n",
      "e : 5\n"
     ]
    }
   ],
   "source": [
    "my_dict = { 'a': 1, 'b': 2, 'c': 3, 'd': 4, 'e': 5}\n",
    "\n",
    "for keys in my_dict.keys():\n",
    "    print(keys)  # prints the keys of the dictionary\n",
    "\n",
    "for value in my_dict.values():\n",
    "    print(value)  # prints the values of the dictionary\n",
    "\n",
    "for key, value in my_dict.items():\n",
    "    print(key, \":\", value)  # prints the key and value of the dictionary"
   ]
  },
  {
   "cell_type": "markdown",
   "id": "5256be50",
   "metadata": {},
   "source": [
    "#### 🔁 Nested `for` Loops in Python\n",
    "\n",
    "Nested `for` loops are used to loop over multi-dimensional data, such as 2D lists (lists of lists), or to generate combinations of values.\n",
    "\n",
    "##### 🧾 Basic Syntax:\n",
    "```python\n",
    "for i in range(2):         # Outer loop\n",
    "    for j in range(3):     # Inner loop\n",
    "        print(i, j)\n"
   ]
  },
  {
   "cell_type": "code",
   "execution_count": 22,
   "id": "fee1e51d",
   "metadata": {},
   "outputs": [
    {
     "name": "stdout",
     "output_type": "stream",
     "text": [
      "1 1\n",
      "1 2\n",
      "2 1\n",
      "2 2\n"
     ]
    }
   ],
   "source": [
    "for i in range(1,3):\n",
    "    for j in range(1,3):\n",
    "        print(i,j)  # prints the value of i and j in the range of 1 to 3"
   ]
  },
  {
   "cell_type": "markdown",
   "id": "994f7c17",
   "metadata": {},
   "source": [
    "#### 🖨️ Controlling Print Output with `end` and Escape Sequences\n",
    "\n",
    "##### 🔹 By Default:\n",
    "\n",
    "\\n – new line (even inside strings)\n",
    "\n",
    "##### 🔹 Diffrent controls\n",
    "\n",
    "\\t – tab space\n",
    "\n",
    "\n",
    "\\\\ – backslash\n",
    "\n",
    "\\\" – double quote inside strings"
   ]
  },
  {
   "cell_type": "code",
   "execution_count": 25,
   "id": "7c5bfe4f",
   "metadata": {},
   "outputs": [
    {
     "name": "stdout",
     "output_type": "stream",
     "text": [
      "hello world\n",
      "lets\tgo\n"
     ]
    }
   ],
   "source": [
    "print(\"hello\", end=\" \")  # prints hello without a new line\n",
    "print(\"world\")  # prints world in the next line\n",
    "\n",
    "print(\"lets\" , end=\"\\t\")\n",
    "print(\"go\")"
   ]
  },
  {
   "cell_type": "markdown",
   "id": "8fee152f",
   "metadata": {},
   "source": [
    "##### ⭐ Star Pattern Problems in Python\n",
    "\n",
    "Star pattern problems help develop logic using nested loops. These are often used in coding interviews and early programming practice.\n",
    "\n",
    "###### 🔹 Example 1: Right-Angled Triangle\n",
    "\n",
    "```python\n",
    "*\n",
    "**\n",
    "***\n",
    "****\n",
    "*****\n"
   ]
  },
  {
   "cell_type": "code",
   "execution_count": 48,
   "id": "f7c16e78",
   "metadata": {},
   "outputs": [
    {
     "name": "stdout",
     "output_type": "stream",
     "text": [
      "*\n",
      "**\n",
      "***\n",
      "****\n",
      "*****\n"
     ]
    }
   ],
   "source": [
    "for j in range(1,6):\n",
    "        print('*'*j)"
   ]
  },
  {
   "cell_type": "markdown",
   "id": "0522165c",
   "metadata": {},
   "source": [
    "##### Example 2 :\n",
    "\n",
    "```pyrhon\n",
    "*****\n",
    "****\n",
    "***\n",
    "**\n",
    "*"
   ]
  },
  {
   "cell_type": "code",
   "execution_count": 50,
   "id": "ca056561",
   "metadata": {},
   "outputs": [
    {
     "name": "stdout",
     "output_type": "stream",
     "text": [
      "*****\n",
      "****\n",
      "***\n",
      "**\n",
      "*\n"
     ]
    }
   ],
   "source": [
    "for j in range(5,0,-1):\n",
    "    print('*'*j)"
   ]
  },
  {
   "cell_type": "markdown",
   "id": "3072535a",
   "metadata": {},
   "source": [
    "##### Example 3:\n",
    "\n",
    "```python\n",
    "*****\n",
    " ****\n",
    "  ***\n",
    "   **\n",
    "    *"
   ]
  },
  {
   "cell_type": "code",
   "execution_count": null,
   "id": "7ccd871b",
   "metadata": {},
   "outputs": [
    {
     "name": "stdout",
     "output_type": "stream",
     "text": [
      " *****\n",
      "  ****\n",
      "   ***\n",
      "    **\n",
      "     *\n"
     ]
    }
   ],
   "source": [
    "\n",
    "for j in range(5, 0 ,-1):\n",
    "    print(\" \" * (5-j) ,\"*\" * j)\n",
    "  \n",
    "    "
   ]
  },
  {
   "cell_type": "markdown",
   "id": "5a9f5e7c",
   "metadata": {},
   "source": [
    "#### 🔁 Loop Control Statements in Python\n",
    "\n",
    "##### 1. `continue`\n",
    "- Skips the current iteration of the loop.\n",
    "- The loop doesn't stop; it moves to the next item.\n",
    "\n",
    "##### 2. `break`\n",
    "- To exit the loop completely when a specific condition is met, stopping any further iterations."
   ]
  },
  {
   "cell_type": "code",
   "execution_count": 129,
   "id": "dc297a86",
   "metadata": {},
   "outputs": [
    {
     "name": "stdout",
     "output_type": "stream",
     "text": [
      "1\n",
      "2\n",
      "4\n",
      "5\n"
     ]
    }
   ],
   "source": [
    "for i in range(1, 6):\n",
    "    if i == 3:\n",
    "        continue\n",
    "    print(i)"
   ]
  },
  {
   "cell_type": "code",
   "execution_count": 130,
   "id": "b78cba4e",
   "metadata": {},
   "outputs": [
    {
     "name": "stdout",
     "output_type": "stream",
     "text": [
      "1\n",
      "2\n"
     ]
    }
   ],
   "source": [
    "for i in range(1, 6):\n",
    "    if i == 3:\n",
    "        break\n",
    "    print(i)"
   ]
  }
 ],
 "metadata": {
  "kernelspec": {
   "display_name": "Python 3",
   "language": "python",
   "name": "python3"
  },
  "language_info": {
   "codemirror_mode": {
    "name": "ipython",
    "version": 3
   },
   "file_extension": ".py",
   "mimetype": "text/x-python",
   "name": "python",
   "nbconvert_exporter": "python",
   "pygments_lexer": "ipython3",
   "version": "3.12.9"
  }
 },
 "nbformat": 4,
 "nbformat_minor": 5
}
