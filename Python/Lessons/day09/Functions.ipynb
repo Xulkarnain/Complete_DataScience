{
 "cells": [
  {
   "cell_type": "markdown",
   "id": "c64f7c1e",
   "metadata": {},
   "source": [
    "##  Introduction to Functions in Python\n",
    "\n",
    "\n",
    "### What are Functions?\n",
    "- A **function** is a block of reusable code that performs a specific task.\n",
    "- Helps avoid redundancy and keeps the code clean and organized.\n",
    "\n",
    "### Why use Functions?\n",
    "- 🌀 **Reusability:** Define once, use multiple times.\n",
    "- 📚 **Organization:** Break large problems into smaller, manageable parts.\n",
    "- 🚀 **Efficiency:** Reduces duplication and potential errors.\n",
    "\n"
   ]
  },
  {
   "cell_type": "code",
   "execution_count": 1,
   "id": "f8190bd4",
   "metadata": {},
   "outputs": [
    {
     "name": "stdout",
     "output_type": "stream",
     "text": [
      "7\n"
     ]
    }
   ],
   "source": [
    "def add(a,b):\n",
    "    print(a+b)\n",
    "\n",
    "add(3,4)"
   ]
  },
  {
   "cell_type": "markdown",
   "id": "4d5ef5c9",
   "metadata": {},
   "source": [
    "##  Default Arguments in Python Functions\n",
    "\n",
    "### What are Default Arguments?\n",
    "- Default arguments allow a function to **assign default values** to parameters.\n",
    "- If a caller **omits an argument**, Python **automatically uses** the default value.\n",
    "\n",
    "### Why use Default Arguments?\n",
    "-  **Error Prevention:** Avoids \"missing argument\" errors.\n",
    "-  **Flexibility:** Lets functions handle calls with fewer inputs.\n",
    "-  **Cleaner Code:** Reduces need for multiple overloaded functions.\n"
   ]
  },
  {
   "cell_type": "code",
   "execution_count": 2,
   "id": "67abe4aa",
   "metadata": {},
   "outputs": [
    {
     "name": "stdout",
     "output_type": "stream",
     "text": [
      "12\n",
      "0\n",
      "0\n"
     ]
    }
   ],
   "source": [
    "def mult(a=0,b=0):\n",
    "    print(a*b)\n",
    "\n",
    "mult(3,4)\n",
    "mult(3)\n",
    "mult(b=4)"
   ]
  },
  {
   "cell_type": "markdown",
   "id": "6e1d9dc0",
   "metadata": {},
   "source": [
    "## Nonkeyword argument\n",
    "\n",
    "<sub>\n",
    "\n",
    "- '*'args is used in function definitions to allow you to pass a variable number of non-keyword arguments to a function. \n",
    "\n",
    "- The * symbol before args (or any other name you choose) is a syntax that tells Python to collect all the extra positional arguments passed into a tuple. \n",
    "\n",
    "- Important note: The variable (args in this case) stores the arguments passed into the function as a tuple, but it's still dynamic in nature. This means you can pass in any number of arguments, and Python will automatically package them into that tuple.\n",
    "</sub>"
   ]
  },
  {
   "cell_type": "code",
   "execution_count": 5,
   "id": "26648575",
   "metadata": {},
   "outputs": [
    {
     "name": "stdout",
     "output_type": "stream",
     "text": [
      "zulkarnain\n",
      "20\n",
      "Kashmir\n"
     ]
    }
   ],
   "source": [
    "def details(*args):\n",
    "    for i in args:\n",
    "        print(i)\n",
    "\n",
    "details(\"zulkarnain\", \"20\", 'Kashmir')"
   ]
  },
  {
   "cell_type": "markdown",
   "id": "171c2a45",
   "metadata": {},
   "source": [
    "### Keyword argument\n",
    "\n",
    "- **kwargs allows you to pass a variable number of keyword arguments to a function.\n",
    "\n",
    "- The ** syntax tells Python to collect all the keyword arguments (passed as key=value pairs) into a dictionary inside the function.\n",
    "\n",
    "- kwargs is just a name for the variable that holds the dictionary of arguments, and it’s conventional to use kwargs, but you can use any name you prefer.\n",
    "\n"
   ]
  },
  {
   "cell_type": "code",
   "execution_count": 6,
   "id": "236eeb14",
   "metadata": {},
   "outputs": [
    {
     "name": "stdout",
     "output_type": "stream",
     "text": [
      "name : zulkarnain\n",
      "age : 20\n",
      "place : Kashmir\n"
     ]
    }
   ],
   "source": [
    "def my_dict(**kwargs):\n",
    "    for key,value in kwargs.items():\n",
    "        print(key, \":\" , value)\n",
    "\n",
    "dict1 = {\"name\":\"zulkarnain\", \"age\":20, \"place\":\"Kashmir\"}\n",
    "my_dict(**dict1)"
   ]
  },
  {
   "cell_type": "markdown",
   "id": "9e3fabd4",
   "metadata": {},
   "source": [
    "### Return in function\n",
    "\n",
    "- The return statement allows a function to send a result (or any value) back to the caller.\n",
    "\n",
    "- When you call a function like ``a = add()``, the return value of add() is stored in a.\n",
    "\n",
    "- If a function doesn't explicitly return a value, it returns None by default.\n",
    "\n",
    "- You can return *args or **kwargs if you want to send back all the arguments passed to the function (as a tuple or   dictionary)."
   ]
  },
  {
   "cell_type": "code",
   "execution_count": 12,
   "id": "27d124f7",
   "metadata": {},
   "outputs": [
    {
     "data": {
      "text/plain": [
       "15"
      ]
     },
     "execution_count": 12,
     "metadata": {},
     "output_type": "execute_result"
    }
   ],
   "source": [
    "def my_dict1(*args):\n",
    "    sum = 0\n",
    "    for i in args:\n",
    "        sum+= i\n",
    "    return sum\n",
    "\n",
    "a = my_dict1(1,2,3,4,5)\n",
    "a"
   ]
  }
 ],
 "metadata": {
  "kernelspec": {
   "display_name": "Python 3",
   "language": "python",
   "name": "python3"
  },
  "language_info": {
   "codemirror_mode": {
    "name": "ipython",
    "version": 3
   },
   "file_extension": ".py",
   "mimetype": "text/x-python",
   "name": "python",
   "nbconvert_exporter": "python",
   "pygments_lexer": "ipython3",
   "version": "3.12.9"
  }
 },
 "nbformat": 4,
 "nbformat_minor": 5
}
