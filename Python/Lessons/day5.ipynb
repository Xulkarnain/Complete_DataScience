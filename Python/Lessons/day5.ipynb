{
 "cells": [
  {
   "cell_type": "markdown",
   "id": "a76d154b",
   "metadata": {},
   "source": [
    "### ➕ More Operators in Python\n",
    "<small>\n",
    "\n",
    "Now that we’ve covered **Arithmetic Operators**, let’s explore other essential Python operators:\n",
    "\n",
    "| **Operator Type**     | **Operators**                                          | **Description**                                  |\n",
    "|-----------------------|--------------------------------------------------------|--------------------------------------------------|\n",
    "| **Comparison**        | `==`, `!=`, `>`, `<`, `>=`, `<=`                        | Compare two values                               |\n",
    "| **Assignment**        | `=`, `+=`, `-=`, `*=`, `/=`, `//=`, `%=`, `**=`        | Assign or update variable values                 |\n",
    "| **Logical**           | `and`, `or`, `not`                                     | Combine boolean expressions                      |\n",
    "| **Bitwise**           | `&`, `|`, `^`, `~`, `<<`, `>>`                          | Perform operations at the bit level              |\n",
    "| **Identity**          | `is`, `is not`                                         | Check if two objects refer to the same memory    |\n",
    "| **Membership**        | `in`, `not in`                                         | Test if a value exists in a sequence             |\n",
    "\n",
    "</small>"
   ]
  },
  {
   "cell_type": "code",
   "execution_count": null,
   "id": "1cde44a3",
   "metadata": {},
   "outputs": [
    {
     "name": "stdout",
     "output_type": "stream",
     "text": [
      "a =  17\n",
      "b =  23\n",
      "False\n",
      "True\n",
      "False\n",
      "True\n",
      "True\n"
     ]
    }
   ],
   "source": [
    "#Comparison Operators\n",
    "import random \n",
    "\n",
    "a = random.randint(1, 100)\n",
    "b = random.randint(1, 100)\n",
    "\n",
    "print(\"a = \", a)\n",
    "print(\"b = \", b)\n",
    "\n",
    "a == b #compare a and b\n",
    "print(a > b) #compare a and b\n",
    "print(a < b) #compare a and b\n",
    "print(a >= b) #compare a and b\n",
    "print(a <= b) #compare a and b\n",
    "print(a != b) #compare a and b\n"
   ]
  },
  {
   "cell_type": "code",
   "execution_count": 6,
   "id": "8c7a8f98",
   "metadata": {},
   "outputs": [
    {
     "name": "stdout",
     "output_type": "stream",
     "text": [
      "15\n",
      "5\n",
      "50\n",
      "5.0\n",
      "5.0\n",
      "0.0\n",
      "0.0\n"
     ]
    }
   ],
   "source": [
    "# Assignment Operators`\n",
    "a = 5\n",
    "b = 10\n",
    "\n",
    "a += b   # a = a + b\n",
    "print(a) # 15\n",
    "\n",
    "a -= b   # a = a - b\n",
    "print(a) # 5    \n",
    "\n",
    "a *= b   # a = a * b\n",
    "print(a) # 50\n",
    "\n",
    "a /= b   # a = a / b\n",
    "print(a) # 5.0\n",
    "\n",
    "a %= b   # a = a % b\n",
    "print(a) # 5.0\n",
    "\n",
    "a //= b   # a = a // b\n",
    "print(a) # 0.0\n",
    "\n",
    "a **= b   # a = a ** b\n",
    "print(a) # 0.0\n"
   ]
  },
  {
   "cell_type": "code",
   "execution_count": 8,
   "id": "94617820",
   "metadata": {},
   "outputs": [
    {
     "name": "stdout",
     "output_type": "stream",
     "text": [
      "False\n",
      "True\n",
      "True\n",
      "False\n",
      "True\n"
     ]
    }
   ],
   "source": [
    "# logical operators\n",
    "a = True\n",
    "b = False\n",
    "\n",
    "print(a and b) # False checks both a and b are true then its true\n",
    "print(a or b) # True checks if a or b is true then its true\n",
    "print(a and not b) # True checks if a is true and b is false then its true\n",
    "print(not a) # False checks if a is false then its true\n",
    "print(not b) # True     checks if b is false then its true     \n"
   ]
  },
  {
   "cell_type": "markdown",
   "id": "04e78aa1",
   "metadata": {},
   "source": [
    "### 🔀 Conditional Statements in Python\n",
    "\n",
    "<small>\n",
    "\n",
    "Python uses `if`, `elif`, and `else` to control the flow of execution based on conditions.\n",
    "\n",
    "> ✅ Use `if-elif-else` for decision making in your scripts to handle multiple possible outcomes.\n",
    "\n",
    "</small>\n"
   ]
  },
  {
   "cell_type": "code",
   "execution_count": 12,
   "id": "767a3741",
   "metadata": {},
   "outputs": [
    {
     "name": "stdout",
     "output_type": "stream",
     "text": [
      "Grade: A\n"
     ]
    }
   ],
   "source": [
    "score = random.randint(0, 100)\n",
    "\n",
    "if score >= 90:\n",
    "    print(\"Grade: A\")\n",
    "elif score >= 75:\n",
    "    print(\"Grade: B\")\n",
    "else:\n",
    "    print(\"Grade: C or below\")"
   ]
  },
  {
   "cell_type": "code",
   "execution_count": 16,
   "id": "1ce26d1d",
   "metadata": {},
   "outputs": [
    {
     "name": "stdout",
     "output_type": "stream",
     "text": [
      "Hello Student\n"
     ]
    }
   ],
   "source": [
    "name = random.choice([\"Monal\", \"Student\"])\n",
    "\n",
    "if name == \"Monal\":\n",
    "    print(\"Hello Instructor\")\n",
    "else:\n",
    "    print(\"Hello Student\")"
   ]
  },
  {
   "cell_type": "markdown",
   "id": "a0aa2d2d",
   "metadata": {},
   "source": [
    "### 📝 Input Function in Python\n",
    "\n",
    "<small>\n",
    "\n",
    "The `input()` function allows the user to **provide input** to a program during execution. By default, it returns the input as a **string**.\n",
    "\n",
    "---\n",
    "\n",
    "#### 🔹 Basic Usage\n",
    "```python\n",
    "name = input(\"Enter your name: \")\n",
    "print(\"Hello,\", name)\n",
    "```\n",
    "\n",
    "🧠 **Note:** Input is always returned as a string. Use typecasting if you need a different type:\n",
    "\n",
    "```python\n",
    "age = int(input(\"Enter your age: \"))\n",
    "print(\"You will be\", age + 1, \"next year.\")\n",
    "```\n",
    "\n",
    "---\n",
    "\n",
    "> 📌 Use `input()` when you want your program to interact with users in real-time.\n",
    "\n",
    "</small>\n"
   ]
  },
  {
   "cell_type": "code",
   "execution_count": 20,
   "id": "a898ac1c",
   "metadata": {},
   "outputs": [
    {
     "name": "stdout",
     "output_type": "stream",
     "text": [
      "Hello zulkarnain you are 20 years old.\n"
     ]
    }
   ],
   "source": [
    "Name = input(\"Enter your name: \")\n",
    "\n",
    "date_of_birth = int(input(\"Enter your date of birth (YYYY): \"))\n",
    "\n",
    "current_year = 2025\n",
    "age = current_year - date_of_birth\n",
    "\n",
    "print(\"Hello\", Name, \"you are\", age, \"years old.\")"
   ]
  }
 ],
 "metadata": {
  "kernelspec": {
   "display_name": "Python 3",
   "language": "python",
   "name": "python3"
  },
  "language_info": {
   "codemirror_mode": {
    "name": "ipython",
    "version": 3
   },
   "file_extension": ".py",
   "mimetype": "text/x-python",
   "name": "python",
   "nbconvert_exporter": "python",
   "pygments_lexer": "ipython3",
   "version": "3.12.9"
  }
 },
 "nbformat": 4,
 "nbformat_minor": 5
}
