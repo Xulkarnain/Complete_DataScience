{
 "cells": [
  {
   "cell_type": "markdown",
   "id": "14247039",
   "metadata": {},
   "source": [
    "## Inheritance\n",
    "\n",
    "- Inheritance allows a new class (child/derived class) to reuse the code of an existing class (parent/base class).\n",
    "\n",
    "- The child class inherits attributes, methods, and behavior of the parent class, and can extend or override them as needed.\n",
    "\n"
   ]
  },
  {
   "cell_type": "code",
   "execution_count": 6,
   "id": "e9eee298",
   "metadata": {},
   "outputs": [
    {
     "name": "stdout",
     "output_type": "stream",
     "text": [
      "name : ali -> P\n"
     ]
    }
   ],
   "source": [
    "class student:\n",
    "    def details(self,name,rollno):\n",
    "        self.name = name\n",
    "        self.rollno = int(rollno)\n",
    "    \n",
    "class attendance(student):\n",
    "    def attend(self):\n",
    "        print(f\"name : {self.name} -> P\")\n",
    "\n",
    "ali = attendance()\n",
    "\n",
    "ali.details(\"ali\",2)\n",
    "ali.attend()"
   ]
  },
  {
   "cell_type": "markdown",
   "id": "54867d06",
   "metadata": {},
   "source": [
    "## 🔄 Method Overriding in Python\n",
    "\n",
    "- **Definition**: When a child class defines a method with the same name as in its parent class, the child class's method overrides the parent’s method.\n",
    "- **Priority**: The child class’s method executes by default when called from the child class object.\n",
    "- **Access Parent Method**: Use `super().method_name()` to call the parent method from the child class."
   ]
  },
  {
   "cell_type": "code",
   "execution_count": 7,
   "id": "b5d326ce",
   "metadata": {},
   "outputs": [
    {
     "name": "stdout",
     "output_type": "stream",
     "text": [
      "Hello from Child!\n",
      "Hello from Parent!\n"
     ]
    }
   ],
   "source": [
    "class Parent:\n",
    "    def greet(self):\n",
    "        print(\"Hello from Parent!\")\n",
    "\n",
    "class Child(Parent):\n",
    "    def greet(self):\n",
    "        print(\"Hello from Child!\")\n",
    "        super().greet()\n",
    "\n",
    "obj = Child()\n",
    "obj.greet()"
   ]
  },
  {
   "cell_type": "markdown",
   "id": "e0d2319a",
   "metadata": {},
   "source": [
    "## 🏗️ Constructor Overriding in Python\n",
    "\n",
    "### ✨ What is it?\n",
    "- When both Parent and Child classes define their own `__init__` methods.\n",
    "- Creating an object of the child class **prioritizes the child’s constructor**.\n"
   ]
  },
  {
   "cell_type": "code",
   "execution_count": 8,
   "id": "3973e6eb",
   "metadata": {},
   "outputs": [
    {
     "name": "stdout",
     "output_type": "stream",
     "text": [
      "Parent constructor\n",
      "Child constructor\n"
     ]
    }
   ],
   "source": [
    "class Parent:\n",
    "    def __init__(self):\n",
    "        print(\"Parent constructor\")\n",
    "\n",
    "class Child(Parent):\n",
    "    def __init__(self):\n",
    "        super().__init__()  # Explicitly calling parent constructor\n",
    "        print(\"Child constructor\")\n",
    "\n",
    "obj = Child()"
   ]
  }
 ],
 "metadata": {
  "kernelspec": {
   "display_name": "Python 3",
   "language": "python",
   "name": "python3"
  },
  "language_info": {
   "codemirror_mode": {
    "name": "ipython",
    "version": 3
   },
   "file_extension": ".py",
   "mimetype": "text/x-python",
   "name": "python",
   "nbconvert_exporter": "python",
   "pygments_lexer": "ipython3",
   "version": "3.12.9"
  }
 },
 "nbformat": 4,
 "nbformat_minor": 5
}
