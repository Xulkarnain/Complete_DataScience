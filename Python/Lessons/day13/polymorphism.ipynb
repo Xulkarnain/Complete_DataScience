{
 "cells": [
  {
   "cell_type": "markdown",
   "id": "b6bb8ddb",
   "metadata": {},
   "source": [
    "## 🌀 Polymorphism in Python\n",
    "\n",
    "Polymorphism allows the same method, operator, or function name to have different behaviors in different contexts."
   ]
  },
  {
   "cell_type": "code",
   "execution_count": 1,
   "id": "50e20a21",
   "metadata": {},
   "outputs": [
    {
     "name": "stdout",
     "output_type": "stream",
     "text": [
      "Woof!\n",
      "Meow!\n"
     ]
    }
   ],
   "source": [
    "class Dog:\n",
    "    def speak(self):\n",
    "        print(\"Woof!\")\n",
    "\n",
    "class Cat:\n",
    "    def speak(self):\n",
    "        print(\"Meow!\")\n",
    "\n",
    "def animal_sound(animal):\n",
    "    animal.speak()\n",
    "\n",
    "d = Dog()\n",
    "c = Cat()\n",
    "\n",
    "animal_sound(d)  # Woof!\n",
    "animal_sound(c)  # Meow!\n"
   ]
  },
  {
   "cell_type": "markdown",
   "id": "f7941d24",
   "metadata": {},
   "source": [
    "## ⚔️ Method Overloading vs Method Overriding\n",
    "\n",
    "| Feature              | Method Overloading | Method Overriding |\n",
    "|----------------------|--------------------|-------------------|\n",
    "| 📍 Definition        | Same method name with different parameters **in the same class** | Same method name **in parent & child class** |\n",
    "| 🔗 Relation          | Within **one class** | Between **parent & child class** (Inheritance) |\n",
    "| ⚙️ Python Support    | Not traditional (achieved using **default args / *args**) | Fully supported |\n",
    "| 🛠️ Example Use Case  | One method handles **different inputs** | Child class **modifies** parent method's behavior |\n",
    "| 🔑 Key Mechanism     | Default arguments, `*args`, `**kwargs` | `super()` keyword to access parent method |\n",
    "\n",
    "---\n"
   ]
  },
  {
   "cell_type": "code",
   "execution_count": 5,
   "id": "c3c65e12",
   "metadata": {},
   "outputs": [
    {
     "name": "stdout",
     "output_type": "stream",
     "text": [
      "Hello, jhon\n"
     ]
    }
   ],
   "source": [
    "class Example:\n",
    "    def greet(self, name=\"Guest\"):\n",
    "        print(f\"Hello, {name}\")\n",
    "\n",
    "Example().greet(\"jhon\")"
   ]
  },
  {
   "cell_type": "markdown",
   "id": "7e70a044",
   "metadata": {},
   "source": [
    "## 🔒 Encapsulation in Python\n",
    "\n",
    "Encapsulation is the process of **hiding internal details** of a class and **restricting direct access** to them.\n",
    "We use:\n",
    "- **Private variables** (by prefixing with `_` or `__`)\n",
    "- **Getter and Setter methods** to control access\n",
    "\n",
    "\n"
   ]
  },
  {
   "cell_type": "code",
   "execution_count": 6,
   "id": "44616d31",
   "metadata": {},
   "outputs": [
    {
     "name": "stdout",
     "output_type": "stream",
     "text": [
      "1000\n",
      "1500\n"
     ]
    }
   ],
   "source": [
    "class BankAccount:\n",
    "    def __init__(self, balance):\n",
    "        self.__balance = balance \n",
    "\n",
    "    # Getter method\n",
    "    def get_balance(self):\n",
    "        return self.__balance\n",
    "\n",
    "    # Setter method\n",
    "    def deposit(self, amount):\n",
    "        if amount > 0:\n",
    "            self.__balance += amount\n",
    "\n",
    "account = BankAccount(1000)\n",
    "print(account.get_balance()) \n",
    "\n",
    "account.deposit(500)\n",
    "print(account.get_balance()) \n"
   ]
  },
  {
   "cell_type": "markdown",
   "id": "26a8246b",
   "metadata": {},
   "source": [
    "## ⚙️ Protected vs Private Variables in Python\n",
    "\n",
    "| Syntax | Type | Effect |\n",
    "|--------|------|--------|\n",
    "| `_variable` | Protected | Can be accessed, but **not recommended** (by convention only) |\n",
    "| `__variable` | Private | **Name mangling** makes it harder to access outside |"
   ]
  },
  {
   "cell_type": "code",
   "execution_count": 7,
   "id": "50e4becd",
   "metadata": {},
   "outputs": [
    {
     "name": "stdout",
     "output_type": "stream",
     "text": [
      "I am protected\n",
      "I am private\n"
     ]
    }
   ],
   "source": [
    "class MyClass:\n",
    "    def __init__(self):\n",
    "        self._protected = \"I am protected\"\n",
    "        self.__private = \"I am private\"\n",
    "\n",
    "obj = MyClass()\n",
    "print(obj._protected)   # ✅ Works (but not recommended)\n",
    "\n",
    "# print(obj.__private)  # ❌ AttributeError\n",
    "print(obj._MyClass__private)  # ✅ Works (name mangling)"
   ]
  },
  {
   "cell_type": "markdown",
   "id": "2e5579e3",
   "metadata": {},
   "source": [
    "## 🎭 Abstraction in Python OOP\n",
    "\n",
    "**Definition:**  \n",
    "➡️ Hides **internal details** and shows **only functionality** to users.\n",
    "\n",
    "### 🛠️ Real-World Example\n",
    "- Car: You only see **steering wheel** → don't know how engine works\n",
    "\n",
    "### ✨ Why use abstraction?\n",
    "- Simplifies complex systems\n",
    "- Focus on **what** something does, not **how**\n",
    "\n"
   ]
  },
  {
   "cell_type": "code",
   "execution_count": 8,
   "id": "13eac281",
   "metadata": {},
   "outputs": [
    {
     "name": "stdout",
     "output_type": "stream",
     "text": [
      "HDFC interest is 7%\n"
     ]
    }
   ],
   "source": [
    "from abc import ABC, abstractmethod\n",
    "\n",
    "class Bank(ABC):     # Abstract Base Class\n",
    "    @abstractmethod\n",
    "    def loan_interest(self):\n",
    "        pass\n",
    "\n",
    "class HDFC(Bank):     # Concrete class\n",
    "    def loan_interest(self):\n",
    "        return \"HDFC interest is 7%\"\n",
    "\n",
    "bank = HDFC()\n",
    "print(bank.loan_interest())      \n"
   ]
  }
 ],
 "metadata": {
  "kernelspec": {
   "display_name": "Python 3",
   "language": "python",
   "name": "python3"
  },
  "language_info": {
   "codemirror_mode": {
    "name": "ipython",
    "version": 3
   },
   "file_extension": ".py",
   "mimetype": "text/x-python",
   "name": "python",
   "nbconvert_exporter": "python",
   "pygments_lexer": "ipython3",
   "version": "3.12.0"
  }
 },
 "nbformat": 4,
 "nbformat_minor": 5
}
