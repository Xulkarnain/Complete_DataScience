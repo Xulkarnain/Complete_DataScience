{
 "cells": [
  {
   "cell_type": "markdown",
   "id": "059c6a66",
   "metadata": {},
   "source": [
    "```bash\n",
    "ThreadPoolExecutor is part of Python's concurrent.futures module and is used to manage a pool of threads efficiently. You don’t need to manually .join() threads when using it — the executor handles lifecycle management for you."
   ]
  },
  {
   "cell_type": "code",
   "execution_count": 5,
   "id": "c353ce1a",
   "metadata": {},
   "outputs": [],
   "source": [
    "from concurrent.futures import ThreadPoolExecutor\n",
    "import time"
   ]
  },
  {
   "cell_type": "code",
   "execution_count": 6,
   "id": "59f976e2",
   "metadata": {},
   "outputs": [
    {
     "name": "stdout",
     "output_type": "stream",
     "text": [
      "Watching a.txt\n",
      "Watching file ....1\n",
      "Watching b.txt\n",
      "Watching file ....2\n",
      "Watching c.txt\n",
      "Watching file ....3\n",
      "Watching file ....1\n",
      "Watching file ....3\n",
      "Watching file ....2\n",
      "Watching file ....2\n",
      "Watching file ....3\n",
      "Watching file ....1\n",
      "Watching file ....2\n",
      "Watching file ....1\n",
      "Watching file ....3\n",
      "Watching file ....2Watching file ....3\n",
      "Watching file ....1\n",
      "\n",
      "Watch thread id : 3 exiting cleanly..\n",
      "Watching d.txt\n",
      "Watching file ....4\n",
      "Watch thread id : 1 exiting cleanly..\n",
      "Watch thread id : 2 exiting cleanly..\n",
      "Watching file ....4\n",
      "Watching file ....4\n",
      "Watching file ....4\n",
      "Watching file ....4\n",
      "Watch thread id : 4 exiting cleanly..\n",
      "Thread executed successfully\n"
     ]
    }
   ],
   "source": [
    "# start\n",
    "# join()\n",
    "\n",
    "a = [(1 ,\"a.txt\",\"thread_1\",), (2 ,\"b.txt\",\"thread_2\",), (3 ,\"c.txt\",\"thread_3\",), (4 ,\"d.txt\",\"thread_4\",)]\n",
    "def watch_file(input_tuple):\n",
    "    thread_id, file_path, thread_name = input_tuple\n",
    "    count=0\n",
    "    print(f\"Watching {file_path}\")\n",
    "    while count<5:\n",
    "        print(f\"Watching file ....{thread_id}\")\n",
    "        time.sleep(2)\n",
    "        count+=1\n",
    "    print(f\"Watch thread id : {thread_id } exiting cleanly..\")\n",
    "    return f\"Hello {thread_id}\"\n",
    "\n",
    "\n",
    "with ThreadPoolExecutor(max_workers=3) as executor:\n",
    "    results = list(executor.map(watch_file, a))\n",
    "\n",
    "# watch_file, (1 ,\"a.txt\",\"thread_1\",)\n",
    "# watch_file, (2 ,\"b.txt\",\"thread_2\",)\n",
    "# watch_file, (3 ,\"c.txt\",\"thread_3\",)\n",
    "# watch_file, (4 ,\"d.txt\",\"thread_4\",)\n",
    "\n",
    "print(\"Thread executed successfully\")"
   ]
  }
 ],
 "metadata": {
  "kernelspec": {
   "display_name": "Python 3",
   "language": "python",
   "name": "python3"
  },
  "language_info": {
   "codemirror_mode": {
    "name": "ipython",
    "version": 3
   },
   "file_extension": ".py",
   "mimetype": "text/x-python",
   "name": "python",
   "nbconvert_exporter": "python",
   "pygments_lexer": "ipython3",
   "version": "3.12.0"
  }
 },
 "nbformat": 4,
 "nbformat_minor": 5
}
