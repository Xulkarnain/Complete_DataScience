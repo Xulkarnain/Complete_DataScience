{
 "cells": [
  {
   "cell_type": "markdown",
   "id": "08eab162",
   "metadata": {},
   "source": [
    "## ❌ Manually Stopping a Python Thread\n",
    "\n",
    "### 🔹 The Problem:\n",
    "Threads don’t stop automatically — and Python doesn't support `.stop()` directly.\n",
    "\n",
    "### ✅ Solution:\n",
    "Use `threading.Event()` to signal the thread to stop, and check that signal inside the loop.\n",
    "\n",
    "### 🔧 Example:\n",
    "```python\n",
    "import threading\n",
    "import time\n",
    "\n",
    "# Create a global stop signal\n",
    "stop_signal = threading.Event()\n"
   ]
  },
  {
   "cell_type": "code",
   "execution_count": 3,
   "id": "f0c25f35",
   "metadata": {},
   "outputs": [],
   "source": [
    "import threading\n",
    "import time\n"
   ]
  },
  {
   "cell_type": "code",
   "execution_count": 4,
   "id": "495172d0",
   "metadata": {},
   "outputs": [
    {
     "name": "stdout",
     "output_type": "stream",
     "text": [
      "Watching a.txt\n",
      "Watching file ....\n",
      "Watch exiting cleanly..\n",
      "Main program exited cleanly.\n"
     ]
    }
   ],
   "source": [
    "stop_signal = threading.Event() # bydefault it is false\n",
    "\n",
    "def watch_file(file_path):\n",
    "    count = 0\n",
    "    print(f\"Watching {file_path}\")\n",
    "    while not stop_signal.is_set():\n",
    "        print(\"Watching file ....\")\n",
    "        time.sleep(2)\n",
    "    print(\"Watch exiting cleanly..\")\n",
    "\n",
    "\n",
    "t1_wd = threading.Thread(target=watch_file, args=(\"a.txt\",))\n",
    "t1_wd.start()\n",
    "\n",
    "stop_signal.set() # Event value to be true\n",
    "\n",
    "t1_wd.join()\n",
    "\n",
    "time.sleep(5)\n",
    "\n",
    "print(\"Main program exited cleanly.\")"
   ]
  },
  {
   "cell_type": "markdown",
   "id": "90bea43a",
   "metadata": {},
   "source": [
    "## 🧵 Daemon Threads in Python\n",
    "\n",
    "### 🔹 What is a daemon thread?\n",
    "A daemon thread runs in the background and is killed automatically when the main thread finishes.\n",
    "\n",
    "### 🔹 Syntax:\n",
    "```python\n",
    "t = threading.Thread(target=task, daemon=True)\n",
    "t.start()\n"
   ]
  }
 ],
 "metadata": {
  "kernelspec": {
   "display_name": "Python 3",
   "language": "python",
   "name": "python3"
  },
  "language_info": {
   "codemirror_mode": {
    "name": "ipython",
    "version": 3
   },
   "file_extension": ".py",
   "mimetype": "text/x-python",
   "name": "python",
   "nbconvert_exporter": "python",
   "pygments_lexer": "ipython3",
   "version": "3.12.0"
  }
 },
 "nbformat": 4,
 "nbformat_minor": 5
}
