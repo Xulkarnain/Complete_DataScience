{
 "cells": [
  {
   "cell_type": "markdown",
   "id": "287c7104",
   "metadata": {},
   "source": [
    "```bash\n",
    "Threading is a powerful concept in Python used to perform multiple operations concurrently within the same program. A thread is the smallest unit of execution in a process.\n",
    "\n",
    "Python’s threading module allows us to create and manage threads, enabling multitasking — like downloading files, updating the UI, or handling user input — all at the same time without blocking each other.\n",
    "\n",
    "Each Python program starts with a single thread — the main thread — and from there, we can create more threads to execute functions simultaneously."
   ]
  },
  {
   "cell_type": "markdown",
   "id": "b2097758",
   "metadata": {},
   "source": [
    "## 🧵 Threading in Python\n",
    "\n",
    "### What is Threading?\n",
    "- Threading allows you to run multiple tasks concurrently within the same program.\n",
    "- A **thread** is a lightweight subprocess, the smallest unit of CPU execution.\n",
    "\n",
    "### Why use threading?\n",
    "- Handle multiple operations (I/O-bound) at once.\n",
    "- Improve responsiveness of programs (e.g., GUI apps, servers).\n",
    "\n",
    "\n"
   ]
  },
  {
   "cell_type": "code",
   "execution_count": null,
   "id": "c6380e94",
   "metadata": {},
   "outputs": [
    {
     "name": "stdout",
     "output_type": "stream",
     "text": [
      "Number: 0\n",
      "Number: 1\n",
      "Number: 2\n",
      "Number: 3\n",
      "Number: 4\n",
      "Main thread running...\n"
     ]
    }
   ],
   "source": [
    "import threading\n",
    "\n",
    "def print_numbers():\n",
    "    for i in range(5):\n",
    "        print(f\"Number: {i}\")\n",
    "\n",
    "# Creating thread\n",
    "t1 = threading.Thread(target=print_numbers)\n",
    "t2 = threading.Thread(target=print_numbers)\n",
    "\n",
    "# Starting thread\n",
    "t1.start()\n",
    "\n",
    "# Main thread continues\n",
    "print(\"Main thread running...\")"
   ]
  }
 ],
 "metadata": {
  "kernelspec": {
   "display_name": "Python 3",
   "language": "python",
   "name": "python3"
  },
  "language_info": {
   "codemirror_mode": {
    "name": "ipython",
    "version": 3
   },
   "file_extension": ".py",
   "mimetype": "text/x-python",
   "name": "python",
   "nbconvert_exporter": "python",
   "pygments_lexer": "ipython3",
   "version": "3.12.9"
  }
 },
 "nbformat": 4,
 "nbformat_minor": 5
}
