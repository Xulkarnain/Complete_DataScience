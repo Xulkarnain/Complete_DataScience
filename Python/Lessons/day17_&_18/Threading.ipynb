{
 "cells": [
  {
   "cell_type": "markdown",
   "id": "287c7104",
   "metadata": {},
   "source": [
    "```bash\n",
    "Threading is a powerful concept in Python used to perform multiple operations concurrently within the same program. A thread is the smallest unit of execution in a process.\n",
    "\n",
    "Python’s threading module allows us to create and manage threads, enabling multitasking — like downloading files, updating the UI, or handling user input — all at the same time without blocking each other.\n",
    "\n",
    "Each Python program starts with a single thread — the main thread — and from there, we can create more threads to execute functions simultaneously."
   ]
  },
  {
   "cell_type": "markdown",
   "id": "b2097758",
   "metadata": {},
   "source": [
    "## 🧵 Threading in Python\n",
    "\n",
    "### What is Threading?\n",
    "- Threading allows you to run multiple tasks concurrently within the same program.\n",
    "- A **thread** is a lightweight subprocess, the smallest unit of CPU execution.\n",
    "\n",
    "### Why use threading?\n",
    "- Handle multiple operations (I/O-bound) at once.\n",
    "- Improve responsiveness of programs (e.g., GUI apps, servers).\n",
    "\n",
    "\n"
   ]
  },
  {
   "cell_type": "markdown",
   "id": "2d1e4b7e",
   "metadata": {},
   "source": [
    "Download multiple images without threading"
   ]
  },
  {
   "cell_type": "code",
   "execution_count": 1,
   "id": "c1cfc255",
   "metadata": {},
   "outputs": [
    {
     "data": {
      "text/plain": [
       "2"
      ]
     },
     "execution_count": 1,
     "metadata": {},
     "output_type": "execute_result"
    }
   ],
   "source": [
    "a = 1+1\n",
    "a"
   ]
  },
  {
   "cell_type": "code",
   "execution_count": null,
   "id": "e40d32e2",
   "metadata": {},
   "outputs": [],
   "source": [
    "import requests \n",
    "import time"
   ]
  },
  {
   "cell_type": "code",
   "execution_count": null,
   "id": "fbf9735b",
   "metadata": {},
   "outputs": [],
   "source": [
    "url = 'https://wallpapercave.com/kid-luffy-wallpapers'"
   ]
  },
  {
   "cell_type": "code",
   "execution_count": 9,
   "id": "09efd509",
   "metadata": {},
   "outputs": [],
   "source": [
    "def download_file(process_name,url,file_name):\n",
    "    try:\n",
    "        print(f\"Download process name started : {process_name}\")\n",
    "        response = requests.get(url)\n",
    "        with open(file_name, \"wb\") as file:\n",
    "            for chunk in response.iter_content(chunk_size=8192):\n",
    "                if chunk:\n",
    "                    file.write(chunk)\n",
    "        print(\"File downloaded successfully\")\n",
    "    except Exception as e :\n",
    "        print(f\"Error downloading file : {e}\")\n",
    "    print(f\"Process name completed : {process_name}\")\n",
    "    "
   ]
  },
  {
   "cell_type": "code",
   "execution_count": 11,
   "id": "450861e0",
   "metadata": {},
   "outputs": [
    {
     "name": "stdout",
     "output_type": "stream",
     "text": [
      "Download process name started : Process 1\n",
      "File downloaded successfully\n",
      "Process name completed : Process 1\n",
      "Download process name started : Process 2\n",
      "File downloaded successfully\n",
      "Process name completed : Process 2\n",
      "Total time taken: 0.8476097583770752 seconds\n"
     ]
    }
   ],
   "source": [
    "t1 = time.time()\n",
    "download_file('Process 1', url, 'a1.jpg')\n",
    "download_file('Process 2', url, 'a2.jpg')\n",
    "t2 = time.time()\n",
    "print(f\"Total time taken: {t2 - t1} seconds\")\n"
   ]
  },
  {
   "cell_type": "markdown",
   "id": "0a92f0f1",
   "metadata": {},
   "source": [
    "With Threading\n"
   ]
  },
  {
   "cell_type": "code",
   "execution_count": 12,
   "id": "cf6d2637",
   "metadata": {},
   "outputs": [],
   "source": [
    "import threading "
   ]
  },
  {
   "cell_type": "code",
   "execution_count": 13,
   "id": "828f8412",
   "metadata": {},
   "outputs": [],
   "source": [
    "url = 'https://wallpapers.com/images/featured/ichigo-kurosaki-pictures-jzve38d8c5hbjp3f.webp'"
   ]
  },
  {
   "cell_type": "code",
   "execution_count": 14,
   "id": "dbc5f28f",
   "metadata": {},
   "outputs": [],
   "source": [
    "def download_image(process_name,url,file_path):\n",
    "    try:\n",
    "        print(f\"{process_name} started\")\n",
    "        response = requests.get(url)\n",
    "        with open(file_path,'wb') as file:\n",
    "            for chunk in response.iter_content(chunk_size=8192):\n",
    "                if chunk:\n",
    "                    file.write(chunk)\n",
    "        print(f\"{process_name} completed\")\n",
    "    except Exception as e:\n",
    "        print(f\"Error downloading file: {e}\")   \n",
    "    print(f\"{process_name} completed\")"
   ]
  },
  {
   "cell_type": "code",
   "execution_count": 21,
   "id": "bd77d049",
   "metadata": {},
   "outputs": [],
   "source": [
    "t3 = threading.Thread(target=download_image, args=('Thread 1', url, 'a3.jpg'))\n",
    "t4 = threading.Thread(target=download_image, args=('Thread 2', url, 'a4.jpg'))\n"
   ]
  },
  {
   "cell_type": "code",
   "execution_count": 18,
   "id": "a71cad04",
   "metadata": {},
   "outputs": [
    {
     "name": "stdout",
     "output_type": "stream",
     "text": [
      "Thread 1 started\n",
      "Thread 2 started\n",
      "program done\n",
      "Total time taken: 0.052251338958740234 seconds\n"
     ]
    },
    {
     "name": "stdout",
     "output_type": "stream",
     "text": [
      "Thread 2 completedThread 1 completed\n",
      "Thread 1 completed\n",
      "\n",
      "Thread 2 completed\n"
     ]
    }
   ],
   "source": [
    "time1 = time.time()\n",
    "t1.start()\n",
    "t2.start()\n",
    "print(\"program done\")\n",
    "time2 = time.time()\n",
    "print(f\"Total time taken: {time2 - time1} seconds\")"
   ]
  },
  {
   "cell_type": "markdown",
   "id": "fcc1a248",
   "metadata": {},
   "source": [
    "## 🧵 Threading `.join()` Method in Python\n",
    "\n",
    "### 🔹 What it does:\n",
    "`.join()` makes the **main thread wait** until the thread it’s called on is done executing.\n",
    "\n",
    "### 🔹 Why use it?\n",
    "To ensure threads execute **in a defined sequence** — one finishes before the next starts."
   ]
  },
  {
   "cell_type": "markdown",
   "id": "caa22c43",
   "metadata": {},
   "source": [
    "## 🔹 Without .join():\n",
    "- The main thread may continue execution without waiting for t1 to finish."
   ]
  },
  {
   "cell_type": "code",
   "execution_count": 22,
   "id": "09e1b3db",
   "metadata": {},
   "outputs": [
    {
     "name": "stdout",
     "output_type": "stream",
     "text": [
      "Thread 1 started\n",
      "Thread 2 started\n",
      "Thread 2 completed\n",
      "Thread 2 completed\n",
      "Thread 1 completed\n",
      "Thread 1 completed\n",
      "Main program done!!\n",
      "Time taken(seconds) : 2.031332492828369\n"
     ]
    }
   ],
   "source": [
    "t1_t = time.time()\n",
    "t3.start()\n",
    "t4.start()\n",
    "\n",
    "\n",
    "t3.join()\n",
    "t4.join()\n",
    "\n",
    "\n",
    "print(\"Main program done!!\")\n",
    "t2_t = time.time()\n",
    "print(f\"Time taken(seconds) : {t2_t-t1_t}\")"
   ]
  }
 ],
 "metadata": {
  "kernelspec": {
   "display_name": "Python 3",
   "language": "python",
   "name": "python3"
  },
  "language_info": {
   "codemirror_mode": {
    "name": "ipython",
    "version": 3
   },
   "file_extension": ".py",
   "mimetype": "text/x-python",
   "name": "python",
   "nbconvert_exporter": "python",
   "pygments_lexer": "ipython3",
   "version": "3.12.0"
  }
 },
 "nbformat": 4,
 "nbformat_minor": 5
}
