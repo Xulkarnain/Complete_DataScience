{
 "cells": [
  {
   "cell_type": "markdown",
   "id": "5c5ba0df",
   "metadata": {},
   "source": [
    "## 🏗️ Classes & Objects in Python\n",
    "\n",
    "### 1️⃣ Class\n",
    "- A blueprint for creating objects (instances).\n",
    "- Contains attributes (variables) and methods (functions).\n",
    "\n",
    "### 2️⃣ Object\n",
    "- Instance of a class.\n",
    "- Accesses class methods and attributes."
   ]
  },
  {
   "cell_type": "code",
   "execution_count": 4,
   "id": "3f08ee45",
   "metadata": {},
   "outputs": [
    {
     "name": "stdout",
     "output_type": "stream",
     "text": [
      "hello\n"
     ]
    }
   ],
   "source": [
    "class hello():\n",
    "    def greet(self):\n",
    "        print(\"hello\")\n",
    "\n",
    "a = hello()\n",
    "\n",
    "a.greet()"
   ]
  },
  {
   "cell_type": "markdown",
   "id": "55ec2aa1",
   "metadata": {},
   "source": [
    "## 🛠️ Constructors in Python\n",
    "\n",
    "### 🚀 What is a Constructor?\n",
    "- A special method that **automatically executes** when an object is created.\n",
    "- Initializes object attributes.\n",
    "- Constructor method name: ```__init__()```\n",
    "- Automatically runs on object creation\n",
    "- Used to initialize variables"
   ]
  },
  {
   "cell_type": "code",
   "execution_count": 5,
   "id": "180e3a3f",
   "metadata": {},
   "outputs": [
    {
     "name": "stdout",
     "output_type": "stream",
     "text": [
      "Name: John\n",
      "Age: 20\n"
     ]
    }
   ],
   "source": [
    "class student():\n",
    "    def __init__(self, name, age):\n",
    "        self.name = name\n",
    "        self.age = int(age)\n",
    "\n",
    "    def show(self):\n",
    "        print(\"Name:\", self.name)\n",
    "        print(\"Age:\", self.age)\n",
    "\n",
    "s = student(\"John\", 20)\n",
    "s.show()"
   ]
  }
 ],
 "metadata": {
  "kernelspec": {
   "display_name": "Python 3",
   "language": "python",
   "name": "python3"
  },
  "language_info": {
   "codemirror_mode": {
    "name": "ipython",
    "version": 3
   },
   "file_extension": ".py",
   "mimetype": "text/x-python",
   "name": "python",
   "nbconvert_exporter": "python",
   "pygments_lexer": "ipython3",
   "version": "3.12.9"
  }
 },
 "nbformat": 4,
 "nbformat_minor": 5
}
