{
 "cells": [
  {
   "cell_type": "markdown",
   "id": "5c5ba0df",
   "metadata": {},
   "source": [
    "## 🏗️ Classes & Objects in Python\n",
    "\n",
    "### 1️⃣ Class\n",
    "- A blueprint for creating objects (instances).\n",
    "- Contains attributes (variables) and methods (functions).\n",
    "\n",
    "### 2️⃣ Object\n",
    "- Instance of a class.\n",
    "- Accesses class methods and attributes."
   ]
  },
  {
   "cell_type": "code",
   "execution_count": 4,
   "id": "3f08ee45",
   "metadata": {},
   "outputs": [
    {
     "name": "stdout",
     "output_type": "stream",
     "text": [
      "hello\n"
     ]
    }
   ],
   "source": [
    "class hello():\n",
    "    def greet(self):\n",
    "        print(\"hello\")\n",
    "\n",
    "a = hello()\n",
    "\n",
    "a.greet()"
   ]
  },
  {
   "cell_type": "markdown",
   "id": "55ec2aa1",
   "metadata": {},
   "source": [
    "## 🛠️ Constructors in Python\n",
    "\n",
    "### 🚀 What is a Constructor?\n",
    "- A special method that **automatically executes** when an object is created.\n",
    "- Initializes object attributes.\n",
    "- Constructor method name: ```__init__()```\n",
    "- Automatically runs on object creation\n",
    "- Used to initialize variables"
   ]
  },
  {
   "cell_type": "code",
   "execution_count": 5,
   "id": "180e3a3f",
   "metadata": {},
   "outputs": [
    {
     "name": "stdout",
     "output_type": "stream",
     "text": [
      "Name: John\n",
      "Age: 20\n"
     ]
    }
   ],
   "source": [
    "class student():\n",
    "    def __init__(self, name, age):\n",
    "        self.name = name\n",
    "        self.age = int(age)\n",
    "\n",
    "    def show(self):\n",
    "        print(\"Name:\", self.name)\n",
    "        print(\"Age:\", self.age)\n",
    "\n",
    "s = student(\"John\", 20)\n",
    "s.show()"
   ]
  },
  {
   "cell_type": "markdown",
   "id": "4b49ef02",
   "metadata": {},
   "source": [
    "## 🧠 Memory Allocation in Python Classes\n",
    "- Class Definition (Blueprint)\n",
    " When a class is defined, Python stores the class definition (its blueprint) in memory — but no memory is allocated for its attributes (instance variables) yet.\n",
    "\n",
    "- Object Creation (Instantiation)\n",
    " When an object (instance) is created using the class:\n",
    " Memory is allocated for the object.\n",
    " The object gets its own namespace (dictionary) to store attributes.\n",
    "\n",
    "- The constructor (__init__()) or other methods initialize the attributes.\n",
    "\n",
    "- Multiple Objects → Separate Memory\n",
    " Each object has its own copy of attributes stored in memory (even though they share the class blueprint and methods)."
   ]
  },
  {
   "cell_type": "code",
   "execution_count": 3,
   "id": "877ecbf4",
   "metadata": {},
   "outputs": [
    {
     "name": "stdout",
     "output_type": "stream",
     "text": [
      "hello John\n"
     ]
    }
   ],
   "source": [
    "class greet:\n",
    "    def __init__(self, name):\n",
    "        self.name = name\n",
    "        print(f\"hello {self.name}\")\n",
    "\n",
    "\n",
    "a = greet(\"John\")"
   ]
  },
  {
   "cell_type": "markdown",
   "id": "929bc566",
   "metadata": {},
   "source": [
    "## self \n",
    "- refers to the instance (object) itself, not exactly the \"address of the class\".\n",
    " When you call a method or access a variable using an object, self makes sure you're working with that particular object’s data — its attributes and methods.\n",
    "\n",
    "- Think of self as \"this object\" (like this keyword in other languages)."
   ]
  },
  {
   "cell_type": "markdown",
   "id": "47e96fb3",
   "metadata": {},
   "source": [
    "### ```__init__``` serves two distinct purposes in Python, depending on context:\n",
    "\n",
    "- In Classes:\n",
    " ```__init__`` is a special method (constructor) that runs automatically when an object is instantiated.\n",
    " It is used to initialize attributes of the class.\n",
    "\n",
    "- In Packages (``__init__``.py file):\n",
    " When placed inside a folder, ``__init__``.py marks the folder as a Python package so it can be imported like a module.\n",
    " Since Python 3.3+, it's optional, but still useful (especially for package initialization code).\n",
    "\n"
   ]
  },
  {
   "cell_type": "code",
   "execution_count": 4,
   "id": "25b104f8",
   "metadata": {},
   "outputs": [
    {
     "name": "stdout",
     "output_type": "stream",
     "text": [
      "Ali\n"
     ]
    }
   ],
   "source": [
    "# 1️⃣ __init__ as a Constructor\n",
    "class Student:\n",
    "    def __init__(self, name, rollno):\n",
    "        self.name = name\n",
    "        self.rollno = rollno\n",
    "\n",
    "s1 = Student(\"Ali\", 101)\n",
    "print(s1.name) "
   ]
  }
 ],
 "metadata": {
  "kernelspec": {
   "display_name": "Python 3",
   "language": "python",
   "name": "python3"
  },
  "language_info": {
   "codemirror_mode": {
    "name": "ipython",
    "version": 3
   },
   "file_extension": ".py",
   "mimetype": "text/x-python",
   "name": "python",
   "nbconvert_exporter": "python",
   "pygments_lexer": "ipython3",
   "version": "3.12.9"
  }
 },
 "nbformat": 4,
 "nbformat_minor": 5
}
