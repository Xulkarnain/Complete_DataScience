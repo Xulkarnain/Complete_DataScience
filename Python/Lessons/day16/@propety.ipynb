{
 "cells": [
  {
   "cell_type": "markdown",
   "id": "7a59adb0",
   "metadata": {},
   "source": [
    "## 🔐 Getter and Setter in Python\n",
    "\n",
    "In object-oriented programming, getters and setters are used to **control access** to class attributes.\n",
    "\n",
    "### ✅ Getter using `@property`\n",
    "- Allows you to access a method like it's a variable.\n",
    "- Provides read-only access if no setter is defined.\n",
    "\n",
    "### ✅ Setter using `@property`\n",
    "- Allows you to update the value in object\n",
    "\n",
    "### ✅ Deleter using `@property`\n",
    "- Allows you to delete the attribute of object \n",
    "\n",
    "\n",
    "- `@property` – A getter: allows access to a method like it's an attribute.\n",
    "\n",
    "- `@attribute.setter` – A setter: lets you set the value with additional logic (e.g., validation).\n",
    "\n",
    "- These special methods improve encapsulation and data protection while still keeping the syntax clean."
   ]
  },
  {
   "cell_type": "code",
   "execution_count": 1,
   "id": "36d81eb6",
   "metadata": {},
   "outputs": [],
   "source": [
    "class Person:\n",
    "    def __init__(self, name, pno):\n",
    "        self.__name = name # Private attribute\n",
    "        self.__phone_numer = pno\n",
    "\n",
    "    @property\n",
    "    def name(self):\n",
    "        return self.__name\n",
    "    \n",
    "    def __str__(self):\n",
    "        return f\"person name is {self.__name}\"\n",
    "    \n",
    "    @name.setter\n",
    "    def name(self, new_name):\n",
    "        if not new_name:\n",
    "            raise ValueError(\"Name cannot be empty\")\n",
    "        self.__name = new_name\n",
    "\n",
    "    @name.deleter\n",
    "    def name(self):\n",
    "        del self.__name\n",
    "\n",
    "    @property\n",
    "    def phone_no(self):\n",
    "        pass\n",
    "\n",
    "    @phone_no.setter\n",
    "    def phone_no(self):\n",
    "        pass\n",
    "\n",
    "    @phone_no.deleter\n",
    "    def phone_no(self):\n",
    "        pass"
   ]
  },
  {
   "cell_type": "code",
   "execution_count": 6,
   "id": "78f18043",
   "metadata": {},
   "outputs": [
    {
     "name": "stdout",
     "output_type": "stream",
     "text": [
      "John\n"
     ]
    }
   ],
   "source": [
    "obj = Person(\"John\", \"1234567890\")\n",
    "print(obj.name)  \n",
    "\n",
    "obj.name = \"frekaun\"\n",
    "\n",
    "obj.name\n",
    "\n",
    "del obj.name"
   ]
  }
 ],
 "metadata": {
  "kernelspec": {
   "display_name": "Python 3",
   "language": "python",
   "name": "python3"
  },
  "language_info": {
   "codemirror_mode": {
    "name": "ipython",
    "version": 3
   },
   "file_extension": ".py",
   "mimetype": "text/x-python",
   "name": "python",
   "nbconvert_exporter": "python",
   "pygments_lexer": "ipython3",
   "version": "3.12.0"
  }
 },
 "nbformat": 4,
 "nbformat_minor": 5
}
