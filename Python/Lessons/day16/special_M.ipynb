{
 "cells": [
  {
   "cell_type": "markdown",
   "id": "f881a986",
   "metadata": {},
   "source": [
    "\n",
    "### Special Methods (also called Dunder methods) are methods that start and end with double underscores like ``__init__,  __str__, __len__,`` etc.\n",
    "\n",
    "#### ```__str__``` is specifically used to define what should be returned when you print the object (i.e., when print(obj) is called).\n",
    "\n",
    "##### It doesn’t just help programmers understand your code better — it makes object representation cleaner and more user-friendly, especially during debugging or logging."
   ]
  },
  {
   "cell_type": "code",
   "execution_count": 3,
   "id": "3220788a",
   "metadata": {},
   "outputs": [
    {
     "name": "stdout",
     "output_type": "stream",
     "text": [
      "Greetings 'frekaun'\n"
     ]
    }
   ],
   "source": [
    "class Greet:\n",
    "    def __init__(self, name):\n",
    "        self.name = name \n",
    "    def __str__(self):\n",
    "        return f\"Greetings '{self.name}'\"\n",
    "\n",
    "obj1 = Greet(\"frekaun\")\n",
    "\n",
    "print(obj1)"
   ]
  },
  {
   "cell_type": "markdown",
   "id": "dfd6f95a",
   "metadata": {},
   "source": [
    "#### ```__repr__```: Meant to be unambiguous and developer-focused. Called by ```repr(obj)``` or if ```__str__``` is not defined. Its goal is to return a representation that could recreate the object (when possible).\n",
    "\n",
    "\n",
    "- str() is what users see.\n",
    "\n",
    "- repr() is what developers/debuggers see.\n",
    "\n",
    "- If ```__str__``` is not defined, print(obj) falls back to ```__repr__```.\n",
    "\n"
   ]
  },
  {
   "cell_type": "code",
   "execution_count": 10,
   "id": "ec5e0ccb",
   "metadata": {},
   "outputs": [
    {
     "name": "stdout",
     "output_type": "stream",
     "text": [
      "Greetings 'frekaun' rollno 1234'\n",
      "Greetings 'frekaun' rollno 1234'\n"
     ]
    }
   ],
   "source": [
    "class Greet_rollno:\n",
    "    def __init__(self, name,rollno):\n",
    "        self.name = name \n",
    "        self.rollno = int(rollno)\n",
    "    \n",
    "    def __repr__(self):\n",
    "        return f\"Greetings '{self.name}' rollno {self.rollno}'\"\n",
    "\n",
    "    def __str__(self):\n",
    "        return f\"Greetings '{self.name}' rollno {self.rollno}'\"\n",
    "    \n",
    "obj2 = Greet_rollno(\"frekaun\", 1234)\n",
    "print(obj2)\n",
    "\n",
    "print(repr(obj2))"
   ]
  },
  {
   "cell_type": "markdown",
   "id": "b4244667",
   "metadata": {},
   "source": [
    "#### ```__add__``` is a special method in Python that allows you to define how objects of a custom class should behave when the + operator is used between them.\n",
    "\n",
    "- This is part of a concept called operator overloading.\n",
    "\n",
    "- It’s useful when you want to define addition logic for user-defined data types — for example, adding two vectors, strings, or custom objects.\n",
    "\n"
   ]
  },
  {
   "cell_type": "code",
   "execution_count": 11,
   "id": "f11e8d48",
   "metadata": {},
   "outputs": [
    {
     "name": "stdout",
     "output_type": "stream",
     "text": [
      "Number of students in the class is 30\n"
     ]
    }
   ],
   "source": [
    "class No_students:\n",
    "    def __init__(self, stds):\n",
    "        self.stds = int(stds)\n",
    "\n",
    "    def __str__(self):\n",
    "        return f\"Number of students in the class is {self.stds}\"\n",
    "    \n",
    "    def __add__(self,other):\n",
    "        return No_students(self.stds + other.stds)\n",
    "    \n",
    "class1 = No_students(10)\n",
    "class2 = No_students(20)\n",
    "\n",
    "class3 = class1 + class2\n",
    "print(class3)"
   ]
  },
  {
   "cell_type": "markdown",
   "id": "6fbccd82",
   "metadata": {},
   "source": [
    "#### You can overload many operators:\n",
    "\n",
    "- ```__sub__``` for -\n",
    "\n",
    "- ```__mul__``` for *\n",
    "\n",
    "- ```__eq__``` for ==\n",
    "\n",
    "- ```__lt__``` for <\n",
    "\n",
    "- ```__len__``` for len()\n",
    "\n"
   ]
  },
  {
   "cell_type": "markdown",
   "id": "b4440963",
   "metadata": {},
   "source": [
    "#### ```__getitem__``` is a special method used to make objects of a class behave like a list or dictionary — it allows indexing and iteration\n",
    "\n",
    "💡 How It Works:\n",
    "\n",
    "- ```__getitem__```(self, index) is triggered when using obj[index].\n",
    "\n",
    "- It allows objects to act like sequences (lists, tuples).\n",
    "\n",
    "- It’s also used to make your class iterable with for loops."
   ]
  },
  {
   "cell_type": "code",
   "execution_count": 13,
   "id": "6322d598",
   "metadata": {},
   "outputs": [
    {
     "name": "stdout",
     "output_type": "stream",
     "text": [
      "10\n",
      "30\n"
     ]
    }
   ],
   "source": [
    "class MyList:\n",
    "    def __init__(self, data):\n",
    "        self.data = data\n",
    "\n",
    "    def __getitem__(self, index):\n",
    "        return self.data[index]\n",
    "\n",
    "obj = MyList([10, 20, 30])\n",
    "print(obj[0])  \n",
    "print(obj[2])  \n"
   ]
  }
 ],
 "metadata": {
  "kernelspec": {
   "display_name": "Python 3",
   "language": "python",
   "name": "python3"
  },
  "language_info": {
   "codemirror_mode": {
    "name": "ipython",
    "version": 3
   },
   "file_extension": ".py",
   "mimetype": "text/x-python",
   "name": "python",
   "nbconvert_exporter": "python",
   "pygments_lexer": "ipython3",
   "version": "3.12.9"
  }
 },
 "nbformat": 4,
 "nbformat_minor": 5
}
