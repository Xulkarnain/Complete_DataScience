{
 "cells": [
  {
   "cell_type": "markdown",
   "metadata": {},
   "source": [
    "<small>\n",
    "\n",
    "### ✅ Data Types in Python\n",
    "\n",
    "Python has various built-in data types used to store different kinds of values:\n",
    "\n",
    "- **int** → Integer numbers (e.g., `10`, `-5`)\n",
    "- **float** → Decimal numbers (e.g., `3.14`, `-0.5`)\n",
    "- **str** → Text or characters (e.g., `\"Hello\"`, `'Python'`)\n",
    "- **bool** → Boolean values (`True`, `False`)\n",
    "- **list** → Ordered, mutable collection (e.g., `[1, 2, 3]`)\n",
    "- **tuple** → Ordered, immutable collection (e.g., `(1, 2, 3)`)\n",
    "- **dict** → Key-value pairs (e.g., `{\"name\": \"Alex\", \"age\": 25}`)\n",
    "- **set** → Unordered, unique values (e.g., `{1, 2, 3}`)\n",
    "\n",
    "---\n",
    "\n",
    "### 💡 Key Takeaways:\n",
    "- `int`, `float`, `str`, and `bool` store basic values.\n",
    "- `list`, `tuple`, `dict`, and `set` store collections of data.\n",
    "- Choose the right type based on **mutability** and **ordering** needs.\n",
    "\n",
    "</small>\n"
   ]
  },
  {
   "cell_type": "code",
   "execution_count": 1,
   "metadata": {},
   "outputs": [
    {
     "name": "stdout",
     "output_type": "stream",
     "text": [
      "6\n",
      "<class 'int'>\n"
     ]
    }
   ],
   "source": [
    "a = 4\n",
    "b = 2\n",
    "\n",
    "print(a+b)\n",
    "print(type(a+b))"
   ]
  },
  {
   "cell_type": "markdown",
   "metadata": {},
   "source": [
    "<small>\n",
    "\n",
    "### ✅ Arithmetic Operators in Python  \n",
    "\n",
    "Arithmetic operators perform mathematical calculations:  \n",
    "\n",
    "| **Operator** | **Description**       | **Example (`a = 10, b = 3`)** | **Result** |\n",
    "|-------------|----------------------|-------------------|---------|\n",
    "| `+`        | Addition              | `a + b`           | `13`    |\n",
    "| `-`        | Subtraction           | `a - b`           | `7`     |\n",
    "| `*`        | Multiplication        | `a * b`           | `30`    |\n",
    "| `/`        | Division (float)      | `a / b`           | `3.33`  |\n",
    "| `//`       | Floor Division        | `a // b`          | `3`     |\n",
    "| `%`        | Modulus (Remainder)   | `a % b`           | `1`     |\n",
    "| `**`       | Exponentiation        | `a ** b`          | `1000`  |\n",
    "\n",
    "💡 **Tip:**  \n",
    "- `/` returns a float, while `//` gives an integer.  \n",
    "- `%` is useful for checking divisibility.  \n",
    "- `**` calculates power (e.g., `2 ** 3 = 8`).  \n",
    "\n",
    "</small>\n"
   ]
  },
  {
   "cell_type": "code",
   "execution_count": 6,
   "metadata": {},
   "outputs": [
    {
     "name": "stdout",
     "output_type": "stream",
     "text": [
      "5\n",
      "5\n",
      "Addition  10\n",
      "<class 'int'>\n",
      "Subtraction  0\n",
      "<class 'int'>\n",
      "Multiplication  25\n",
      "<class 'int'>\n",
      "Division  1.0\n",
      "<class 'float'>\n",
      "Floor Division  1\n",
      "<class 'int'>\n",
      "Modulus 0\n",
      "<class 'int'>\n",
      "Exponentiation 3125\n",
      "<class 'int'>\n"
     ]
    }
   ],
   "source": [
    "\n",
    "import random\n",
    "\n",
    "# Addition\n",
    "\n",
    "a = random.randint(1, 10)\n",
    "b = random.randint(1, 10)\n",
    "print(a)\n",
    "print(b)\n",
    "print(\"Addition \",a+b)\n",
    "print(type(a+b))\n",
    "\n",
    "# Subtraction\n",
    "\n",
    "print(\"Subtraction \",a-b)\n",
    "print(type(a-b))\n",
    "\n",
    "# Multiplication\n",
    "\n",
    "print(\"Multiplication \",a*b)\n",
    "print(type(a*b))\n",
    "\n",
    "# Division\n",
    "\n",
    "print(\"Division \",a/b)\n",
    "print(type(a/b))\n",
    "\n",
    "# Floor division  Closest integer less than or equal to the division result\n",
    "\n",
    "print(\"Floor Division \",a//b)  \n",
    "print(type(a//b))\n",
    "\n",
    "# Modulus\n",
    "\n",
    "print(\"Modulus\",a % b)  \n",
    "print(type(a % b))\n",
    "\n",
    "# Exponentiation\n",
    "\n",
    "print(\"Exponentiation\",a**b) \n",
    "print(type(a**b))"
   ]
  },
  {
   "cell_type": "markdown",
   "metadata": {},
   "source": [
    "<small>\n",
    "\n",
    "### ✅ `strip()`, `rstrip()`, and `lstrip()` in Python  \n",
    "\n",
    "These methods remove unwanted characters (default is whitespace) from strings.  \n",
    "\n",
    "| **Method**       | **Description**                     | **Example**                 | **Result**  |\n",
    "|----------------|---------------------------|------------------------|-----------|\n",
    "| `strip()`      | Removes spaces from both ends  | `\" hello \".strip()`     | `\"hello\"`  |\n",
    "| `rstrip()`     | Removes spaces from the right  | `\" hello \".rstrip()`   | `\" hello\"` |\n",
    "| `lstrip()`     | Removes spaces from the left   | `\" hello \".lstrip()`   | `\"hello \"` |\n",
    "| `strip('x')`   | Removes `x` from both ends   | `\"xxxhelloxxx\".strip('x')` | `\"hello\"` |\n",
    "| `rstrip('x')`  | Removes `x` from the right  | `\"xxxhelloxxx\".rstrip('x')` | `\"xxxhello\"` |\n",
    "| `lstrip('x')`  | Removes `x` from the left   | `\"xxxhelloxxx\".lstrip('x')` | `\"helloxxx\"` |\n",
    "\n",
    "💡 **Tip:** Useful for trimming text input and removing unwanted characters.  \n",
    "\n",
    "</small>\n"
   ]
  },
  {
   "cell_type": "code",
   "execution_count": 8,
   "metadata": {},
   "outputs": [
    {
     "name": "stdout",
     "output_type": "stream",
     "text": [
      "     zulkarnain    \n"
     ]
    }
   ],
   "source": [
    "name = \"     zulkarnain    \"\n",
    "print(name)"
   ]
  },
  {
   "cell_type": "code",
   "execution_count": 10,
   "metadata": {},
   "outputs": [
    {
     "name": "stdout",
     "output_type": "stream",
     "text": [
      "zulkarnain    \n"
     ]
    }
   ],
   "source": [
    "print(name.lstrip())  # Remove leading and trailing whitespace"
   ]
  },
  {
   "cell_type": "code",
   "execution_count": 11,
   "metadata": {},
   "outputs": [
    {
     "name": "stdout",
     "output_type": "stream",
     "text": [
      "     zulkarnain\n"
     ]
    }
   ],
   "source": [
    "\n",
    "print(name.rstrip())  # Remove trailing whitespace"
   ]
  },
  {
   "cell_type": "code",
   "execution_count": 12,
   "metadata": {},
   "outputs": [
    {
     "name": "stdout",
     "output_type": "stream",
     "text": [
      "zulkarnain\n"
     ]
    }
   ],
   "source": [
    "print(name.strip())  # Remove leading and trailing whitespace\n"
   ]
  },
  {
   "cell_type": "code",
   "execution_count": 20,
   "metadata": {},
   "outputs": [
    {
     "name": "stdout",
     "output_type": "stream",
     "text": [
      "ulkarnain\n"
     ]
    }
   ],
   "source": [
    "name = \"zulkarnain\"\n",
    "print(name.strip('z'))  # Remove leading and trailing characters"
   ]
  }
 ],
 "metadata": {
  "kernelspec": {
   "display_name": "Python 3",
   "language": "python",
   "name": "python3"
  },
  "language_info": {
   "codemirror_mode": {
    "name": "ipython",
    "version": 3
   },
   "file_extension": ".py",
   "mimetype": "text/x-python",
   "name": "python",
   "nbconvert_exporter": "python",
   "pygments_lexer": "ipython3",
   "version": "3.12.9"
  }
 },
 "nbformat": 4,
 "nbformat_minor": 2
}
