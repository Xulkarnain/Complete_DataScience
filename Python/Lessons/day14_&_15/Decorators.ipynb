{
 "cells": [
  {
   "cell_type": "markdown",
   "id": "b3f64b3e",
   "metadata": {},
   "source": [
    "### In Python, a decorator is a powerful tool that allows you to modify or enhance the behavior of a function without altering its source code. Decorators are commonly used in logging, access control, memoization, and more.\n",
    "\n",
    "#### A decorator is a function that takes another function as input and returns a new function.\n",
    "\n",
    "#### The original function remains unchanged."
   ]
  },
  {
   "cell_type": "code",
   "execution_count": 2,
   "id": "a73d620a",
   "metadata": {},
   "outputs": [
    {
     "name": "stdout",
     "output_type": "stream",
     "text": [
      "before\n",
      "hello\n",
      "after\n"
     ]
    }
   ],
   "source": [
    "def my_decorator(func):\n",
    "    def wrapper():\n",
    "        print(\"before\")\n",
    "        func()\n",
    "        print(\"after\")\n",
    "    return wrapper\n",
    "\n",
    "@my_decorator\n",
    "def greet():\n",
    "    print(\"hello\")\n",
    "\n",
    "greet()"
   ]
  },
  {
   "cell_type": "markdown",
   "id": "b498c4cc",
   "metadata": {},
   "source": [
    "## 🍬 Python Syntactic Sugar: `@decorator`\n",
    "\n",
    "### What is it?\n",
    "The `@` symbol is syntactic sugar in Python used to apply a decorator to a function.\n",
    "\n",
    "### Without `@`"
   ]
  },
  {
   "cell_type": "code",
   "execution_count": 4,
   "id": "b66c9656",
   "metadata": {},
   "outputs": [
    {
     "name": "stdout",
     "output_type": "stream",
     "text": [
      "before\n",
      "Hello\n",
      "after\n"
     ]
    }
   ],
   "source": [
    "def decorator(func):\n",
    "    def wrapper():\n",
    "        print(\"before\")\n",
    "        func()\n",
    "        print(\"after\")\n",
    "    return wrapper\n",
    "def greet():\n",
    "    print(\"Hello\")\n",
    "\n",
    "greet = decorator(greet)\n",
    "greet()"
   ]
  },
  {
   "cell_type": "markdown",
   "id": "25db4895",
   "metadata": {},
   "source": [
    "#### with `@`"
   ]
  },
  {
   "cell_type": "code",
   "execution_count": 6,
   "id": "83f70704",
   "metadata": {},
   "outputs": [
    {
     "name": "stdout",
     "output_type": "stream",
     "text": [
      "before\n",
      "Hello\n",
      "after\n"
     ]
    }
   ],
   "source": [
    "def decorator(func):\n",
    "    def wrapper():\n",
    "        print(\"before\")\n",
    "        func()\n",
    "        print(\"after\")\n",
    "    return wrapper\n",
    "\n",
    "@decorator\n",
    "def greet():\n",
    "    print(\"Hello\")\n",
    "\n",
    "greet()"
   ]
  },
  {
   "cell_type": "markdown",
   "id": "03c721ca",
   "metadata": {},
   "source": [
    "## 🧩 Using *args and **kwargs in Decorators\n",
    "\n",
    "When a function being decorated takes arguments, the decorator’s wrapper must also accept and pass those arguments."
   ]
  },
  {
   "cell_type": "code",
   "execution_count": 7,
   "id": "016bbc84",
   "metadata": {},
   "outputs": [
    {
     "name": "stdout",
     "output_type": "stream",
     "text": [
      "Before calling function...\n",
      "Hello Zulkarnain, you are 25 years old.\n",
      "After calling function...\n"
     ]
    }
   ],
   "source": [
    "def decorator(func):\n",
    "    def wrapper(*args, **kwargs):\n",
    "        print(\"Before calling function...\")\n",
    "        result = func(*args, **kwargs)\n",
    "        print(\"After calling function...\")\n",
    "        return result\n",
    "    return wrapper\n",
    "\n",
    "@decorator\n",
    "def greet(name, age):\n",
    "    print(f\"Hello {name}, you are {age} years old.\")\n",
    "\n",
    "greet(\"Zulkarnain\", 25)"
   ]
  },
  {
   "cell_type": "markdown",
   "id": "6be6c257",
   "metadata": {},
   "source": [
    "## 🧑‍🏫 Class Methods in Python\n",
    "\n",
    "### 🔹 What is a Class Method?\n",
    "- A class method is bound to the class, not the instance.\n",
    "- It uses `cls` as the first parameter.\n",
    "- It can access or modify class variables shared across all instances.\n",
    "\n",
    "### 🔹 How to Define a Class Method?\n",
    "Use the `@classmethod` decorator."
   ]
  },
  {
   "cell_type": "code",
   "execution_count": 8,
   "id": "a30f1a8a",
   "metadata": {},
   "outputs": [
    {
     "name": "stdout",
     "output_type": "stream",
     "text": [
      "XYZ School\n"
     ]
    }
   ],
   "source": [
    "class Student:\n",
    "    school = \"ABC School\"\n",
    "\n",
    "    @classmethod\n",
    "    def change_school(cls, name):\n",
    "        cls.school = name\n",
    "\n",
    "Student.change_school(\"XYZ School\")\n",
    "print(Student.school)  # Output: XYZ School"
   ]
  },
  {
   "cell_type": "markdown",
   "id": "26cee89d",
   "metadata": {},
   "source": [
    "## 🧰 Static Methods in Python\n",
    "\n",
    "### 🔹 What is a Static Method?\n",
    "- A static method doesn't access instance (`self`) or class (`cls`) variables.\n",
    "- It's defined with the `@staticmethod` decorator.\n",
    "- Used for utility functions that make sense inside a class context but don't touch class/instance data."
   ]
  },
  {
   "cell_type": "code",
   "execution_count": 9,
   "id": "d64bdfa1",
   "metadata": {},
   "outputs": [],
   "source": [
    "\n",
    "class Calculator:\n",
    "\n",
    "    @staticmethod\n",
    "    def add(a, b):\n",
    "        print(a+b)\n",
    "\n",
    "    @staticmethod\n",
    "    def multiply(a, b):\n",
    "        print(a*b)\n",
    "\n",
    "    def all(self, a, b):\n",
    "        print(Calculator.add(a,b))\n",
    "        print(\"doing something\")\n",
    "        print(Calculator.multiply(a,b))"
   ]
  },
  {
   "cell_type": "code",
   "execution_count": 13,
   "id": "c1106cf6",
   "metadata": {},
   "outputs": [
    {
     "name": "stdout",
     "output_type": "stream",
     "text": [
      "5\n"
     ]
    }
   ],
   "source": [
    "Calculator.add(2, 3)  # Output: 5  "
   ]
  },
  {
   "cell_type": "markdown",
   "id": "bb7d2728",
   "metadata": {},
   "source": [
    "## 🧮 Python Method & Variable Types: Quick Reference Table\n",
    "\n",
    "| Feature              | Instance Method                 | Class Method                      | Static Method                     |\n",
    "|----------------------|----------------------------------|-----------------------------------|-----------------------------------|\n",
    "| **Decorator**        | *(None)*                        | `@classmethod`                    | `@staticmethod`                   |\n",
    "| **First Parameter**  | `self` (object reference)       | `cls` (class reference)           | No default first parameter        |\n",
    "| **Accesses Instance Data** | ✅ Yes                    | 🚫 No                             | 🚫 No                             |\n",
    "| **Accesses Class Data**    | ✅ Via `self.__class__`   | ✅ Yes (via `cls`)                | 🚫 No                             |\n",
    "| **When to Use**      | When behavior depends on object | When behavior depends on class    | Utility methods, no dependencies  |\n",
    "| **Needs Object to Call?** | ✅ Yes                    | 🚫 No (can use class or object)   | 🚫 No (can use class or object)   |\n",
    "| **Use Case**         | Modify or read object state     | Factory methods / class state mgmt| Math utilities, date converters   |\n",
    "\n",
    "---"
   ]
  },
  {
   "cell_type": "code",
   "execution_count": 14,
   "id": "7f75cf51",
   "metadata": {},
   "outputs": [],
   "source": [
    "class Example:\n",
    "    class_var = \"I am class variable\"\n",
    "\n",
    "    def __init__(self, value):\n",
    "        self.instance_var = value\n",
    "\n",
    "    def instance_method(self):\n",
    "        print(f\"Instance method: {self.instance_var}\")\n",
    "\n",
    "    @classmethod\n",
    "    def class_method(cls):\n",
    "        print(f\"Class method: {cls.class_var}\")\n",
    "\n",
    "    @staticmethod\n",
    "    def static_method():\n",
    "        print(\"Static method: I don't care about class or instance.\")\n"
   ]
  }
 ],
 "metadata": {
  "kernelspec": {
   "display_name": "Python 3",
   "language": "python",
   "name": "python3"
  },
  "language_info": {
   "codemirror_mode": {
    "name": "ipython",
    "version": 3
   },
   "file_extension": ".py",
   "mimetype": "text/x-python",
   "name": "python",
   "nbconvert_exporter": "python",
   "pygments_lexer": "ipython3",
   "version": "3.12.9"
  }
 },
 "nbformat": 4,
 "nbformat_minor": 5
}
