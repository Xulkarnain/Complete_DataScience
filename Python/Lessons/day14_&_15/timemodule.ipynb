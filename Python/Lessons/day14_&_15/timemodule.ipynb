{
 "cells": [
  {
   "cell_type": "markdown",
   "id": "b3e4da9f",
   "metadata": {},
   "source": [
    "### The time module in Python provides various functions to work with time.\n",
    "\n",
    "```time.time()``` returns the current time in seconds since the Epoch (which starts at Jan 1, 1970, 00:00:00 UTC).\n",
    "\n",
    "```time.ctime()``` converts that timestamp to a human-readable string like 'Mon May 13 13:34:55 2025'.\n",
    "\n",
    "``time.localtime()`` returns a struct_time object in the local time zone, with detailed attributes like year, month, day, hour, etc."
   ]
  },
  {
   "cell_type": "code",
   "execution_count": 2,
   "id": "dbcc306d",
   "metadata": {},
   "outputs": [
    {
     "name": "stdout",
     "output_type": "stream",
     "text": [
      "1747276845.5653982\n",
      "Thu May 15 08:10:45 2025\n",
      "time.struct_time(tm_year=2025, tm_mon=5, tm_mday=15, tm_hour=8, tm_min=10, tm_sec=45, tm_wday=3, tm_yday=135, tm_isdst=0)\n",
      "Year: 2025, Month: 5, Day: 15\n"
     ]
    }
   ],
   "source": [
    "import time\n",
    "\n",
    "# 1. Seconds since Epoch (Unix time)\n",
    "print(time.time())\n",
    "\n",
    "\n",
    "# 2. Human-readable time\n",
    "print(time.ctime())\n",
    "# ➤ 'Thu May 15 11:45:12 2025'\n",
    "\n",
    "# 3. Local time breakdown\n",
    "local = time.localtime()\n",
    "print(local)\n",
    "# ➤ time.struct_time(tm_year=2025, tm_mon=5, tm_mday=15, tm_hour=11, tm_min=45, tm_sec=12, ...)\n",
    "\n",
    "# Access parts\n",
    "print(f\"Year: {local.tm_year}, Month: {local.tm_mon}, Day: {local.tm_mday}\")\n"
   ]
  },
  {
   "cell_type": "markdown",
   "id": "ff678684",
   "metadata": {},
   "source": [
    "### If you want to delay an execution of program we can use ```time.sleep()```"
   ]
  },
  {
   "cell_type": "code",
   "execution_count": 7,
   "id": "cd4a391f",
   "metadata": {},
   "outputs": [
    {
     "data": {
      "text/plain": [
       "'Thu May 15 08:12:36 2025'"
      ]
     },
     "execution_count": 7,
     "metadata": {},
     "output_type": "execute_result"
    }
   ],
   "source": [
    "time.time()\n",
    "\n",
    "time.sleep(2)\n",
    "\n",
    "time.ctime()"
   ]
  },
  {
   "cell_type": "markdown",
   "id": "710bab2b",
   "metadata": {},
   "source": [
    "```bash\n",
    "%M - minutes\n",
    "%m - month\n",
    "%d - date\n",
    "%Y - YYYY Year format\n",
    "%H - Hour\n",
    "%S - Seconds\n",
    "%y - YY year format\n",
    "```"
   ]
  }
 ],
 "metadata": {
  "kernelspec": {
   "display_name": "Python 3",
   "language": "python",
   "name": "python3"
  },
  "language_info": {
   "codemirror_mode": {
    "name": "ipython",
    "version": 3
   },
   "file_extension": ".py",
   "mimetype": "text/x-python",
   "name": "python",
   "nbconvert_exporter": "python",
   "pygments_lexer": "ipython3",
   "version": "3.12.0"
  }
 },
 "nbformat": 4,
 "nbformat_minor": 5
}
