{
 "cells": [
  {
   "cell_type": "markdown",
   "id": "c98692f0",
   "metadata": {},
   "source": [
    "### Method Overloading means defining multiple methods with the same name but different parameters in the same class.\n",
    " Python does not support method overloading directly like Java or C++. If you define a method with the same name multiple times in the same class, only the last definition is used.\n"
   ]
  },
  {
   "cell_type": "code",
   "execution_count": 1,
   "id": "f11b1bf8",
   "metadata": {},
   "outputs": [
    {
     "name": "stdout",
     "output_type": "stream",
     "text": [
      "Hello, Zul!\n"
     ]
    },
    {
     "ename": "TypeError",
     "evalue": "Example.greet() missing 1 required positional argument: 'name'",
     "output_type": "error",
     "traceback": [
      "\u001b[1;31m---------------------------------------------------------------------------\u001b[0m",
      "\u001b[1;31mTypeError\u001b[0m                                 Traceback (most recent call last)",
      "Cell \u001b[1;32mIn[1], line 10\u001b[0m\n\u001b[0;32m      8\u001b[0m obj \u001b[38;5;241m=\u001b[39m Example()\n\u001b[0;32m      9\u001b[0m obj\u001b[38;5;241m.\u001b[39mgreet(\u001b[38;5;124m\"\u001b[39m\u001b[38;5;124mZul\u001b[39m\u001b[38;5;124m\"\u001b[39m)  \u001b[38;5;66;03m# Works\u001b[39;00m\n\u001b[1;32m---> 10\u001b[0m \u001b[43mobj\u001b[49m\u001b[38;5;241;43m.\u001b[39;49m\u001b[43mgreet\u001b[49m\u001b[43m(\u001b[49m\u001b[43m)\u001b[49m       \u001b[38;5;66;03m# ❌ Error: missing 1 required positional argument\u001b[39;00m\n",
      "\u001b[1;31mTypeError\u001b[0m: Example.greet() missing 1 required positional argument: 'name'"
     ]
    }
   ],
   "source": [
    "class Example:\n",
    "    def greet(self):\n",
    "        print(\"Hello!\")\n",
    "\n",
    "    def greet(self, name):  # This overrides the previous greet()\n",
    "        print(f\"Hello, {name}!\")\n",
    "\n",
    "obj = Example()\n",
    "obj.greet(\"Zul\")  # Works\n",
    "obj.greet()       # ❌ Error: missing 1 required positional argument\n"
   ]
  },
  {
   "cell_type": "markdown",
   "id": "7d9835e4",
   "metadata": {},
   "source": [
    "### In multiple inheritance, super() does not just refer to the immediate parent — it follows the Method Resolution Order (MRO).\n",
    "\n",
    "🔑 ```super()``` in Python follows the MRO chain, which is determined using the C3 linearization algorithm.\n",
    "So when super() is used, Python does not prioritize based on the order of inheritance alone, but rather based on MRO.\n",
    "\n"
   ]
  },
  {
   "cell_type": "code",
   "execution_count": 2,
   "id": "d4224e9b",
   "metadata": {},
   "outputs": [
    {
     "name": "stdout",
     "output_type": "stream",
     "text": [
      "Hello from A\n",
      "Hello from C\n"
     ]
    }
   ],
   "source": [
    "class A:\n",
    "    def greet(self):\n",
    "        print(\"Hello from A\")\n",
    "\n",
    "class B:\n",
    "    def greet(self):\n",
    "        print(\"Hello from B\")\n",
    "\n",
    "class C(A, B):\n",
    "    def greet(self):\n",
    "        super().greet()  # Follows MRO\n",
    "        print(\"Hello from C\")\n",
    "\n",
    "obj = C()\n",
    "obj.greet()\n"
   ]
  }
 ],
 "metadata": {
  "kernelspec": {
   "display_name": "Python 3",
   "language": "python",
   "name": "python3"
  },
  "language_info": {
   "codemirror_mode": {
    "name": "ipython",
    "version": 3
   },
   "file_extension": ".py",
   "mimetype": "text/x-python",
   "name": "python",
   "nbconvert_exporter": "python",
   "pygments_lexer": "ipython3",
   "version": "3.12.9"
  }
 },
 "nbformat": 4,
 "nbformat_minor": 5
}
