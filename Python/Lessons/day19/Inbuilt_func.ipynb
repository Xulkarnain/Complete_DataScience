{
 "cells": [
  {
   "cell_type": "markdown",
   "id": "d2a5cb56",
   "metadata": {},
   "source": [
    "### ```lambda``` Function in Python\n",
    "\n",
    "- A lambda function is a small, anonymous function in Python. \n",
    "- It can take any number of arguments but only one expression. \n",
    "- It is primarily used for simple operations where defining a full function is unnecessarily verbose\n",
    "\n",
    "```function_name = lambda argument : expression```"
   ]
  },
  {
   "cell_type": "code",
   "execution_count": 1,
   "id": "c51e556b",
   "metadata": {},
   "outputs": [],
   "source": [
    "square_ = lambda x : x*x"
   ]
  },
  {
   "cell_type": "code",
   "execution_count": 2,
   "id": "de1cb956",
   "metadata": {},
   "outputs": [
    {
     "data": {
      "text/plain": [
       "81"
      ]
     },
     "execution_count": 2,
     "metadata": {},
     "output_type": "execute_result"
    }
   ],
   "source": [
    "square_(9)"
   ]
  },
  {
   "cell_type": "markdown",
   "id": "39d0a9ec",
   "metadata": {},
   "source": [
    "### ```.sort()``` Method in Python\n",
    "\n",
    "- The `.sort()` method is used to sort a list in-place, which means it modifies the original list and returns None.\n",
    "\n",
    "- key – a function that serves as a basis for sorting.\n",
    "\n",
    "- reverse – set to True to sort in descending order."
   ]
  },
  {
   "cell_type": "code",
   "execution_count": 4,
   "id": "54083f95",
   "metadata": {},
   "outputs": [
    {
     "data": {
      "text/plain": [
       "[1, 1, 4, 22, 23, 42, 65, 222]"
      ]
     },
     "execution_count": 4,
     "metadata": {},
     "output_type": "execute_result"
    }
   ],
   "source": [
    "a = [22,4,1,23,1,222,65,42]\n",
    "\n",
    "a.sort()\n",
    "\n",
    "a"
   ]
  },
  {
   "cell_type": "code",
   "execution_count": 5,
   "id": "401dee90",
   "metadata": {},
   "outputs": [
    {
     "data": {
      "text/plain": [
       "[222, 65, 42, 23, 22, 4, 1, 1]"
      ]
     },
     "execution_count": 5,
     "metadata": {},
     "output_type": "execute_result"
    }
   ],
   "source": [
    "a.sort(reverse=True)\n",
    "a"
   ]
  },
  {
   "cell_type": "code",
   "execution_count": 8,
   "id": "d2ed46d2",
   "metadata": {},
   "outputs": [
    {
     "data": {
      "text/plain": [
       "['date', 'apple', 'banana', 'cherry']"
      ]
     },
     "execution_count": 8,
     "metadata": {},
     "output_type": "execute_result"
    }
   ],
   "source": [
    "fruits = ['apple', 'banana', 'cherry', 'date']\n",
    "\n",
    "fruits.sort(key=lambda x: len(x))\n",
    "fruits"
   ]
  },
  {
   "cell_type": "markdown",
   "id": "8906f5c2",
   "metadata": {},
   "source": [
    "### `map()` Function in Python\n",
    "\n",
    "- The `map()` function allows you to apply a function to every item in an iterable (like a list) without using a loop.\n",
    "\n",
    "- function – the function to apply to each item\n",
    "\n",
    "- iterable – the list or sequence of items to be processed\n",
    "\n",
    "- 📌 It returns a map object, so you typically convert it to a list (or another container) to see the result.\n",
    "\n",
    "Syntax\n",
    "`map(function, iterable)`"
   ]
  },
  {
   "cell_type": "code",
   "execution_count": 9,
   "id": "2c6b60a5",
   "metadata": {},
   "outputs": [
    {
     "name": "stdout",
     "output_type": "stream",
     "text": [
      "[1, 4, 9, 16, 25]\n"
     ]
    }
   ],
   "source": [
    "numbers = [1, 2, 3, 4, 5]\n",
    "squared = list(map(lambda x: x * x, numbers))\n",
    "print(squared)  # Output: [1, 4, 9, 16, 25]\n"
   ]
  },
  {
   "cell_type": "markdown",
   "id": "d7d61ef9",
   "metadata": {},
   "source": [
    "### `zip()` Function in Python\n",
    "\n",
    "- The `zip()` function is used to combine multiple iterables (like lists or tuples) element-wise into a single iterable of tuples.\n",
    "\n",
    "Syntax \n",
    "\n",
    "`zip(iterable1, iterable2, ...)`"
   ]
  },
  {
   "cell_type": "code",
   "execution_count": 10,
   "id": "1826c12f",
   "metadata": {},
   "outputs": [
    {
     "name": "stdout",
     "output_type": "stream",
     "text": [
      "[('Alice', 85), ('Bob', 90), ('Charlie', 95)]\n"
     ]
    }
   ],
   "source": [
    "names = [\"Alice\", \"Bob\", \"Charlie\"]\n",
    "scores = [85, 90, 95]\n",
    "\n",
    "combined = list(zip(names, scores))\n",
    "print(combined)  # Output: [('Alice', 85), ('Bob', 90), ('Charlie', 95)]\n"
   ]
  },
  {
   "cell_type": "markdown",
   "id": "916e06cd",
   "metadata": {},
   "source": [
    "### Unpacking in Python\n",
    "\n",
    "- Unpacking is the process of assigning values from an iterable (like a list, tuple, or set) to multiple variables in a single statement."
   ]
  },
  {
   "cell_type": "code",
   "execution_count": 11,
   "id": "b05bc80d",
   "metadata": {},
   "outputs": [
    {
     "name": "stdout",
     "output_type": "stream",
     "text": [
      "(1, 'monal') (2, 'hello') (3, 100)\n"
     ]
    }
   ],
   "source": [
    "nums = [(1,\"monal\"),(2,\"hello\"),(3, 100)]\n",
    "\n",
    "print(*nums)"
   ]
  },
  {
   "cell_type": "markdown",
   "id": "5863f1b1",
   "metadata": {},
   "source": [
    "### List Comprehension in Python\n",
    "- List comprehension is a concise and efficient way to create lists by applying an expression to each item in an iterable (like a list, tuple, or range), optionally filtering items using conditions.\n",
    "\n",
    "Syntax \n",
    "`new_list = [expression for item in iterable if condition]`"
   ]
  },
  {
   "cell_type": "code",
   "execution_count": 12,
   "id": "381091db",
   "metadata": {},
   "outputs": [
    {
     "data": {
      "text/plain": [
       "[2, 2, 3, 4, 11, 234]"
      ]
     },
     "execution_count": 12,
     "metadata": {},
     "output_type": "execute_result"
    }
   ],
   "source": [
    "nums = [1,1,1,1,1,2,2,3,4,1,1,11,234,1]\n",
    "\n",
    "new_list = [i for i in nums if i !=1]\n",
    "\n",
    "new_list\n"
   ]
  },
  {
   "cell_type": "markdown",
   "id": "240b8cbe",
   "metadata": {},
   "source": [
    "### Dictionary Comprehension in Python\n",
    "\n",
    "- Dictionary comprehension is a concise method to construct dictionaries dynamically from iterables, just like list comprehensions, but with key-value pairs.\n",
    "\n",
    "Syntax : `new_dict = {key_expr: value_expr for item in iterable if condition}`"
   ]
  },
  {
   "cell_type": "code",
   "execution_count": 13,
   "id": "28ea47dd",
   "metadata": {},
   "outputs": [
    {
     "data": {
      "text/plain": [
       "{'Monal': 110, 'Gagan': 200, 'Hello': 0}"
      ]
     },
     "execution_count": 13,
     "metadata": {},
     "output_type": "execute_result"
    }
   ],
   "source": [
    "names = [\"monal\", \"gagan\", \"hello\"]\n",
    "scores = [10, 100, -100]\n",
    "\n",
    "result = {name.capitalize() : score+100 for name, score in zip(names, scores)}\n",
    "\n",
    "result"
   ]
  }
 ],
 "metadata": {
  "kernelspec": {
   "display_name": "Python 3",
   "language": "python",
   "name": "python3"
  },
  "language_info": {
   "codemirror_mode": {
    "name": "ipython",
    "version": 3
   },
   "file_extension": ".py",
   "mimetype": "text/x-python",
   "name": "python",
   "nbconvert_exporter": "python",
   "pygments_lexer": "ipython3",
   "version": "3.12.0"
  }
 },
 "nbformat": 4,
 "nbformat_minor": 5
}
