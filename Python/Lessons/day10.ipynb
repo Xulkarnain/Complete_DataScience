{
 "cells": [
  {
   "cell_type": "markdown",
   "id": "915b263f",
   "metadata": {},
   "source": [
    "### 📂 Introduction to File Operations in Python\n",
    "- What are File Operations?\n",
    "- File Operations allow a Python program to create, read, write, append, and delete files.\n",
    "\n",
    "- Important for storing data, logging information, or processing external files.\n",
    "\n",
    "- Key Functions:\n",
    "- open(filename, mode): Open a file (mode can be 'r', 'w', 'a', etc.)\n",
    "\n",
    "- ``read()``: Read content from a file.\n",
    "\n",
    "- ``write()``: Write content to a file.\n",
    "\n",
    "- ``close()``: Close the file after operations."
   ]
  },
  {
   "cell_type": "markdown",
   "id": "13337610",
   "metadata": {},
   "source": [
    "## 📂 Understanding `.` `/` and `..` in File Systems\n",
    "\n",
    "### Meaning:\n",
    "- `.` → Refers to the **current directory**.\n",
    "- `..` → Refers to the **parent directory** (one level above).\n",
    "- `/` → Separates directories in a path (common in Unix-like systems).\n",
    "\n",
    "### Examples:\n",
    "- `./file.txt` → Access `file.txt` inside the current working directory.\n",
    "- `../file.txt` → Access `file.txt` from the parent directory.\n",
    "- `/home/user/file.txt` → Absolute path starting from the root directory.\n",
    "\n",
    "### Key Notes:\n",
    "- Windows uses `\\`, but Python handles `/` safely across platforms.\n",
    "- Always use **relative paths** (`.` and `..`) carefully to avoid path errors.\n",
    "\n"
   ]
  },
  {
   "cell_type": "markdown",
   "id": "c88b1d76",
   "metadata": {},
   "source": [
    "### 📂 OS Module: File and Folder Operations\n",
    "\n",
    "- The `os` module provides a way to interact with the operating system.\n",
    "- It helps to **create**, **delete**, **move**, and **inspect** files and folders.\n",
    "\n",
    "#### Common `os` functions:\n",
    "- `os.getcwd()` → Get current working directory.\n",
    "- `os.chdir(path)` → Change the working directory.\n",
    "- `os.listdir(path)` → List files and folders at a path.\n",
    "- `os.mkdir(path)` → Create a new directory.\n",
    "- `os.remove(file_path)` → Delete a file.\n",
    "- `os.rmdir(folder_path)` → Delete an empty folder.\n",
    "- `os.path.exists(path)` → Check if a file/folder exists.\n",
    "\n"
   ]
  },
  {
   "cell_type": "code",
   "execution_count": 1,
   "id": "9f83cb1e",
   "metadata": {},
   "outputs": [
    {
     "data": {
      "text/plain": [
       "['day10.ipynb',\n",
       " 'day11.ipynb',\n",
       " 'day12.py',\n",
       " 'day1_2.ipynb',\n",
       " 'day3_4.ipynb',\n",
       " 'day5.ipynb',\n",
       " 'day6.ipynb',\n",
       " 'day7.ipynb',\n",
       " 'day8.ipynb',\n",
       " 'day9.ipynb']"
      ]
     },
     "execution_count": 1,
     "metadata": {},
     "output_type": "execute_result"
    }
   ],
   "source": [
    "import os\n",
    "\n",
    "os.getcwd()\n",
    "\n",
    "os.listdir() \n",
    "\n"
   ]
  },
  {
   "cell_type": "markdown",
   "id": "74f2f5f5",
   "metadata": {},
   "source": [
    "###  Using `os.path.join()` in Python\n",
    "\n",
    "#### What is `os.path.join()`?\n",
    "- A method from the `os.path` module.\n",
    "- Safely joins two or more parts of a file system path.\n",
    "\n",
    "#### Why use it?\n",
    "-  **Cross-platform compatibility:**  \n",
    "  Automatically uses the correct slash (`\\` for Windows, `/` for Linux/Mac).\n",
    "-  **Avoids manual string errors:**  \n",
    "  No need to manually add slashes between folders.\n",
    "\n"
   ]
  },
  {
   "cell_type": "code",
   "execution_count": 32,
   "id": "4de115b8",
   "metadata": {},
   "outputs": [],
   "source": [
    "file_path = os.path.join(os.getcwd(), 'test.txt')"
   ]
  },
  {
   "cell_type": "markdown",
   "id": "60bea146",
   "metadata": {},
   "source": [
    "- First, we use ```os.path.join(os.getcwd(), another_path)``` to join the current working directory with another relative path (e.g., the filename or subdirectory). This ensures that the path is correctly formed based on the operating system.\n",
    "\n",
    "- We then store this joined path in the file_path variable.\n",
    "\n",
    "- Using ```open(file_path, 'r')```, we open the file in read mode and assign the file object to the variable file.\n",
    "\n",
    "- By calling ```file.read()```, we read the content of the file and store it in the content variable.\n",
    "\n",
    "- Finally, we print the content of the file.\n",
    "\n"
   ]
  },
  {
   "cell_type": "code",
   "execution_count": 55,
   "id": "c39c9d71",
   "metadata": {},
   "outputs": [
    {
     "name": "stdout",
     "output_type": "stream",
     "text": [
      "asfd asdfdf \n",
      "adf ads \n",
      "afda \n"
     ]
    }
   ],
   "source": [
    "\n",
    "file = open(file_path, 'r')\n",
    "\n",
    "data = file.read()\n",
    "print(data)\n"
   ]
  },
  {
   "cell_type": "markdown",
   "id": "55bd2bc3",
   "metadata": {},
   "source": [
    "- ```readline()``` → Reads one line at a time.\n",
    "\n",
    "- ```readlines()``` → Reads all lines into a list where each line is an item.\n",
    "\n",
    "- ``close()`` → Closes the opened file manually to avoid memory leaks or file corruption.\n",
    "\n",
    "- ``split()`` with no arguments → splits on any whitespace (space, \\n, \\t).\n",
    "\n",
    "- ``split('\\n')`` → splits explicitly by newline characters.\n",
    "\n",
    "- If you want to build a dictionary, you need to split the content into key-value pairs manually after splitting."
   ]
  },
  {
   "cell_type": "code",
   "execution_count": 72,
   "id": "1fd32b1f",
   "metadata": {},
   "outputs": [
    {
     "name": "stdout",
     "output_type": "stream",
     "text": [
      "['asfd', 'asdfdf', '\\nadf', 'ads', '\\nafda', '']\n"
     ]
    }
   ],
   "source": [
    "\n",
    "file_path = os.path.join(os.getcwd(), 'test.txt')\n",
    "\n",
    "file = open(file_path, 'r')\n",
    "\n",
    "content = file.read()\n",
    "\n",
    "lis = content.split(\" \")\n",
    "\n",
    "print(lis)\n",
    "\n",
    "file.close()"
   ]
  },
  {
   "cell_type": "markdown",
   "id": "b2712666",
   "metadata": {},
   "source": [
    "### With Operator\n",
    "\n",
    "- with is called a context manager in Python.\n",
    "\n",
    "- When you open a file using with, Python automatically closes the file for you when the block inside the with finishes — no need to call f.close() manually.\n",
    "\n",
    "- This is a safer and cleaner way to handle files because it avoids file leaks and errors if something goes wrong while processing the file.\n",
    "\n",
    "- If an exception happens inside the with block, Python still makes sure the file gets closed properly."
   ]
  },
  {
   "cell_type": "code",
   "execution_count": 75,
   "id": "e00012bf",
   "metadata": {},
   "outputs": [
    {
     "name": "stdout",
     "output_type": "stream",
     "text": [
      "asfd asdfdf \n",
      "adf ads \n",
      "afda \n"
     ]
    }
   ],
   "source": [
    "with open(file_path, 'r') as file:\n",
    "    content = file.read()\n",
    "    print(content)"
   ]
  },
  {
   "cell_type": "markdown",
   "id": "78a0aa39",
   "metadata": {},
   "source": [
    "| Mode          | Meaning        | Behavior |\n",
    "|:--------------|:---------------|:---------|\n",
    "| `'r'`         | Read            | Open the file for reading only. Error if file does not exist. |\n",
    "| `'w'`         | Write           | Open for writing, overwrites (deletes) the existing file. Creates a new file if it doesn’t exist. |\n",
    "| `'a'`         | Append          | Open for appending, adds data at the end of the file without deleting old data. Creates a new file if needed. |\n",
    "| `'r+'`        | Read + Write    | Open for both reading and writing. File must exist. |\n",
    "| `'a+'`        | Append + Read   | Open for reading and appending. Creates a file if not existing. |\n",
    "| `'w+'`        | Write + Read    | Open for reading and writing, but first it deletes everything in the file. |\n",
    "| `'rb'`, `'wb'`, `'ab'` | Binary modes | Same as above, but for binary files like images, videos. |\n"
   ]
  },
  {
   "cell_type": "code",
   "execution_count": 76,
   "id": "cdee75ba",
   "metadata": {},
   "outputs": [
    {
     "name": "stdout",
     "output_type": "stream",
     "text": [
      "asfd asdfdf \n",
      "adf ads \n",
      "afda \n",
      "New data written!\n",
      "Another line appended!\n",
      "Adding more data after reading!\n",
      "Appending and then reading!\n"
     ]
    }
   ],
   "source": [
    "# 'r' mode - Read file\n",
    "with open(file_path, 'r') as f:\n",
    "    print(f.read())\n",
    "\n",
    "# 'w' mode - Write (deletes previous content)\n",
    "with open(file_path, 'w') as f:\n",
    "    f.write('New data written!')\n",
    "\n",
    "# 'a' mode - Append at the end\n",
    "with open(file_path, 'a') as f:\n",
    "    f.write('\\nAnother line appended!')\n",
    "\n",
    "# 'r+' mode - Read and then write\n",
    "with open(file_path, 'r+') as f:\n",
    "    content = f.read()\n",
    "    f.write('\\nAdding more data after reading!')\n",
    "\n",
    "# 'a+' mode - Append and read\n",
    "with open(file_path, 'a+') as f:\n",
    "    f.write('\\nAppending and then reading!')\n",
    "    f.seek(0)  # Move cursor to start\n",
    "    print(f.read())\n"
   ]
  }
 ],
 "metadata": {
  "kernelspec": {
   "display_name": "Python 3",
   "language": "python",
   "name": "python3"
  },
  "language_info": {
   "codemirror_mode": {
    "name": "ipython",
    "version": 3
   },
   "file_extension": ".py",
   "mimetype": "text/x-python",
   "name": "python",
   "nbconvert_exporter": "python",
   "pygments_lexer": "ipython3",
   "version": "3.12.9"
  }
 },
 "nbformat": 4,
 "nbformat_minor": 5
}
