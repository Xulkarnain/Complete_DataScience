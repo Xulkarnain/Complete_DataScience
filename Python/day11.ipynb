{
 "cells": [
  {
   "cell_type": "markdown",
   "id": "b996e21e",
   "metadata": {},
   "source": [
    "### What is try-except in Python?\n",
    "\n",
    "- It is used for exception handling.\n",
    "\n",
    "- try block: You put risky code that might cause errors.\n",
    "\n",
    "- except block: You catch the error and decide how to handle it.\n",
    "\n",
    "- This way, the program doesn't crash and continues running."
   ]
  },
  {
   "cell_type": "code",
   "execution_count": 11,
   "id": "b49a6d70",
   "metadata": {},
   "outputs": [
    {
     "name": "stdout",
     "output_type": "stream",
     "text": [
      "Division by zero is not allowed.\n",
      "This is the end of the program.\n"
     ]
    }
   ],
   "source": [
    "try :\n",
    "    a=0\n",
    "    b=1/a\n",
    "except ZeroDivisionError:\n",
    "    print(\"Division by zero is not allowed.\")\n",
    "\n",
    "print(\"This is the end of the program.\")"
   ]
  },
  {
   "cell_type": "markdown",
   "id": "503ce3cd",
   "metadata": {},
   "source": [
    "### In Python, errors (also called exceptions) can happen during code execution.\n",
    "- We have two ways to handle them:\n",
    "\n",
    "#### 1. General except:\n",
    "Catch any error without caring about the type."
   ]
  },
  {
   "cell_type": "code",
   "execution_count": 10,
   "id": "1dedb767",
   "metadata": {},
   "outputs": [
    {
     "name": "stdout",
     "output_type": "stream",
     "text": [
      "error occured\n",
      "End of program\n"
     ]
    }
   ],
   "source": [
    "try:\n",
    "    a = 0\n",
    "    b = 1 / a\n",
    "    \n",
    "except :\n",
    "    print(\"error occured\")\n",
    "\n",
    "print(\"End of program\")"
   ]
  },
  {
   "cell_type": "markdown",
   "id": "4174a03d",
   "metadata": {},
   "source": [
    "#### 2. Specific except:\n",
    "Catch specific types of errors if you know what could go wrong.\n",
    "(✅ This is the professional way.)"
   ]
  },
  {
   "cell_type": "code",
   "execution_count": 9,
   "id": "7346b1b3",
   "metadata": {},
   "outputs": [
    {
     "name": "stdout",
     "output_type": "stream",
     "text": [
      "ValueError: invalid literal for int() with base 10: 'and'\n",
      "End of program\n"
     ]
    }
   ],
   "source": [
    "try :\n",
    "    a = 'and'\n",
    "    a = int(a)\n",
    "\n",
    "except ValueError :\n",
    "    print(\"ValueError: invalid literal for int() with base 10: 'and'\")\n",
    "\n",
    "print(\"End of program\")\n"
   ]
  },
  {
   "cell_type": "markdown",
   "id": "f294b9eb",
   "metadata": {},
   "source": [
    "### Using except Exception as e: to Catch Errors\n",
    "- In real-world Python coding, many different errors can happen (like ZeroDivisionError, ValueError, FileNotFoundError, etc.).\n",
    "- Writing a separate except block for each possible error would make code very long and messy.\n",
    "- Professional Solution:\n",
    "Use a single generic handler like this:\n",
    "\n",
    "#### What happens here?\n",
    "\n",
    "- Exception is the base class for almost all errors.\n",
    "\n",
    "- e will store the specific error message.\n",
    "\n",
    "- It catches any exception, prints the exact problem, and the rest of the program keeps running safely.\n",
    "\n",
    "-  Why is this better?\n",
    "\n",
    "- Cleaner code.\n",
    "\n",
    "- Better error reporting (print(e) shows exactly what went wrong).\n",
    "\n",
    "- Prevents crashing and gives user-friendly error messages."
   ]
  },
  {
   "cell_type": "code",
   "execution_count": 13,
   "id": "2b82f031",
   "metadata": {},
   "outputs": [
    {
     "name": "stdout",
     "output_type": "stream",
     "text": [
      "Exception: division by zero\n",
      "End of program\n"
     ]
    }
   ],
   "source": [
    "try:\n",
    "    a = 0\n",
    "    b = 1 / a\n",
    "except Exception as e:\n",
    "    print(\"Exception:\", e)\n",
    "\n",
    "print(\"End of program\")"
   ]
  },
  {
   "cell_type": "markdown",
   "id": "f43cd9c0",
   "metadata": {},
   "source": [
    "### The finally block is used in Python to ensure that certain code is always executed, regardless of whether an exception occurred or not in the try or except blocks. This is useful for cleanup actions, such as closing files or releasing resources."
   ]
  },
  {
   "cell_type": "code",
   "execution_count": null,
   "id": "c53d0e3f",
   "metadata": {},
   "outputs": [],
   "source": [
    "try:\n",
    "    file = open(\"file.txt\", \"r\")\n",
    "    content = file.read()\n",
    "except FileNotFoundError:\n",
    "    print(\"File not found.\")\n",
    "finally:\n",
    "    file.close()  # Ensures that the file is closed no matter what\n",
    "    print(\"File closed.\")\n"
   ]
  },
  {
   "cell_type": "markdown",
   "id": "67b5ce52",
   "metadata": {},
   "source": [
    "#### The ```else``` block in Python is used in conjunction with try and except blocks. It is executed only if no exception is raised in the try block. If an exception is raised, the except block handles it, and the else block is skipped. However, if the try block executes successfully without errors, the else block is executed."
   ]
  },
  {
   "cell_type": "code",
   "execution_count": 17,
   "id": "f4dfb331",
   "metadata": {},
   "outputs": [
    {
     "name": "stdout",
     "output_type": "stream",
     "text": [
      "The result of division is 2.5\n",
      "Execution completed.\n"
     ]
    }
   ],
   "source": [
    "try:\n",
    "    number = int(input(\"Enter a number: \"))\n",
    "    result = 10 / number\n",
    "except ZeroDivisionError:\n",
    "    print(\"Cannot divide by zero!\")\n",
    "except ValueError:\n",
    "    print(\"Invalid input! Please enter a number.\")\n",
    "else:\n",
    "    print(f\"The result of division is {result}\")\n",
    "finally:\n",
    "    print(\"Execution completed.\")\n"
   ]
  },
  {
   "cell_type": "markdown",
   "id": "67eb6131",
   "metadata": {},
   "source": [
    "### Raise \n",
    "\n",
    "- raise is used to manually throw an exception. This can be useful when you want to enforce certain conditions in your program and raise an error explicitly if those conditions are not met.\n",
    "\n",
    "- It can be used without a try-except block, meaning you can raise an error anywhere in your code.\n",
    "\n",
    "- You can raise built-in exceptions like ValueError, TypeError, etc., or you can define your own custom exception.\n"
   ]
  },
  {
   "cell_type": "code",
   "execution_count": 18,
   "id": "a4d47f6d",
   "metadata": {},
   "outputs": [
    {
     "ename": "ValueError",
     "evalue": "Age cannot be negative",
     "output_type": "error",
     "traceback": [
      "\u001b[1;31m---------------------------------------------------------------------------\u001b[0m",
      "\u001b[1;31mValueError\u001b[0m                                Traceback (most recent call last)",
      "Cell \u001b[1;32mIn[18], line 6\u001b[0m\n\u001b[0;32m      3\u001b[0m         \u001b[38;5;28;01mraise\u001b[39;00m \u001b[38;5;167;01mValueError\u001b[39;00m(\u001b[38;5;124m\"\u001b[39m\u001b[38;5;124mAge cannot be negative\u001b[39m\u001b[38;5;124m\"\u001b[39m)\n\u001b[0;32m      4\u001b[0m     \u001b[38;5;28mprint\u001b[39m(\u001b[38;5;124mf\u001b[39m\u001b[38;5;124m\"\u001b[39m\u001b[38;5;124mYour age is \u001b[39m\u001b[38;5;132;01m{\u001b[39;00mage\u001b[38;5;132;01m}\u001b[39;00m\u001b[38;5;124m\"\u001b[39m)\n\u001b[1;32m----> 6\u001b[0m \u001b[43mcheck_age\u001b[49m\u001b[43m(\u001b[49m\u001b[38;5;241;43m-\u001b[39;49m\u001b[38;5;241;43m5\u001b[39;49m\u001b[43m)\u001b[49m  \u001b[38;5;66;03m# This will raise the ValueError and stop further execution\u001b[39;00m\n",
      "Cell \u001b[1;32mIn[18], line 3\u001b[0m, in \u001b[0;36mcheck_age\u001b[1;34m(age)\u001b[0m\n\u001b[0;32m      1\u001b[0m \u001b[38;5;28;01mdef\u001b[39;00m\u001b[38;5;250m \u001b[39m\u001b[38;5;21mcheck_age\u001b[39m(age):\n\u001b[0;32m      2\u001b[0m     \u001b[38;5;28;01mif\u001b[39;00m age \u001b[38;5;241m<\u001b[39m \u001b[38;5;241m0\u001b[39m:\n\u001b[1;32m----> 3\u001b[0m         \u001b[38;5;28;01mraise\u001b[39;00m \u001b[38;5;167;01mValueError\u001b[39;00m(\u001b[38;5;124m\"\u001b[39m\u001b[38;5;124mAge cannot be negative\u001b[39m\u001b[38;5;124m\"\u001b[39m)\n\u001b[0;32m      4\u001b[0m     \u001b[38;5;28mprint\u001b[39m(\u001b[38;5;124mf\u001b[39m\u001b[38;5;124m\"\u001b[39m\u001b[38;5;124mYour age is \u001b[39m\u001b[38;5;132;01m{\u001b[39;00mage\u001b[38;5;132;01m}\u001b[39;00m\u001b[38;5;124m\"\u001b[39m)\n",
      "\u001b[1;31mValueError\u001b[0m: Age cannot be negative"
     ]
    }
   ],
   "source": [
    "def check_age(age):\n",
    "    if age < 0:\n",
    "        raise ValueError(\"Age cannot be negative\")\n",
    "    print(f\"Your age is {age}\")\n",
    "\n",
    "check_age(-5)  # This will raise the ValueError and stop further execution\n"
   ]
  },
  {
   "cell_type": "markdown",
   "id": "1288e2da",
   "metadata": {},
   "source": [
    "### raise SystemExit()\n",
    "\n",
    "- SystemExit is a built-in exception in Python that is used to exit the program.\n",
    "\n",
    "- When raise SystemExit() is called, Python will stop execution and exit the program. You can also pass a message to SystemExit() to display a custom exit message."
   ]
  },
  {
   "cell_type": "code",
   "execution_count": 19,
   "id": "2295d348",
   "metadata": {},
   "outputs": [
    {
     "name": "stdout",
     "output_type": "stream",
     "text": [
      "Exiting the program...\n"
     ]
    }
   ],
   "source": [
    "def check_input(value):\n",
    "    if value == \"exit\":\n",
    "        raise SystemExit(\"Exiting the program...\")  # This will stop the program and print the message\n",
    "    else:\n",
    "        print(\"Continuing the program\")\n",
    "\n",
    "try:\n",
    "    user_input = input(\"Enter 'exit' to quit: \")\n",
    "    check_input(user_input)\n",
    "except SystemExit as e:\n",
    "    print(e)  # This will catch the SystemExit and print the message\n"
   ]
  },
  {
   "cell_type": "markdown",
   "id": "8a0180dd",
   "metadata": {},
   "source": [
    "### Python Script:\n",
    "\n",
    "A Python script is a simple .py file containing a sequence of Python code that is executed from top to bottom. This is in contrast to an interactive environment like Jupyter Notebook (.ipynb), where you can run specific blocks of code out of order. In a script, the code is executed line by line starting from the top and running to the bottom unless controlled by flow structures (loops, functions, conditionals).\n",
    "\n",
    "Key Points about Python Script:\n",
    "File Extension: Python scripts usually have a .py extension.\n",
    "\n",
    "Execution: Python scripts are executed sequentially, meaning that the code runs from top to bottom.\n",
    "\n",
    "Environment: It runs in a terminal or IDE, and you typically execute the entire file at once."
   ]
  }
 ],
 "metadata": {
  "kernelspec": {
   "display_name": "Python 3",
   "language": "python",
   "name": "python3"
  },
  "language_info": {
   "codemirror_mode": {
    "name": "ipython",
    "version": 3
   },
   "file_extension": ".py",
   "mimetype": "text/x-python",
   "name": "python",
   "nbconvert_exporter": "python",
   "pygments_lexer": "ipython3",
   "version": "3.12.9"
  }
 },
 "nbformat": 4,
 "nbformat_minor": 5
}
