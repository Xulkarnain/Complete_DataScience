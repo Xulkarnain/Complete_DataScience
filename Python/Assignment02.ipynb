{
 "cells": [
  {
   "cell_type": "markdown",
   "id": "2a1603d4",
   "metadata": {},
   "source": [
    "#### 📘 Assignment 1 - Day 8\n",
    "\n",
    "##### 🧾 Task:\n",
    "1. **Create a register** containing a list of 10 names using a **dictionary**. Call it `Student_Data`.\n",
    "2. The dictionary must include both the **student ID** (as key) and the **student name** (as value).\n",
    "3. **Create a list of defaulters** using a `for` loop, then print a list of names considered.\n",
    "\n",
    "> **Note**: The output should be a list of names that have been considered for attendance.\n"
   ]
  },
  {
   "cell_type": "code",
   "execution_count": 36,
   "id": "d453bd84",
   "metadata": {},
   "outputs": [
    {
     "name": "stdout",
     "output_type": "stream",
     "text": [
      "zulkarnain\n",
      "Monal\n",
      "Mayank\n",
      "ali\n",
      "faheem\n",
      "ifham\n",
      "Aseef\n"
     ]
    }
   ],
   "source": [
    "student_data = {\n",
    "    1 : \"zulkarnain\" ,\n",
    "    2 : \"Monal\" ,\n",
    "    3 : \"Mayank\" ,\n",
    "    4 : \"ali\" ,\n",
    "    5 : \"ahmed\" ,\n",
    "    6 : \"sadiq\" ,\n",
    "    7 : \"saad\" ,\n",
    "    8 : \"faheem\" ,\n",
    "    9 : \"ifham\" ,\n",
    "    10 : \"Aseef\" ,\n",
    "}\n",
    "\n",
    "default = [5,6,7]\n",
    "\n",
    "for key , value in student_data.items():\n",
    "    if key in default:\n",
    "        continue\n",
    "    print(value)"
   ]
  },
  {
   "cell_type": "markdown",
   "id": "1138608b",
   "metadata": {},
   "source": [
    "### 🧩 Assignment 2: Pyramid Pattern\n",
    "\n",
    "#### 📝 Task:\n",
    "Write a Python program to create a **centered pyramid pattern** using asterisks (`*`).  \n",
    "The pyramid should:\n",
    "- Be centered\n",
    "- Have `n` rows (value taken from user input)\n",
    "\n",
    "#### 💻 Python Code:\n",
    "\n",
    "```python\n",
    "    *\n",
    "   ***\n",
    "  *****\n",
    " *******\n",
    "*********\n",
    "\n",
    "\n"
   ]
  },
  {
   "cell_type": "code",
   "execution_count": 35,
   "id": "b51fca0b",
   "metadata": {},
   "outputs": [
    {
     "name": "stdout",
     "output_type": "stream",
     "text": [
      "     *     \n",
      "    ***    \n",
      "   *****   \n",
      "  *******  \n",
      " ********* \n",
      "***********\n"
     ]
    }
   ],
   "source": [
    "a = int(input(\"enter number of rows: \"))\n",
    "\n",
    "i=1\n",
    "for j in range(1,a+a,+2):\n",
    "    print(\" \" * (a-i) + \"*\" * j + \" \" * (a-i)) \n",
    "    i += 1"
   ]
  },
  {
   "cell_type": "markdown",
   "id": "70891561",
   "metadata": {},
   "source": [
    "### Assignment 3\n",
    "\n",
    "Modify your solution from Assignment 2 so that the **trailing spaces on the right** of each row are replaced with **underscores (`_`)** instead.  \n",
    "The **total width** of each line should remain the same as in Assignment 2.\n",
    "\n",
    "#### Example:\n",
    "For input `n = 5`, the output should look like:\n",
    "\n",
    "```python\n",
    "    *____\n",
    "   ***___\n",
    "  *****__\n",
    " *******_\n",
    "*********"
   ]
  },
  {
   "cell_type": "code",
   "execution_count": 34,
   "id": "95c54c35",
   "metadata": {},
   "outputs": [
    {
     "name": "stdout",
     "output_type": "stream",
     "text": [
      "    *____\n",
      "   ***___\n",
      "  *****__\n",
      " *******_\n",
      "*********\n"
     ]
    }
   ],
   "source": [
    "n = int(input(\"enter number of rows: \"))\n",
    "\n",
    "a=1 \n",
    "\n",
    "for i in range(1 , n+n , +2):\n",
    "    print(\" \" * (n-a) + \"*\" * i + \"_\" * (n-a))\n",
    "    a += 1"
   ]
  }
 ],
 "metadata": {
  "kernelspec": {
   "display_name": "Python 3",
   "language": "python",
   "name": "python3"
  },
  "language_info": {
   "codemirror_mode": {
    "name": "ipython",
    "version": 3
   },
   "file_extension": ".py",
   "mimetype": "text/x-python",
   "name": "python",
   "nbconvert_exporter": "python",
   "pygments_lexer": "ipython3",
   "version": "3.12.9"
  }
 },
 "nbformat": 4,
 "nbformat_minor": 5
}
