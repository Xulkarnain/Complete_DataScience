{
 "cells": [
  {
   "cell_type": "markdown",
   "metadata": {},
   "source": [
    "Functions : these are block of code which can be used again and again without repeating them \n"
   ]
  },
  {
   "cell_type": "code",
   "execution_count": 2,
   "metadata": {},
   "outputs": [
    {
     "name": "stdout",
     "output_type": "stream",
     "text": [
      "hello\n",
      "This is a python course\n"
     ]
    }
   ],
   "source": [
    "def greet_user():\n",
    "    print(\"hello\")\n",
    "    print(\"This is a python course\")\n",
    "\n",
    "greet_user()"
   ]
  },
  {
   "cell_type": "markdown",
   "metadata": {},
   "source": [
    "Passing parameters : passing argument to make it easier to work with the information we already have"
   ]
  },
  {
   "cell_type": "code",
   "execution_count": 3,
   "metadata": {},
   "outputs": [
    {
     "name": "stdout",
     "output_type": "stream",
     "text": [
      "hello John\n",
      "This is a python course\n"
     ]
    }
   ],
   "source": [
    "def greet_user(username):\n",
    "    print(f\"hello {username}\")\n",
    "    print(\"This is a python course\")\n",
    "username = \"John\"\n",
    "greet_user(username)"
   ]
  },
  {
   "cell_type": "markdown",
   "metadata": {},
   "source": [
    "Keywor argument : A keyword argument is an argument passed to a function using a parameter name followed by a value (key=value). This makes the function call more readable and flexible.\n",
    "\n",
    "1. Order does not matter (as long as the correct parameter names are used).\n",
    "2. Improves readability by specifying argument names.\n",
    "3. Allows default values (optional arguments).\n",
    "4. Can be combined with positional arguments (but keyword arguments must come after positional arguments)."
   ]
  },
  {
   "cell_type": "code",
   "execution_count": null,
   "metadata": {},
   "outputs": [],
   "source": [
    "def name_rollno(name , rollno=0):\n",
    "    print(f\"My name is {name} and my rollno is {rollno}\")\n",
    "\n",
    "name_rollno(name = \"zul \" , rollno = 123)\n",
    "name_rollno(rollno = 123 , name = \"zul \")\n",
    "name_rollno(\"zul\")"
   ]
  },
  {
   "cell_type": "markdown",
   "metadata": {},
   "source": [
    "Return statement : return the value from function "
   ]
  },
  {
   "cell_type": "code",
   "execution_count": null,
   "metadata": {},
   "outputs": [],
   "source": [
    "def square (x):\n",
    "    return x * x\n",
    "\n",
    "print(square(5))"
   ]
  },
  {
   "cell_type": "markdown",
   "metadata": {},
   "source": [
    "Reusable function "
   ]
  },
  {
   "cell_type": "code",
   "execution_count": 11,
   "metadata": {},
   "outputs": [
    {
     "name": "stdout",
     "output_type": "stream",
     "text": [
      "😊\n"
     ]
    }
   ],
   "source": [
    "def emoji(symbol):\n",
    "    words = {\n",
    "        \":)\" : \"😊\",\n",
    "        \":(\" : \"😢\"\n",
    "    }\n",
    "    return words.get(symbol , \"😐\")\n",
    "\n",
    "symbol = input(\"Enter the symbol : \")\n",
    "print(emoji(symbol))"
   ]
  },
  {
   "cell_type": "code",
   "execution_count": null,
   "metadata": {},
   "outputs": [],
   "source": []
  }
 ],
 "metadata": {
  "kernelspec": {
   "display_name": "Python 3",
   "language": "python",
   "name": "python3"
  },
  "language_info": {
   "codemirror_mode": {
    "name": "ipython",
    "version": 3
   },
   "file_extension": ".py",
   "mimetype": "text/x-python",
   "name": "python",
   "nbconvert_exporter": "python",
   "pygments_lexer": "ipython3",
   "version": "3.12.9"
  }
 },
 "nbformat": 4,
 "nbformat_minor": 2
}
