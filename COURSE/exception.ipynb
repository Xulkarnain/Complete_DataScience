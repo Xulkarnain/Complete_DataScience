{
 "cells": [
  {
   "cell_type": "markdown",
   "metadata": {},
   "source": [
    "##### **Exception/Error Handling in Python** : Exception handling in Python is used to gracefully handle runtime errors and prevent crashes. It is done using try, except, finally, and else blocks.\n",
    "\n",
    "1. **try** → Contains the code that might raise an exception.\n",
    "2. **except** → Catches specific exceptions and handles them.\n",
    "3. **else** → Runs only if no exception occurs.\n",
    "4. **finally** → Always executes (used for cleanup operations).\n"
   ]
  },
  {
   "cell_type": "code",
   "execution_count": 5,
   "metadata": {},
   "outputs": [
    {
     "name": "stdout",
     "output_type": "stream",
     "text": [
      "Error: Invalid input! Please enter a number.\n"
     ]
    }
   ],
   "source": [
    "try:\n",
    "    # Code that may raise an error\n",
    "    num = int(input(\"Enter a number: \"))  \n",
    "    result = 10 / num  \n",
    "except ZeroDivisionError:\n",
    "    print(\"Error: Cannot divide by zero!\")\n",
    "except ValueError:\n",
    "    print(\"Error: Invalid input! Please enter a number.\")\n",
    "except Exception as e:  \n",
    "    print(f\"An unexpected error occurred: {e}\")\n",
    "\n"
   ]
  },
  {
   "cell_type": "markdown",
   "metadata": {},
   "source": [
    "```python\n",
    "\n",
    "ZeroDivisionError\t    Dividing by zero\n",
    "ValueError\t            Invalid data type (e.g., int(\"abc\"))\n",
    "IndexError\t            Accessing an invalid list index\n",
    "KeyError\t            Accessing a missing key in a dictionary\n",
    "FileNotFoundError\t    Trying to open a non-existent file\n",
    "```"
   ]
  },
  {
   "cell_type": "markdown",
   "metadata": {},
   "source": []
  }
 ],
 "metadata": {
  "kernelspec": {
   "display_name": "Python 3",
   "language": "python",
   "name": "python3"
  },
  "language_info": {
   "codemirror_mode": {
    "name": "ipython",
    "version": 3
   },
   "file_extension": ".py",
   "mimetype": "text/x-python",
   "name": "python",
   "nbconvert_exporter": "python",
   "pygments_lexer": "ipython3",
   "version": "3.12.9"
  }
 },
 "nbformat": 4,
 "nbformat_minor": 2
}
