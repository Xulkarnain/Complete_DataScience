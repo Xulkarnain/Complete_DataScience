{
 "cells": [
  {
   "cell_type": "markdown",
   "metadata": {},
   "source": [
    "##### Class \n",
    "\n",
    "**A class is a blueprint for creating objects. Objects represent real-world entities with attributes (variables) and methods (functions).**\n",
    "\n",
    "**Class → Blueprint (e.g., \"Car\" is a class).**\n",
    "\n",
    "**Object → An instance of a class (e.g., my_car is an object).**"
   ]
  },
  {
   "cell_type": "code",
   "execution_count": 4,
   "metadata": {},
   "outputs": [
    {
     "name": "stdout",
     "output_type": "stream",
     "text": [
      "Hello, my name is John and I am 78 years old.\n"
     ]
    },
    {
     "data": {
      "text/plain": [
       "'<Person(John, 78)>'"
      ]
     },
     "execution_count": 4,
     "metadata": {},
     "output_type": "execute_result"
    }
   ],
   "source": [
    "class Person:\n",
    "    def __init__(self, name, age):\n",
    "        self.name = name\n",
    "        self.age = age\n",
    "\n",
    "    def say_hello(self):\n",
    "        print(f\"Hello, my name is {self.name} and I am {self.age} years old.\")\n",
    "\n",
    "    def __str__(self):\n",
    "        return f\"Person({self.name}, {self.age})\"\n",
    "\n",
    "    def __repr__(self):\n",
    "        return f\"<Person({self.name}, {self.age})>\"\n",
    "\n",
    "\n",
    "Person(\"John\", 78)\n",
    "\n",
    "p.say_hello()\n",
    "\n",
    "p.__str__()\n",
    "p.__repr__()\n"
   ]
  },
  {
   "cell_type": "markdown",
   "metadata": {},
   "source": [
    "##### Constructor in Python (__init__ method)\n",
    "\n",
    "**A constructor is a special method in Python that is automatically called when an object of a class is created. In Python, the constructor method is __init__().**"
   ]
  },
  {
   "cell_type": "code",
   "execution_count": 8,
   "metadata": {},
   "outputs": [
    {
     "name": "stdout",
     "output_type": "stream",
     "text": [
      "Car name: toyota, Model: corola, Year: 2000\n"
     ]
    }
   ],
   "source": [
    "class car:\n",
    "    def __init__(self,name,model,year):\n",
    "        self.name = name\n",
    "        self.model = model\n",
    "        self.year = year\n",
    "\n",
    "    def display(self):\n",
    "        print(f\"Car name: {self.name}, Model: {self.model}, Year: {self.year}\")\n",
    "\n",
    "\n",
    "car_name = input(\"Enter car name: \")\n",
    "car_model = input(\"Enter car model: \")\n",
    "car_year = int(input(\"Enter car year: \"))\n",
    "\n",
    "car1 = car(car_name,car_model,car_year)\n",
    "car1.display()\n"
   ]
  },
  {
   "cell_type": "markdown",
   "metadata": {},
   "source": [
    "**🔹 __init__ is called automatically when Car object is created.**\n",
    "\n",
    "**🔹 The self keyword represents the instance of the class.**"
   ]
  },
  {
   "cell_type": "code",
   "execution_count": 10,
   "metadata": {},
   "outputs": [
    {
     "name": "stdout",
     "output_type": "stream",
     "text": [
      "Labrador\n",
      "Beagle\n",
      "Buddy says Woof! I am Labrador.\n"
     ]
    }
   ],
   "source": [
    "class Dog:\n",
    "    def __init__(self, name, breed=\"Labrador\"):\n",
    "        self.name = name\n",
    "        self.breed = breed\n",
    "\n",
    "    def bark(self):\n",
    "        print(f\"{self.name} says Woof! I am {self.breed}.\")\n",
    "\n",
    "dog1 = Dog(\"Buddy\")  # Uses default breed: Labrador\n",
    "dog2 = Dog(\"Charlie\", \"Beagle\")\n",
    "\n",
    "print(dog1.breed)  # Labrador\n",
    "print(dog2.breed)  # Beagle\n",
    "dog1.bark()  # Buddy says Woof!\n"
   ]
  },
  {
   "cell_type": "markdown",
   "metadata": {},
   "source": [
    "**🔹 Default values can be assigned in the constructor (breed=\"Labrador\").**"
   ]
  }
 ],
 "metadata": {
  "kernelspec": {
   "display_name": "Python 3",
   "language": "python",
   "name": "python3"
  },
  "language_info": {
   "codemirror_mode": {
    "name": "ipython",
    "version": 3
   },
   "file_extension": ".py",
   "mimetype": "text/x-python",
   "name": "python",
   "nbconvert_exporter": "python",
   "pygments_lexer": "ipython3",
   "version": "3.12.9"
  }
 },
 "nbformat": 4,
 "nbformat_minor": 2
}
