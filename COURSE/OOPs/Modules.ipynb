{
 "cells": [
  {
   "cell_type": "markdown",
   "metadata": {},
   "source": [
    "**Modules in Python**\n",
    "\n",
    "A module in Python is a file containing Python code (functions, classes, or variables) that can be imported and reused in other Python programs. This helps in organizing code and improving reusability."
   ]
  },
  {
   "cell_type": "code",
   "execution_count": 1,
   "metadata": {},
   "outputs": [],
   "source": [
    "class utilities:\n",
    "    def max_in_array(self, arr):\n",
    "        max = arr[0]\n",
    "        for i in arr:\n",
    "            if i > max:\n",
    "                max = i\n",
    "        return max\n",
    "\n",
    "    def min_in_array(self, arr):    \n",
    "        min = arr[0]\n",
    "        for i in arr:\n",
    "            if i < min:\n",
    "                min = i\n",
    "        return min"
   ]
  }
 ],
 "metadata": {
  "kernelspec": {
   "display_name": "Python 3",
   "language": "python",
   "name": "python3"
  },
  "language_info": {
   "codemirror_mode": {
    "name": "ipython",
    "version": 3
   },
   "file_extension": ".py",
   "mimetype": "text/x-python",
   "name": "python",
   "nbconvert_exporter": "python",
   "pygments_lexer": "ipython3",
   "version": "3.12.9"
  }
 },
 "nbformat": 4,
 "nbformat_minor": 2
}
