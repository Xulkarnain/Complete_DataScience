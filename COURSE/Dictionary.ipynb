{
 "cells": [
  {
   "cell_type": "markdown",
   "metadata": {},
   "source": [
    "Dictionaries\n",
    "We use dictionaries to store key/value pairs."
   ]
  },
  {
   "cell_type": "code",
   "execution_count": 1,
   "metadata": {},
   "outputs": [],
   "source": [
    "customer = {\n",
    "\"name\": \"John Smith\",\n",
    "\"age\": 30,\n",
    "\"is_verified\": True\n",
    "}\n",
    "\n"
   ]
  },
  {
   "cell_type": "code",
   "execution_count": 4,
   "metadata": {},
   "outputs": [
    {
     "name": "stdout",
     "output_type": "stream",
     "text": [
      "John Smith\n",
      "Jan 1 1980\n"
     ]
    }
   ],
   "source": [
    "print(customer[\"name\"])\n",
    "print(customer.get(\"birthdate\", \"Jan 1 1980\"))\n",
    "customer[\"name\"] = \"Jack Smith\""
   ]
  },
  {
   "cell_type": "markdown",
   "metadata": {},
   "source": [
    "creat a dictionary in which user innputs phone number in int and convert it into words"
   ]
  },
  {
   "cell_type": "code",
   "execution_count": null,
   "metadata": {},
   "outputs": [],
   "source": [
    "phone = input(\"Phone: \")\n",
    "\n",
    "output = \"\"\n",
    "\n",
    "digits_in_words = {\n",
    "    \"1\" : \"One\",\n",
    "    \"2\" : \"Two\",\n",
    "    \"3\" : \"Three\",\n",
    "    \"4\" : \"Four\",\n",
    "    \"5\" : \"Five\",\n",
    "    \"6\" : \"Six\",\n",
    "    \"7\" : \"Seven\",\n",
    "    \"8\" : \"eight\",\n",
    "    \"9\" : \"Nine\"\n",
    "}\n",
    "\n",
    "for ch in phone:\n",
    "    output += digits_in_words.get(ch, \"!\") + \" \"\n",
    "print(output)"
   ]
  }
 ],
 "metadata": {
  "kernelspec": {
   "display_name": "base",
   "language": "python",
   "name": "python3"
  },
  "language_info": {
   "codemirror_mode": {
    "name": "ipython",
    "version": 3
   },
   "file_extension": ".py",
   "mimetype": "text/x-python",
   "name": "python",
   "nbconvert_exporter": "python",
   "pygments_lexer": "ipython3",
   "version": "3.12.7"
  }
 },
 "nbformat": 4,
 "nbformat_minor": 2
}
