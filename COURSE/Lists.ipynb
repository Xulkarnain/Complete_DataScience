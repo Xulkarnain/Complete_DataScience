{
 "cells": [
  {
   "cell_type": "markdown",
   "metadata": {},
   "source": [
    "Lists : these are used as array for strings and sccessed as array using indexes"
   ]
  },
  {
   "cell_type": "code",
   "execution_count": 4,
   "metadata": {},
   "outputs": [
    {
     "name": "stdout",
     "output_type": "stream",
     "text": [
      "zulkarnain\n",
      "['furqn', 'aseef', 'gaddar']\n",
      "['furqn', 'aseef', 'gaddar']\n",
      "['zulkarnain', 'furqn', 'aseef']\n"
     ]
    }
   ],
   "source": [
    "name = [\"zulkarnain\", \"furqn\" , \"aseef\", \"gaddar\"]\n",
    "\n",
    "print(name[0])\n",
    "\n",
    "print(name[1:4])\n",
    "\n",
    "print(name[1:])\n",
    "print(name[:3])"
   ]
  },
  {
   "cell_type": "markdown",
   "metadata": {},
   "source": [
    "Write a program to find largest number in a list "
   ]
  },
  {
   "cell_type": "code",
   "execution_count": 10,
   "metadata": {},
   "outputs": [
    {
     "name": "stdout",
     "output_type": "stream",
     "text": [
      "72\n"
     ]
    }
   ],
   "source": [
    "numbers = [1,2,32,4,5,46,72,8,9,10]\n",
    "\n",
    "largest_number = 0\n",
    "\n",
    "for number in numbers:\n",
    "    if number > largest_number :\n",
    "        largest_number = number\n",
    "\n",
    "print(largest_number)"
   ]
  },
  {
   "cell_type": "markdown",
   "metadata": {},
   "source": [
    "2D List : Matrix "
   ]
  },
  {
   "cell_type": "code",
   "execution_count": 11,
   "metadata": {},
   "outputs": [
    {
     "name": "stdout",
     "output_type": "stream",
     "text": [
      "[[3, 2, 1], [6, 5, 4], [9, 8, 7]]\n"
     ]
    }
   ],
   "source": [
    "matrix = [\n",
    "    [3,2,1],\n",
    "    [6,5,4],\n",
    "    [9,8,7]\n",
    "]\n",
    "\n",
    "print(matrix)"
   ]
  },
  {
   "cell_type": "markdown",
   "metadata": {},
   "source": [
    "List methods :\n",
    "\n",
    "\n",
    "1. numbers.insert(0, 6)  adds 6 at index position of 0\n",
    "2. numbers.remove(6)    removes 6\n",
    "3. numbers.pop()        removes the last item\n",
    "4. numbers.clear()      removes all the items\n",
    "5. numbers.index(8)     returns the index of first occurrence of 8\n",
    "6. numbers.sort()       sorts the list\n",
    "7. numbers.reverse()    reverses the list\n",
    "8. numbers.copy()       returns a copy of the list"
   ]
  },
  {
   "cell_type": "code",
   "execution_count": 14,
   "metadata": {},
   "outputs": [
    {
     "name": "stdout",
     "output_type": "stream",
     "text": [
      "[4, 5, 11, 23, 33, 34, 45, 65, 100]\n",
      "[100, 65, 45, 34, 33, 23, 11, 5, 4]\n",
      "[]\n"
     ]
    }
   ],
   "source": [
    "numbers = [45,34,23,4,23,11,5,65,33,53]\n",
    "\n",
    "numbers.insert(0,100)\n",
    "\n",
    "numbers.remove(23)\n",
    "\n",
    "numbers.pop()\n",
    "\n",
    "numbers.index(4)\n",
    "\n",
    "numbers.sort()\n",
    "\n",
    "print(numbers)\n",
    "\n",
    "numbers.reverse()\n",
    "\n",
    "print(numbers)\n",
    "\n",
    "numbers.clear()\n",
    "\n",
    "print(numbers)"
   ]
  },
  {
   "cell_type": "markdown",
   "metadata": {},
   "source": [
    "Write a program to remove dublicates in a List"
   ]
  },
  {
   "cell_type": "code",
   "execution_count": 18,
   "metadata": {},
   "outputs": [
    {
     "name": "stdout",
     "output_type": "stream",
     "text": [
      "[4, 4, 5, 5, 11, 23, 23, 33, 34, 45, 53, 65]\n",
      "Duplicate number is 4\n",
      "Duplicate number is 5\n",
      "Duplicate number is 23\n",
      "[4, 5, 11, 23, 33, 34, 45, 53, 65]\n"
     ]
    }
   ],
   "source": [
    "numbers = [45,34,23,4,23,11,5,5,4,65,33,53]\n",
    "\n",
    "numbers.sort()\n",
    "print(numbers)\n",
    "same_numbers = numbers[0]\n",
    "\n",
    "for number in numbers:\n",
    "    if number == same_numbers:\n",
    "        print(f\"Duplicate number is {number}\")\n",
    "        numbers.remove(number)\n",
    "    same_numbers = number\n",
    "\n",
    "print(numbers)\n",
    "   \n",
    "    "
   ]
  },
  {
   "cell_type": "markdown",
   "metadata": {},
   "source": []
  }
 ],
 "metadata": {
  "kernelspec": {
   "display_name": "Python 3",
   "language": "python",
   "name": "python3"
  },
  "language_info": {
   "codemirror_mode": {
    "name": "ipython",
    "version": 3
   },
   "file_extension": ".py",
   "mimetype": "text/x-python",
   "name": "python",
   "nbconvert_exporter": "python",
   "pygments_lexer": "ipython3",
   "version": "3.12.9"
  }
 },
 "nbformat": 4,
 "nbformat_minor": 2
}
