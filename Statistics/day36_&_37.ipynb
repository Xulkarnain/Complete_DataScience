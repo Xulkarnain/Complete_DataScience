{
 "cells": [
  {
   "cell_type": "markdown",
   "id": "6e822052",
   "metadata": {},
   "source": [
    "# Probabibility of getting Ace in a deck of cards"
   ]
  },
  {
   "cell_type": "code",
   "execution_count": 1,
   "id": "55a557a0",
   "metadata": {},
   "outputs": [
    {
     "name": "stdout",
     "output_type": "stream",
     "text": [
      "0.07692307692307693\n"
     ]
    }
   ],
   "source": [
    "no_of_aces = 4\n",
    "no_of_cards = 52 \n",
    "\n",
    "probability_of_getting_ace = no_of_aces / no_of_cards\n",
    "print(probability_of_getting_ace)"
   ]
  },
  {
   "cell_type": "markdown",
   "id": "de1320f6",
   "metadata": {},
   "source": [
    "# Drawing 2 cards (without replacement)\n",
    "\n",
    "# Event : Both Ace"
   ]
  },
  {
   "cell_type": "code",
   "execution_count": null,
   "id": "9118cd5a",
   "metadata": {},
   "outputs": [
    {
     "name": "stdout",
     "output_type": "stream",
     "text": [
      "0.004524886877828055\n"
     ]
    }
   ],
   "source": [
    "no_of_aces = 4\n",
    "no_of_cards = 52 \n",
    "\n",
    "probability_of_getting_ace = no_of_aces / no_of_cards\n",
    "no_of_aces = 4 - 1 \n",
    "no_of_cards = 52 - 1\n",
    "\n",
    "probability_of_getting_ace = probability_of_getting_ace * (no_of_aces / no_of_cards)\n",
    "print(probability_of_getting_ace)"
   ]
  },
  {
   "cell_type": "markdown",
   "id": "89dc435e",
   "metadata": {},
   "source": [
    "# Drawing 2 cards (with replacement)\n",
    "\n",
    "# Event : Both Ace"
   ]
  },
  {
   "cell_type": "code",
   "execution_count": 7,
   "id": "9b2995b1",
   "metadata": {},
   "outputs": [
    {
     "name": "stdout",
     "output_type": "stream",
     "text": [
      "0.002\n"
     ]
    }
   ],
   "source": [
    "import random\n",
    "def simulate_2_card_with_replacemnt(num_of_simulation):\n",
    "    successful_draw = 0\n",
    "\n",
    "    for _ in range(num_of_simulation):\n",
    "        deck = ['Ace'] * 4 + ['Other'] * 48\n",
    "        first_card_index = random.randrange(len(deck)) # 0 to 51\n",
    "        first_card = deck.pop(first_card_index)\n",
    "        #a = [ 1,2,3,4]\n",
    "        # a.pop(0) --> 1\n",
    "        # a = [2,3,4]\n",
    "        if first_card == 'Ace':\n",
    "            second_card_index = random.randrange(len(deck)) # 0 to 51\n",
    "            second_card = deck.pop(second_card_index)\n",
    "\n",
    "            if second_card == 'Ace':\n",
    "                successful_draw+=1\n",
    "\n",
    "    return successful_draw / num_of_simulation\n",
    "print(simulate_2_card_with_replacemnt(1000))"
   ]
  }
 ],
 "metadata": {
  "kernelspec": {
   "display_name": "Python 3",
   "language": "python",
   "name": "python3"
  },
  "language_info": {
   "codemirror_mode": {
    "name": "ipython",
    "version": 3
   },
   "file_extension": ".py",
   "mimetype": "text/x-python",
   "name": "python",
   "nbconvert_exporter": "python",
   "pygments_lexer": "ipython3",
   "version": "3.12.0"
  }
 },
 "nbformat": 4,
 "nbformat_minor": 5
}
