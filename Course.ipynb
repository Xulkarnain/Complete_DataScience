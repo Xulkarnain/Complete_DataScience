{
 "cells": [
  {
   "cell_type": "markdown",
   "metadata": {},
   "source": [
    "Variables are used to store data  like integer, float, string etc \n"
   ]
  },
  {
   "cell_type": "code",
   "execution_count": 5,
   "metadata": {},
   "outputs": [],
   "source": [
    "Name = \"zulkaranin\"\n",
    "\n",
    "rollno = 37\n",
    "\n",
    "#Boolian values are used to represent the truth values. It can have two values either True or False. It is used to perform logical operations. It is also used to compare values\n",
    "\n",
    "inUniversity = True\n"
   ]
  },
  {
   "cell_type": "code",
   "execution_count": 6,
   "metadata": {},
   "outputs": [
    {
     "name": "stdout",
     "output_type": "stream",
     "text": [
      "zulkaranin\n",
      "37\n"
     ]
    },
    {
     "data": {
      "text/plain": [
       "True"
      ]
     },
     "execution_count": 6,
     "metadata": {},
     "output_type": "execute_result"
    }
   ],
   "source": [
    "print(Name)\n",
    "print(rollno)\n",
    "inUniversity"
   ]
  },
  {
   "cell_type": "markdown",
   "metadata": {},
   "source": [
    "Input function is used for reciving input in a variable \n"
   ]
  },
  {
   "cell_type": "code",
   "execution_count": 2,
   "metadata": {},
   "outputs": [
    {
     "name": "stdout",
     "output_type": "stream",
     "text": [
      "zulkarnain likes black\n"
     ]
    }
   ],
   "source": [
    "Name = input(\" What is your name? \")\n",
    "color = input (\"What is your favorite color? \")\n",
    "\n",
    "print(Name + \" likes \" + color)"
   ]
  },
  {
   "cell_type": "markdown",
   "metadata": {},
   "source": [
    "Type Casting is used to typecast/change incompatible addition of statement we can't a int to str"
   ]
  },
  {
   "cell_type": "code",
   "execution_count": 6,
   "metadata": {},
   "outputs": [
    {
     "name": "stdout",
     "output_type": "stream",
     "text": [
      "51.75\n"
     ]
    }
   ],
   "source": [
    "weight_in_pounds = int(input(\"What is your weight in pounds? \"))\n",
    "\n",
    "weight_in_kg = weight_in_pounds * 0.45\n",
    "\n",
    "print(weight_in_kg)"
   ]
  },
  {
   "cell_type": "markdown",
   "metadata": {},
   "source": [
    "A formatted string allows you to insert variables or expressions inside a string using placeholders. In Python, f-strings (formatted string literals) use the syntax:"
   ]
  },
  {
   "cell_type": "code",
   "execution_count": 2,
   "metadata": {},
   "outputs": [
    {
     "name": "stdout",
     "output_type": "stream",
     "text": [
      "Zulkarnain dar is a coder\n"
     ]
    }
   ],
   "source": [
    "name = \"Zulkarnain\"\n",
    "last_name = \"dar\"\n",
    "\n",
    "msg = f\"{name} {last_name} is a coder\"\n",
    "\n",
    "print(msg)"
   ]
  }
 ],
 "metadata": {
  "kernelspec": {
   "display_name": "Python 3",
   "language": "python",
   "name": "python3"
  },
  "language_info": {
   "codemirror_mode": {
    "name": "ipython",
    "version": 3
   },
   "file_extension": ".py",
   "mimetype": "text/x-python",
   "name": "python",
   "nbconvert_exporter": "python",
   "pygments_lexer": "ipython3",
   "version": "3.12.9"
  }
 },
 "nbformat": 4,
 "nbformat_minor": 2
}
