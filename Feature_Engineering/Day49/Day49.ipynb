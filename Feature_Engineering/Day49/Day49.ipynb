{
 "cells": [
  {
   "cell_type": "markdown",
   "id": "62ee2716",
   "metadata": {},
   "source": [
    "# Feature Scaling \n",
    "\n",
    "Feature Selection is the process of selecting the most relevant and important features (independent variables) from your dataset that have the maximum impact on your target variable.\n",
    "\n",
    "By removing irrelevant or redundant features, we make our model:\n",
    "\n",
    "Simpler 🧠\n",
    "\n",
    "Faster ⚡\n",
    "\n",
    "More generalizable (less overfitting) 🎯\n",
    "\n",
    "🔹 Why It’s Important\n",
    "\n",
    "Too many features can cause:\n",
    "\n",
    "Overfitting → model learns noise, not patterns.\n",
    "\n",
    "Underfitting → model misses important signals (if we remove too much).\n",
    "\n",
    "Increased computation time.\n",
    "\n",
    "So, the goal is to keep only useful features — those that help predict the output effectively."
   ]
  },
  {
   "cell_type": "code",
   "execution_count": 1,
   "id": "2f7a8f42",
   "metadata": {},
   "outputs": [],
   "source": [
    "import pandas as pd\n",
    "import numpy as np\n",
    "from sklearn.preprocessing import StandardScaler\n",
    "import matplotlib.pyplot as plt\n",
    "import seaborn as sns"
   ]
  },
  {
   "cell_type": "code",
   "execution_count": null,
   "id": "b9a12e1b",
   "metadata": {},
   "outputs": [],
   "source": [
    "df = pd.read_csv('D:/Btech_CS/Python/Feature_Engineering/house-prices-advanced-regression-techniques/train.csv')"
   ]
  }
 ],
 "metadata": {
  "kernelspec": {
   "display_name": "Python 3",
   "language": "python",
   "name": "python3"
  },
  "language_info": {
   "codemirror_mode": {
    "name": "ipython",
    "version": 3
   },
   "file_extension": ".py",
   "mimetype": "text/x-python",
   "name": "python",
   "nbconvert_exporter": "python",
   "pygments_lexer": "ipython3",
   "version": "3.12.0"
  }
 },
 "nbformat": 4,
 "nbformat_minor": 5
}
